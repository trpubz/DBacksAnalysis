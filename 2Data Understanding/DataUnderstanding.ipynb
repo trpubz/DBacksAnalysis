{
 "cells": [
  {
   "cell_type": "code",
   "execution_count": 1,
   "metadata": {
    "collapsed": true
   },
   "outputs": [
    {
     "data": {
      "text/plain": "   pitch_type variable  value\n0    4-Seamer    xwOBA  0.316\n1      Slider    xwOBA  0.283\n2    Changeup    xwOBA  0.310\n3      Sinker    xwOBA  0.398\n4   Curveball    xwOBA  0.291\n5      Cutter    xwOBA  0.298\n6    Splitter    xwOBA  0.195\n7    4-Seamer   vs_div  0.306\n8      Slider   vs_div  0.245\n9    Changeup   vs_div  0.301\n10     Sinker   vs_div  0.460\n11  Curveball   vs_div  0.339\n12     Cutter   vs_div  0.293\n13   Splitter   vs_div  0.155\n14   4-Seamer  mlb_avg  0.302\n15     Slider  mlb_avg  0.268\n16   Changeup  mlb_avg  0.268\n17     Sinker  mlb_avg  0.302\n18  Curveball  mlb_avg  0.228\n19     Cutter  mlb_avg  0.284\n20   Splitter  mlb_avg  0.206",
      "text/html": "<div>\n<style scoped>\n    .dataframe tbody tr th:only-of-type {\n        vertical-align: middle;\n    }\n\n    .dataframe tbody tr th {\n        vertical-align: top;\n    }\n\n    .dataframe thead th {\n        text-align: right;\n    }\n</style>\n<table border=\"1\" class=\"dataframe\">\n  <thead>\n    <tr style=\"text-align: right;\">\n      <th></th>\n      <th>pitch_type</th>\n      <th>variable</th>\n      <th>value</th>\n    </tr>\n  </thead>\n  <tbody>\n    <tr>\n      <th>0</th>\n      <td>4-Seamer</td>\n      <td>xwOBA</td>\n      <td>0.316</td>\n    </tr>\n    <tr>\n      <th>1</th>\n      <td>Slider</td>\n      <td>xwOBA</td>\n      <td>0.283</td>\n    </tr>\n    <tr>\n      <th>2</th>\n      <td>Changeup</td>\n      <td>xwOBA</td>\n      <td>0.310</td>\n    </tr>\n    <tr>\n      <th>3</th>\n      <td>Sinker</td>\n      <td>xwOBA</td>\n      <td>0.398</td>\n    </tr>\n    <tr>\n      <th>4</th>\n      <td>Curveball</td>\n      <td>xwOBA</td>\n      <td>0.291</td>\n    </tr>\n    <tr>\n      <th>5</th>\n      <td>Cutter</td>\n      <td>xwOBA</td>\n      <td>0.298</td>\n    </tr>\n    <tr>\n      <th>6</th>\n      <td>Splitter</td>\n      <td>xwOBA</td>\n      <td>0.195</td>\n    </tr>\n    <tr>\n      <th>7</th>\n      <td>4-Seamer</td>\n      <td>vs_div</td>\n      <td>0.306</td>\n    </tr>\n    <tr>\n      <th>8</th>\n      <td>Slider</td>\n      <td>vs_div</td>\n      <td>0.245</td>\n    </tr>\n    <tr>\n      <th>9</th>\n      <td>Changeup</td>\n      <td>vs_div</td>\n      <td>0.301</td>\n    </tr>\n    <tr>\n      <th>10</th>\n      <td>Sinker</td>\n      <td>vs_div</td>\n      <td>0.460</td>\n    </tr>\n    <tr>\n      <th>11</th>\n      <td>Curveball</td>\n      <td>vs_div</td>\n      <td>0.339</td>\n    </tr>\n    <tr>\n      <th>12</th>\n      <td>Cutter</td>\n      <td>vs_div</td>\n      <td>0.293</td>\n    </tr>\n    <tr>\n      <th>13</th>\n      <td>Splitter</td>\n      <td>vs_div</td>\n      <td>0.155</td>\n    </tr>\n    <tr>\n      <th>14</th>\n      <td>4-Seamer</td>\n      <td>mlb_avg</td>\n      <td>0.302</td>\n    </tr>\n    <tr>\n      <th>15</th>\n      <td>Slider</td>\n      <td>mlb_avg</td>\n      <td>0.268</td>\n    </tr>\n    <tr>\n      <th>16</th>\n      <td>Changeup</td>\n      <td>mlb_avg</td>\n      <td>0.268</td>\n    </tr>\n    <tr>\n      <th>17</th>\n      <td>Sinker</td>\n      <td>mlb_avg</td>\n      <td>0.302</td>\n    </tr>\n    <tr>\n      <th>18</th>\n      <td>Curveball</td>\n      <td>mlb_avg</td>\n      <td>0.228</td>\n    </tr>\n    <tr>\n      <th>19</th>\n      <td>Cutter</td>\n      <td>mlb_avg</td>\n      <td>0.284</td>\n    </tr>\n    <tr>\n      <th>20</th>\n      <td>Splitter</td>\n      <td>mlb_avg</td>\n      <td>0.206</td>\n    </tr>\n  </tbody>\n</table>\n</div>"
     },
     "execution_count": 1,
     "metadata": {},
     "output_type": "execute_result"
    }
   ],
   "source": [
    "import pandas as pd\n",
    "\n",
    "# load data\n",
    "km_woba = pd.read_csv('marte_xwoba_type_19-22.csv')\n",
    "km_woba = km_woba.melt('pitch_type')  # melt the data to simplify catplot experience\n",
    "km_woba"
   ]
  },
  {
   "cell_type": "markdown",
   "metadata": {},
   "source": [
    "## Perform Ketel Marte baseline xwOBA graphical analysis"
   ]
  },
  {
   "cell_type": "code",
   "execution_count": 2,
   "metadata": {},
   "outputs": [
    {
     "ename": "AttributeError",
     "evalue": "'FacetGrid' object has no attribute 'refline'",
     "output_type": "error",
     "traceback": [
      "\u001B[0;31m---------------------------------------------------------------------------\u001B[0m",
      "\u001B[0;31mAttributeError\u001B[0m                            Traceback (most recent call last)",
      "Input \u001B[0;32mIn [2]\u001B[0m, in \u001B[0;36m<cell line: 9>\u001B[0;34m()\u001B[0m\n\u001B[1;32m      6\u001B[0m g\u001B[38;5;241m.\u001B[39mset_xticklabels([\u001B[38;5;124m\"\u001B[39m\u001B[38;5;124mK.M. Season\u001B[39m\u001B[38;5;124m\"\u001B[39m, \u001B[38;5;124m\"\u001B[39m\u001B[38;5;124mK.M. vs. NLW\u001B[39m\u001B[38;5;124m\"\u001B[39m, \u001B[38;5;124m\"\u001B[39m\u001B[38;5;124mMLB vs. NLW\u001B[39m\u001B[38;5;124m\"\u001B[39m])\n\u001B[1;32m      8\u001B[0m \u001B[38;5;66;03m# set a refline at KM's Div xwOBA vs. NLW against fastball; first color\u001B[39;00m\n\u001B[0;32m----> 9\u001B[0m \u001B[43mg\u001B[49m\u001B[38;5;241;43m.\u001B[39;49m\u001B[43mrefline\u001B[49m(y\u001B[38;5;241m=\u001B[39m\u001B[38;5;241m0.245\u001B[39m, color\u001B[38;5;241m=\u001B[39msns\u001B[38;5;241m.\u001B[39mcolor_palette()[\u001B[38;5;241m1\u001B[39m])\n\u001B[1;32m     10\u001B[0m \u001B[38;5;66;03m# set a refline at KM's Div xwOBA vs. NLW against curveball; fifth color\u001B[39;00m\n\u001B[1;32m     11\u001B[0m \u001B[38;5;66;03m# g.refline(y=0.203, color=sns.color_palette()[4])\u001B[39;00m\n\u001B[1;32m     12\u001B[0m \u001B[38;5;66;03m# set a refline at KM's Div xwOBA vs. NLW against splitter; seventh color\u001B[39;00m\n\u001B[1;32m     13\u001B[0m g\u001B[38;5;241m.\u001B[39mrefline(y\u001B[38;5;241m=\u001B[39m\u001B[38;5;241m0.155\u001B[39m, color\u001B[38;5;241m=\u001B[39msns\u001B[38;5;241m.\u001B[39mcolor_palette()[\u001B[38;5;241m6\u001B[39m])\n",
      "\u001B[0;31mAttributeError\u001B[0m: 'FacetGrid' object has no attribute 'refline'"
     ]
    },
    {
     "data": {
      "text/plain": "<Figure size 614.25x500 with 1 Axes>",
      "image/png": "[encoded data removed]"
     },
     "metadata": {},
     "output_type": "display_data"
    }
   ],
   "source": [
    "import seaborn as sns\n",
    "import matplotlib.pyplot as plt\n",
    "\n",
    "g = sns.catplot(x='variable', y='value', hue='pitch_type', data=km_woba)\n",
    "g.set_axis_labels(\"\", \"xwOBA\")\n",
    "g.set_xticklabels([\"K.M. Season\", \"K.M. vs. NLW\", \"MLB vs. NLW\"])\n",
    "\n",
    "# set a refline at KM's Div xwOBA vs. NLW against fastball; first color\n",
    "g.refline(y=0.245, color=sns.color_palette()[1])\n",
    "# set a refline at KM's Div xwOBA vs. NLW against curveball; fifth color\n",
    "# g.refline(y=0.203, color=sns.color_palette()[4])\n",
    "# set a refline at KM's Div xwOBA vs. NLW against splitter; seventh color\n",
    "g.refline(y=0.155, color=sns.color_palette()[6])\n",
    "plt.show()"
   ]
  },
  {
   "cell_type": "markdown",
   "metadata": {},
   "source": [
    "## Load training data from the 2021 season and perform Data Understanding and graphical analysis"
   ]
  },
  {
   "cell_type": "code",
   "execution_count": null,
   "metadata": {},
   "outputs": [],
   "source": [
    "km = pd.read_csv('marte_vs_nlwest_19_22.csv').rename(columns={'estimated_woba_using_speedangle': 'xwOBA'})\n",
    "y = pd.DataFrame(km['xwOBA'])\n",
    "# y.rename(columns={'estimated_woba_using_speedangle': 'xwOBA'}, inplace=True)\n",
    "y.fillna(0, inplace=True)  # remove NaN values with 0\n",
    "print(y.describe())"
   ]
  },
  {
   "cell_type": "code",
   "execution_count": null,
   "metadata": {},
   "outputs": [],
   "source": [
    "# release_speed\n",
    "# Pitch velocities from 2008-16 are via Pitch F/X, and adjusted to roughly out-of-hand release point. All velocities from 2017 and beyond are Statcast, which are reported out-of-hand.\n",
    "# release_pos_x\n",
    "# Horizontal Release Position of the ball measured in feet from the catcher's perspective.\n",
    "# release_pos_z\n",
    "# Vertical Release Position of the ball measured in feet from the catcher's perspective.\n",
    "# plate_x\n",
    "# Horizontal position of the ball when it crosses home plate from the catcher's perspective.\n",
    "# plate_z\n",
    "# Vertical position of the ball when it crosses home plate from the catcher's perspective.\n",
    "# pitcher\n",
    "# MLB Player Id tied to the play event.\n",
    "# zone\n",
    "# Zone location of the ball when it crosses the plate from the catcher's perspective.\n",
    "# pfx_x\n",
    "# Horizontal movement in feet from the catcher's perspective.\n",
    "# pfx_z\n",
    "# Vertical movement in feet from the catcher's perpsective.\n",
    "# effective_speed\n",
    "# Derived speed based on the the extension of the pitcher's release.\n",
    "# release_spin\n",
    "# Spin rate of pitch tracked by Statcast.\n",
    "# spin_axis\n",
    "# The Spin Axis in the 2D X-Z plane in degrees from 0 to 360, such that 180 represents a pure backspin fastball and 0 degrees represents a pure topspin (12-6) curveball\n",
    "featureList = ['pitch_type', 'release_speed', 'release_pos_x', 'release_pos_z', 'plate_x', 'plate_z', 'pitcher', 'zone', 'p_throws', 'pfx_x', 'pfx_z', 'effective_speed', 'release_spin_rate', 'pitch_name', 'spin_axis']\n",
    "\n",
    "\n",
    "X = pd.DataFrame(km[featureList])\n",
    "# DataFrame casting appropriate features to category\n",
    "X.pitcher = X.pitcher.astype('category')\n",
    "X.zone = X.zone.astype('category')\n",
    "X.describe()"
   ]
  },
  {
   "cell_type": "code",
   "execution_count": null,
   "metadata": {},
   "outputs": [],
   "source": [
    "# create pairplot DataFrame\n",
    "pp = pd.concat([X, y])\n",
    "sns.pairplot(data=pp)\n",
    "plt.show()"
   ]
  },
  {
   "cell_type": "code",
   "execution_count": null,
   "metadata": {},
   "outputs": [],
   "source": [
    "import ptitprince as pt\n",
    "\n",
    "X_numeric = X.drop(columns=['pitch_type', 'pitcher', 'zone', 'p_throws', 'pitch_name'])\n",
    "\n",
    "X_numeric = (X_numeric - X_numeric.mean()) / X_numeric.std()\n",
    "\n",
    "print(X['pitch_type'])\n",
    "X_numeric.insert(loc=0, column='pitch_type', value=X[['pitch_type']])\n",
    "# print(X_numeric.head())\n",
    "\n",
    "f, ax = plt.subplots(figsize=(8,16))\n",
    "sigma = .25\n",
    "ax = pt.RainCloud(data = X_numeric.drop(columns=['pitch_type']), palette='viridis', scale=\"count\", bw=sigma, width_viol=0.6, orient=\"h\", move=0.2)\n",
    "plt.show()"
   ]
  },
  {
   "cell_type": "code",
   "execution_count": null,
   "metadata": {
    "scrolled": false
   },
   "outputs": [],
   "source": [
    "# X_numeric.head()\n",
    "sns.set_palette('BuPu_r')\n",
    "sns.displot(X_numeric, x='pitch_type', hue='pitch_type')\n",
    "plt.show()"
   ]
  },
  {
   "cell_type": "code",
   "execution_count": null,
   "metadata": {},
   "outputs": [],
   "source": [
    "import plotly.express as px\n",
    "\n",
    "fig = px.treemap(km,\n",
    "                 path=['pitch_type', 'p_throws', 'type'],\n",
    "                 color='release_speed'\n",
    "\n",
    "                 )\n",
    "fig.show()"
   ]
  },
  {
   "cell_type": "code",
   "execution_count": null,
   "metadata": {},
   "outputs": [],
   "source": []
  }
 ],
 "metadata": {
  "kernelspec": {
   "display_name": "Python 3 (ipykernel)",
   "language": "python",
   "name": "python3"
  },
  "language_info": {
   "codemirror_mode": {
    "name": "ipython",
    "version": 3
   },
   "file_extension": ".py",
   "mimetype": "text/x-python",
   "name": "python",
   "nbconvert_exporter": "python",
   "pygments_lexer": "ipython3",
   "version": "3.10.6"
  }
 },
 "nbformat": 4,
 "nbformat_minor": 1
}
