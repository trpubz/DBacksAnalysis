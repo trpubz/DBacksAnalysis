{
 "cells": [
  {
   "cell_type": "code",
   "execution_count": 14,
   "outputs": [
    {
     "name": "stdout",
     "output_type": "stream",
     "text": [
      "data-set shape prior to filtering: (867, 30)\n",
      "data-set shape after to filtering sac hits: (865, 30)\n"
     ]
    }
   ],
   "source": [
    "import pandas as pd\n",
    "\n",
    "marte_raw = pd.read_csv('marte_vs_nlwest_19_22.csv',\n",
    "                        usecols=['pitch_type', 'game_date', 'release_speed', 'release_pos_x', 'release_pos_z', 'pitcher', 'zone', 'des', 'p_throws', 'bb_type', 'balls', 'strikes', 'game_year', 'pfx_x', 'pfx_z', 'hc_x', 'hc_y', 'hit_distance_sc', 'launch_speed', 'launch_angle', 'effective_speed', 'release_spin_rate', 'release_extension', 'estimated_woba_using_speedangle', 'woba_value', 'woba_denom', 'iso_value', 'launch_speed_angle', 'pitch_name', 'spin_axis'])\n",
    "\n",
    "# rename the primary response variable\n",
    "marte_raw.rename(columns={'estimated_woba_using_speedangle': 'xwOBA'}, inplace=True)\n",
    "print(f\"data-set shape prior to filtering: {marte_raw.shape}\")\n",
    "\n",
    "# filter sacrifice events; if woba_denom is NaN, then sacrifice event\n",
    "marte_raw.dropna(axis='rows', subset=['woba_denom'], how='any', inplace=True)\n",
    "print(f\"data-set shape after to filtering sac hits: {marte_raw.shape}\")"
   ],
   "metadata": {
    "collapsed": false
   }
  },
  {
   "cell_type": "markdown",
   "source": [
    "- release_speed\n",
    "    - Pitch velocities from 2008-16 are via Pitch F/X, and adjusted to roughly out-of-hand release point. All velocities from 2017 and beyond are Statcast, which are reported out-of-hand.\n",
    "- release_pos_x\n",
    "    - horizontal Release Position of the ball measured in feet from the catcher's perspective.\n",
    "- release_pos_z\n",
    "    - Vertical Release Position of the ball measured in feet from the catcher's perspective.\n",
    "- plate_x\n",
    "    - Horizontal position of the ball when it crosses home plate from the catcher's perspective.\n",
    "- plate_z\n",
    "    - Vertical position of the ball when it crosses home plate from the catcher's perspective.\n",
    "- pitcher\n",
    "    - MLB Player Id tied to the play event.\n",
    "- zone\n",
    "    - Zone location of the ball when it crosses the plate from the catcher's perspective.\n",
    "- pfx_x\n",
    "    - Horizontal movement in feet from the catcher's perspective.\n",
    "- pfx_z\n",
    "    - Vertical movement in feet from the catcher's perpsective.\n",
    "- effective_speed\n",
    "    - Derived speed based on the the extension of the pitcher's release.\n",
    "- release_spin\n",
    "    - Spin rate of pitch tracked by Statcast.\n",
    "- spin_axis\n",
    "    - The Spin Axis in the 2D X-Z plane in degrees from 0 to 360, such that 180 represents a pure backspin fastball and 0 degrees represents a pure topspin (12-6) curveball"
   ],
   "metadata": {
    "collapsed": false
   }
  },
  {
   "cell_type": "code",
   "execution_count": 28,
   "outputs": [
    {
     "name": "stdout",
     "output_type": "stream",
     "text": [
      "new data-set shape after to filtering for proper metrics: (865, 12)\n",
      "  pitch_type  release_speed  pitcher  zone p_throws  game_year  pfx_x  pfx_z  \\\n",
      "0         SI           92.9   596001     5        R       2022  -1.15   0.68   \n",
      "1         SI           92.6   596001     9        R       2022  -1.05   0.80   \n",
      "2         SI           93.0   596001     8        R       2022  -1.13   0.79   \n",
      "3         SI           93.3   518397     8        L       2022   1.19   0.28   \n",
      "4         SI           94.1   502171     4        R       2022  -1.34   0.45   \n",
      "\n",
      "   release_spin_rate  xwOBA  woba_value  spin_axis     pfx_v  \n",
      "0             2303.0  0.709         0.9      211.0  1.336001  \n",
      "1             2316.0  0.262         0.0      204.0  1.320038  \n",
      "2             2245.0  0.231         0.0      219.0  1.378768  \n",
      "3             2189.0  0.117         0.0      135.0  1.222497  \n",
      "4             2126.0  0.438         0.0      221.0  1.413542  \n"
     ]
    }
   ],
   "source": [
    "import numpy as np\n",
    "\n",
    "# filter raw set with proposed model metrics\n",
    "marte_vs = marte_raw.drop(columns=['game_date', 'release_pos_x', 'release_pos_z', 'des', 'bb_type', 'balls', 'strikes', 'hc_x', 'hc_y', 'hit_distance_sc', 'launch_speed', 'launch_angle', 'effective_speed', 'release_extension', 'woba_denom', 'iso_value', 'launch_speed_angle', 'pitch_name'])\n",
    "print(f\"new data-set shape after to filtering for proper metrics: {marte_vs.shape}\")\n",
    "\n",
    "# vectorize the horizontal & vertical movement using pythagorean theorem\n",
    "marte_vs['pfx_v'] = np.sqrt(marte_vs.pfx_x ** 2 + marte_vs.pfx_z ** 2)\n",
    "print(marte_vs.head())"
   ],
   "metadata": {
    "collapsed": false
   }
  },
  {
   "cell_type": "code",
   "execution_count": 23,
   "outputs": [
    {
     "name": "stdout",
     "output_type": "stream",
     "text": [
      "Train set shape\n",
      " (605, 13) (605,)\n",
      "Test set shape\n",
      " (130, 13) (130,)\n",
      "Houldout set shape\n",
      " (130, 13) (130,)\n",
      "---\n"
     ]
    }
   ],
   "source": [
    "from sklearn.model_selection import train_test_split\n",
    "\n",
    "X = marte_vs.drop(columns=['xwOBA'])\n",
    "y = marte_vs.xwOBA\n",
    "# split data into training and testing sets\n",
    "# 1st split - remove 15% for validation (holdout)\n",
    "X_splitAgain, X_holdOut, y_splitAgain, y_holdOut = train_test_split(\n",
    "    X,\n",
    "    y,\n",
    "    test_size=0.15,\n",
    "    random_state=1642)\n",
    "\n",
    "# 2nd split\n",
    "X_train, X_test, y_train, y_test = train_test_split(\n",
    "    X_splitAgain,\n",
    "    y_splitAgain,\n",
    "    test_size=15/85,\n",
    "    random_state=1642)\n",
    "\n",
    "print('Train set shape\\n',X_train.shape, y_train.shape)\n",
    "print('Test set shape\\n',X_test.shape, y_test.shape)\n",
    "print('Houldout set shape\\n',X_holdOut.shape, y_holdOut.shape)\n",
    "print('---')\n"
   ],
   "metadata": {
    "collapsed": false
   }
  },
  {
   "cell_type": "code",
   "execution_count": null,
   "outputs": [],
   "source": [],
   "metadata": {
    "collapsed": false
   }
  }
 ],
 "metadata": {
  "kernelspec": {
   "display_name": "Python 3",
   "language": "python",
   "name": "python3"
  },
  "language_info": {
   "codemirror_mode": {
    "name": "ipython",
    "version": 2
   },
   "file_extension": ".py",
   "mimetype": "text/x-python",
   "name": "python",
   "nbconvert_exporter": "python",
   "pygments_lexer": "ipython2",
   "version": "2.7.6"
  }
 },
 "nbformat": 4,
 "nbformat_minor": 0
}
