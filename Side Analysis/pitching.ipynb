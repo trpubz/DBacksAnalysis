{
 "cells": [
  {
   "cell_type": "code",
   "execution_count": 1,
   "metadata": {
    "collapsed": true,
    "pycharm": {
     "name": "#%%\n"
    }
   },
   "outputs": [
    {
     "data": {
      "text/plain": "          const              Name Team   W   L  SV   G  GS     IP    K/9  ...  \\\nplayerid                                                                  ...   \n16149         1        Aaron Nola  PHI  11  13   0  32  32  205.0  10.32  ...   \n16137         1      Carlos Rodon  SFG  14   8   0  31  31  178.0  11.98  ...   \n8700          1  Justin Verlander  HOU  18   4   0  28  28  175.0   9.51  ...   \n18684         1   Sandy Alcantara  MIA  14   9   0  32  32  228.2   8.15  ...   \n14107         1     Kevin Gausman  TOR  12  10   0  31  31  174.2  10.56  ...   \n\n          BABIP   LOB%    GB% HR/FB vFA (pi)   ERA  xERA   FIP  xFIP  WAR  \nplayerid                                                                   \n16149     0.289  73.0%  43.6%  9.8%     92.9  3.25  2.74  2.58  2.77  6.3  \n16137     0.293  75.1%  34.1%  6.5%     95.5  2.88  2.64  2.25  2.91  6.2  \n8700      0.240  80.5%  37.9%  6.2%     95.1  1.75  2.66  2.49  3.23  6.1  \n18684     0.262  78.8%  53.4%  8.5%     98.0  2.28  2.92  2.99  3.29  5.7  \n14107     0.363  74.0%  39.2%  8.5%     94.9  3.35  3.34  2.38  2.76  5.7  \n\n[5 rows x 22 columns]",
      "text/html": "<div>\n<style scoped>\n    .dataframe tbody tr th:only-of-type {\n        vertical-align: middle;\n    }\n\n    .dataframe tbody tr th {\n        vertical-align: top;\n    }\n\n    .dataframe thead th {\n        text-align: right;\n    }\n</style>\n<table border=\"1\" class=\"dataframe\">\n  <thead>\n    <tr style=\"text-align: right;\">\n      <th></th>\n      <th>const</th>\n      <th>Name</th>\n      <th>Team</th>\n      <th>W</th>\n      <th>L</th>\n      <th>SV</th>\n      <th>G</th>\n      <th>GS</th>\n      <th>IP</th>\n      <th>K/9</th>\n      <th>...</th>\n      <th>BABIP</th>\n      <th>LOB%</th>\n      <th>GB%</th>\n      <th>HR/FB</th>\n      <th>vFA (pi)</th>\n      <th>ERA</th>\n      <th>xERA</th>\n      <th>FIP</th>\n      <th>xFIP</th>\n      <th>WAR</th>\n    </tr>\n    <tr>\n      <th>playerid</th>\n      <th></th>\n      <th></th>\n      <th></th>\n      <th></th>\n      <th></th>\n      <th></th>\n      <th></th>\n      <th></th>\n      <th></th>\n      <th></th>\n      <th></th>\n      <th></th>\n      <th></th>\n      <th></th>\n      <th></th>\n      <th></th>\n      <th></th>\n      <th></th>\n      <th></th>\n      <th></th>\n      <th></th>\n    </tr>\n  </thead>\n  <tbody>\n    <tr>\n      <th>16149</th>\n      <td>1</td>\n      <td>Aaron Nola</td>\n      <td>PHI</td>\n      <td>11</td>\n      <td>13</td>\n      <td>0</td>\n      <td>32</td>\n      <td>32</td>\n      <td>205.0</td>\n      <td>10.32</td>\n      <td>...</td>\n      <td>0.289</td>\n      <td>73.0%</td>\n      <td>43.6%</td>\n      <td>9.8%</td>\n      <td>92.9</td>\n      <td>3.25</td>\n      <td>2.74</td>\n      <td>2.58</td>\n      <td>2.77</td>\n      <td>6.3</td>\n    </tr>\n    <tr>\n      <th>16137</th>\n      <td>1</td>\n      <td>Carlos Rodon</td>\n      <td>SFG</td>\n      <td>14</td>\n      <td>8</td>\n      <td>0</td>\n      <td>31</td>\n      <td>31</td>\n      <td>178.0</td>\n      <td>11.98</td>\n      <td>...</td>\n      <td>0.293</td>\n      <td>75.1%</td>\n      <td>34.1%</td>\n      <td>6.5%</td>\n      <td>95.5</td>\n      <td>2.88</td>\n      <td>2.64</td>\n      <td>2.25</td>\n      <td>2.91</td>\n      <td>6.2</td>\n    </tr>\n    <tr>\n      <th>8700</th>\n      <td>1</td>\n      <td>Justin Verlander</td>\n      <td>HOU</td>\n      <td>18</td>\n      <td>4</td>\n      <td>0</td>\n      <td>28</td>\n      <td>28</td>\n      <td>175.0</td>\n      <td>9.51</td>\n      <td>...</td>\n      <td>0.240</td>\n      <td>80.5%</td>\n      <td>37.9%</td>\n      <td>6.2%</td>\n      <td>95.1</td>\n      <td>1.75</td>\n      <td>2.66</td>\n      <td>2.49</td>\n      <td>3.23</td>\n      <td>6.1</td>\n    </tr>\n    <tr>\n      <th>18684</th>\n      <td>1</td>\n      <td>Sandy Alcantara</td>\n      <td>MIA</td>\n      <td>14</td>\n      <td>9</td>\n      <td>0</td>\n      <td>32</td>\n      <td>32</td>\n      <td>228.2</td>\n      <td>8.15</td>\n      <td>...</td>\n      <td>0.262</td>\n      <td>78.8%</td>\n      <td>53.4%</td>\n      <td>8.5%</td>\n      <td>98.0</td>\n      <td>2.28</td>\n      <td>2.92</td>\n      <td>2.99</td>\n      <td>3.29</td>\n      <td>5.7</td>\n    </tr>\n    <tr>\n      <th>14107</th>\n      <td>1</td>\n      <td>Kevin Gausman</td>\n      <td>TOR</td>\n      <td>12</td>\n      <td>10</td>\n      <td>0</td>\n      <td>31</td>\n      <td>31</td>\n      <td>174.2</td>\n      <td>10.56</td>\n      <td>...</td>\n      <td>0.363</td>\n      <td>74.0%</td>\n      <td>39.2%</td>\n      <td>8.5%</td>\n      <td>94.9</td>\n      <td>3.35</td>\n      <td>3.34</td>\n      <td>2.38</td>\n      <td>2.76</td>\n      <td>5.7</td>\n    </tr>\n  </tbody>\n</table>\n<p>5 rows × 22 columns</p>\n</div>"
     },
     "execution_count": 1,
     "metadata": {},
     "output_type": "execute_result"
    }
   ],
   "source": [
    "import math\n",
    "\n",
    "import pandas as pd\n",
    "\n",
    "df = pd.read_csv('pit_bb_war.csv', index_col='playerid')\n",
    "df.insert(0, column='const', value=1)\n",
    "df.head()"
   ]
  },
  {
   "cell_type": "code",
   "execution_count": 2,
   "outputs": [
    {
     "data": {
      "text/plain": "<seaborn.axisgrid.FacetGrid at 0x130c628f0>"
     },
     "execution_count": 2,
     "metadata": {},
     "output_type": "execute_result"
    },
    {
     "data": {
      "text/plain": "<Figure size 360x360 with 1 Axes>",
      "image/png": "[encoded data removed]"
     },
     "metadata": {
      "needs_background": "light"
     },
     "output_type": "display_data"
    }
   ],
   "source": [
    "import seaborn as sns\n",
    "\n",
    "sns.lmplot(data=df, x='BB/9', y='WAR')"
   ],
   "metadata": {
    "collapsed": false,
    "pycharm": {
     "name": "#%%\n"
    }
   }
  },
  {
   "cell_type": "code",
   "execution_count": 3,
   "outputs": [
    {
     "name": "stdout",
     "output_type": "stream",
     "text": [
      "                            OLS Regression Results                            \n",
      "==============================================================================\n",
      "Dep. Variable:                    WAR   R-squared:                       0.116\n",
      "Model:                            OLS   Adj. R-squared:                  0.095\n",
      "Method:                 Least Squares   F-statistic:                     5.626\n",
      "Date:                Tue, 15 Nov 2022   Prob (F-statistic):             0.0222\n",
      "Time:                        21:01:25   Log-Likelihood:                -79.566\n",
      "No. Observations:                  45   AIC:                             163.1\n",
      "Df Residuals:                      43   BIC:                             166.7\n",
      "Df Model:                           1                                         \n",
      "Covariance Type:            nonrobust                                         \n",
      "==============================================================================\n",
      "                 coef    std err          t      P>|t|      [0.025      0.975]\n",
      "------------------------------------------------------------------------------\n",
      "const          5.3560      0.871      6.152      0.000       3.600       7.112\n",
      "BB/9          -0.8683      0.366     -2.372      0.022      -1.606      -0.130\n",
      "==============================================================================\n",
      "Omnibus:                        0.378   Durbin-Watson:                   0.235\n",
      "Prob(Omnibus):                  0.828   Jarque-Bera (JB):                0.538\n",
      "Skew:                           0.045   Prob(JB):                        0.764\n",
      "Kurtosis:                       2.472   Cond. No.                         11.2\n",
      "==============================================================================\n",
      "\n",
      "Notes:\n",
      "[1] Standard Errors assume that the covariance matrix of the errors is correctly specified.\n"
     ]
    }
   ],
   "source": [
    "import statsmodels.api as sm\n",
    "\n",
    "model = sm.OLS(endog=df['WAR'], exog=df[['const', 'BB/9']])\n",
    "results = model.fit()\n",
    "print(results.summary())"
   ],
   "metadata": {
    "collapsed": false,
    "pycharm": {
     "name": "#%%\n"
    }
   }
  },
  {
   "cell_type": "markdown",
   "source": [
    "## Velo Analysis"
   ],
   "metadata": {
    "collapsed": false,
    "pycharm": {
     "name": "#%% md\n"
    }
   }
  },
  {
   "cell_type": "code",
   "execution_count": 4,
   "outputs": [
    {
     "data": {
      "text/plain": "          const              Name Team     IP   vFA   vFC   vFS   vSI   vCH  \\\nplayerid                                                                      \n18684         1   Sandy Alcantara  MIA  228.2  98.0   NaN   NaN  97.8  91.7   \n13125         1       Gerrit Cole  NYY  200.2  97.8  92.3   NaN   NaN  89.7   \n19755         1     Shohei Ohtani  LAA  166.0  97.4  90.5  89.3  97.2  91.9   \n21483         1  Shane McClanahan  TBR  166.1  97.0   NaN   NaN   NaN  87.9   \n18525         1       Dylan Cease  CHW  184.0  96.9   NaN  78.0   NaN   NaN   \n\n           vSL   vCU  vCS  vKN  vSB  WAR  \nplayerid                                  \n18684     89.9  84.1  NaN  NaN  NaN  5.7  \n13125     88.7  82.9  NaN  NaN  NaN  3.3  \n19755     85.3  77.9  NaN  NaN  NaN  5.6  \n21483     89.6  82.3  NaN  NaN  NaN  3.5  \n18525     87.5  81.3  NaN  NaN  NaN  4.4  ",
      "text/html": "<div>\n<style scoped>\n    .dataframe tbody tr th:only-of-type {\n        vertical-align: middle;\n    }\n\n    .dataframe tbody tr th {\n        vertical-align: top;\n    }\n\n    .dataframe thead th {\n        text-align: right;\n    }\n</style>\n<table border=\"1\" class=\"dataframe\">\n  <thead>\n    <tr style=\"text-align: right;\">\n      <th></th>\n      <th>const</th>\n      <th>Name</th>\n      <th>Team</th>\n      <th>IP</th>\n      <th>vFA</th>\n      <th>vFC</th>\n      <th>vFS</th>\n      <th>vSI</th>\n      <th>vCH</th>\n      <th>vSL</th>\n      <th>vCU</th>\n      <th>vCS</th>\n      <th>vKN</th>\n      <th>vSB</th>\n      <th>WAR</th>\n    </tr>\n    <tr>\n      <th>playerid</th>\n      <th></th>\n      <th></th>\n      <th></th>\n      <th></th>\n      <th></th>\n      <th></th>\n      <th></th>\n      <th></th>\n      <th></th>\n      <th></th>\n      <th></th>\n      <th></th>\n      <th></th>\n      <th></th>\n      <th></th>\n    </tr>\n  </thead>\n  <tbody>\n    <tr>\n      <th>18684</th>\n      <td>1</td>\n      <td>Sandy Alcantara</td>\n      <td>MIA</td>\n      <td>228.2</td>\n      <td>98.0</td>\n      <td>NaN</td>\n      <td>NaN</td>\n      <td>97.8</td>\n      <td>91.7</td>\n      <td>89.9</td>\n      <td>84.1</td>\n      <td>NaN</td>\n      <td>NaN</td>\n      <td>NaN</td>\n      <td>5.7</td>\n    </tr>\n    <tr>\n      <th>13125</th>\n      <td>1</td>\n      <td>Gerrit Cole</td>\n      <td>NYY</td>\n      <td>200.2</td>\n      <td>97.8</td>\n      <td>92.3</td>\n      <td>NaN</td>\n      <td>NaN</td>\n      <td>89.7</td>\n      <td>88.7</td>\n      <td>82.9</td>\n      <td>NaN</td>\n      <td>NaN</td>\n      <td>NaN</td>\n      <td>3.3</td>\n    </tr>\n    <tr>\n      <th>19755</th>\n      <td>1</td>\n      <td>Shohei Ohtani</td>\n      <td>LAA</td>\n      <td>166.0</td>\n      <td>97.4</td>\n      <td>90.5</td>\n      <td>89.3</td>\n      <td>97.2</td>\n      <td>91.9</td>\n      <td>85.3</td>\n      <td>77.9</td>\n      <td>NaN</td>\n      <td>NaN</td>\n      <td>NaN</td>\n      <td>5.6</td>\n    </tr>\n    <tr>\n      <th>21483</th>\n      <td>1</td>\n      <td>Shane McClanahan</td>\n      <td>TBR</td>\n      <td>166.1</td>\n      <td>97.0</td>\n      <td>NaN</td>\n      <td>NaN</td>\n      <td>NaN</td>\n      <td>87.9</td>\n      <td>89.6</td>\n      <td>82.3</td>\n      <td>NaN</td>\n      <td>NaN</td>\n      <td>NaN</td>\n      <td>3.5</td>\n    </tr>\n    <tr>\n      <th>18525</th>\n      <td>1</td>\n      <td>Dylan Cease</td>\n      <td>CHW</td>\n      <td>184.0</td>\n      <td>96.9</td>\n      <td>NaN</td>\n      <td>78.0</td>\n      <td>NaN</td>\n      <td>NaN</td>\n      <td>87.5</td>\n      <td>81.3</td>\n      <td>NaN</td>\n      <td>NaN</td>\n      <td>NaN</td>\n      <td>4.4</td>\n    </tr>\n  </tbody>\n</table>\n</div>"
     },
     "execution_count": 4,
     "metadata": {},
     "output_type": "execute_result"
    }
   ],
   "source": [
    "import numpy as np\n",
    "\n",
    "df_velo = pd.read_csv('pit_vel.csv', index_col='playerid')\n",
    "df_velo['WAR'] = df.WAR\n",
    "df_velo.insert(0, column='const', value=1)\n",
    "df_velo.head()"
   ],
   "metadata": {
    "collapsed": false,
    "pycharm": {
     "name": "#%%\n"
    }
   }
  },
  {
   "cell_type": "code",
   "execution_count": 5,
   "outputs": [
    {
     "data": {
      "text/plain": "          const   vFA  WAR\nplayerid                  \n18684         1  98.0  5.7\n13125         1  97.8  3.3\n19755         1  97.4  5.6\n21483         1  97.0  3.5\n18525         1  96.9  4.4\n19361         1  96.2  4.6\n22250         1  96.1  3.2\n15038         1  95.7  1.4\n16137         1  95.5  6.2\n8700          1  95.1  6.1\n19665         1  95.1  2.9\n13074         1  95.0  4.2\n14107         1  94.9  5.7\n4676          1  94.9  1.5\n11674         1  94.1  2.3\n17295         1  94.0  4.4\n14168         1  94.0  1.1\n13743         1  94.0  5.0\n19291         1  93.9  4.3\n19312         1  93.9  2.2\n26410         1  93.9  4.1\n15454         1  93.6  1.5\n18413         1  93.6  1.1\n11486         1  93.6  1.8\n9803          1  93.6  2.8\n17085         1  93.5  2.8\n12304         1  93.3  2.7\n14765         1  93.1  3.2\n16511         1  93.1  2.7\n16149         1  92.9  6.3\n6902          1  92.9  3.8\n12970         1  92.9  3.5\n18000         1  92.7  3.6\n17995         1  92.4  4.2\n11156         1  92.4  3.3\n10123         1  92.3  1.8\n7593          1  91.9  1.4\n19427         1  91.5  4.9\n11423         1  91.3  4.0\n19244         1  90.9  1.4\n12880         1  90.7  4.0\n16256         1  90.4  2.6\n2429          1  89.1  3.0\n15467         1  88.7  0.1\n2233          1  88.1  2.8",
      "text/html": "<div>\n<style scoped>\n    .dataframe tbody tr th:only-of-type {\n        vertical-align: middle;\n    }\n\n    .dataframe tbody tr th {\n        vertical-align: top;\n    }\n\n    .dataframe thead th {\n        text-align: right;\n    }\n</style>\n<table border=\"1\" class=\"dataframe\">\n  <thead>\n    <tr style=\"text-align: right;\">\n      <th></th>\n      <th>const</th>\n      <th>vFA</th>\n      <th>WAR</th>\n    </tr>\n    <tr>\n      <th>playerid</th>\n      <th></th>\n      <th></th>\n      <th></th>\n    </tr>\n  </thead>\n  <tbody>\n    <tr>\n      <th>18684</th>\n      <td>1</td>\n      <td>98.0</td>\n      <td>5.7</td>\n    </tr>\n    <tr>\n      <th>13125</th>\n      <td>1</td>\n      <td>97.8</td>\n      <td>3.3</td>\n    </tr>\n    <tr>\n      <th>19755</th>\n      <td>1</td>\n      <td>97.4</td>\n      <td>5.6</td>\n    </tr>\n    <tr>\n      <th>21483</th>\n      <td>1</td>\n      <td>97.0</td>\n      <td>3.5</td>\n    </tr>\n    <tr>\n      <th>18525</th>\n      <td>1</td>\n      <td>96.9</td>\n      <td>4.4</td>\n    </tr>\n    <tr>\n      <th>19361</th>\n      <td>1</td>\n      <td>96.2</td>\n      <td>4.6</td>\n    </tr>\n    <tr>\n      <th>22250</th>\n      <td>1</td>\n      <td>96.1</td>\n      <td>3.2</td>\n    </tr>\n    <tr>\n      <th>15038</th>\n      <td>1</td>\n      <td>95.7</td>\n      <td>1.4</td>\n    </tr>\n    <tr>\n      <th>16137</th>\n      <td>1</td>\n      <td>95.5</td>\n      <td>6.2</td>\n    </tr>\n    <tr>\n      <th>8700</th>\n      <td>1</td>\n      <td>95.1</td>\n      <td>6.1</td>\n    </tr>\n    <tr>\n      <th>19665</th>\n      <td>1</td>\n      <td>95.1</td>\n      <td>2.9</td>\n    </tr>\n    <tr>\n      <th>13074</th>\n      <td>1</td>\n      <td>95.0</td>\n      <td>4.2</td>\n    </tr>\n    <tr>\n      <th>14107</th>\n      <td>1</td>\n      <td>94.9</td>\n      <td>5.7</td>\n    </tr>\n    <tr>\n      <th>4676</th>\n      <td>1</td>\n      <td>94.9</td>\n      <td>1.5</td>\n    </tr>\n    <tr>\n      <th>11674</th>\n      <td>1</td>\n      <td>94.1</td>\n      <td>2.3</td>\n    </tr>\n    <tr>\n      <th>17295</th>\n      <td>1</td>\n      <td>94.0</td>\n      <td>4.4</td>\n    </tr>\n    <tr>\n      <th>14168</th>\n      <td>1</td>\n      <td>94.0</td>\n      <td>1.1</td>\n    </tr>\n    <tr>\n      <th>13743</th>\n      <td>1</td>\n      <td>94.0</td>\n      <td>5.0</td>\n    </tr>\n    <tr>\n      <th>19291</th>\n      <td>1</td>\n      <td>93.9</td>\n      <td>4.3</td>\n    </tr>\n    <tr>\n      <th>19312</th>\n      <td>1</td>\n      <td>93.9</td>\n      <td>2.2</td>\n    </tr>\n    <tr>\n      <th>26410</th>\n      <td>1</td>\n      <td>93.9</td>\n      <td>4.1</td>\n    </tr>\n    <tr>\n      <th>15454</th>\n      <td>1</td>\n      <td>93.6</td>\n      <td>1.5</td>\n    </tr>\n    <tr>\n      <th>18413</th>\n      <td>1</td>\n      <td>93.6</td>\n      <td>1.1</td>\n    </tr>\n    <tr>\n      <th>11486</th>\n      <td>1</td>\n      <td>93.6</td>\n      <td>1.8</td>\n    </tr>\n    <tr>\n      <th>9803</th>\n      <td>1</td>\n      <td>93.6</td>\n      <td>2.8</td>\n    </tr>\n    <tr>\n      <th>17085</th>\n      <td>1</td>\n      <td>93.5</td>\n      <td>2.8</td>\n    </tr>\n    <tr>\n      <th>12304</th>\n      <td>1</td>\n      <td>93.3</td>\n      <td>2.7</td>\n    </tr>\n    <tr>\n      <th>14765</th>\n      <td>1</td>\n      <td>93.1</td>\n      <td>3.2</td>\n    </tr>\n    <tr>\n      <th>16511</th>\n      <td>1</td>\n      <td>93.1</td>\n      <td>2.7</td>\n    </tr>\n    <tr>\n      <th>16149</th>\n      <td>1</td>\n      <td>92.9</td>\n      <td>6.3</td>\n    </tr>\n    <tr>\n      <th>6902</th>\n      <td>1</td>\n      <td>92.9</td>\n      <td>3.8</td>\n    </tr>\n    <tr>\n      <th>12970</th>\n      <td>1</td>\n      <td>92.9</td>\n      <td>3.5</td>\n    </tr>\n    <tr>\n      <th>18000</th>\n      <td>1</td>\n      <td>92.7</td>\n      <td>3.6</td>\n    </tr>\n    <tr>\n      <th>17995</th>\n      <td>1</td>\n      <td>92.4</td>\n      <td>4.2</td>\n    </tr>\n    <tr>\n      <th>11156</th>\n      <td>1</td>\n      <td>92.4</td>\n      <td>3.3</td>\n    </tr>\n    <tr>\n      <th>10123</th>\n      <td>1</td>\n      <td>92.3</td>\n      <td>1.8</td>\n    </tr>\n    <tr>\n      <th>7593</th>\n      <td>1</td>\n      <td>91.9</td>\n      <td>1.4</td>\n    </tr>\n    <tr>\n      <th>19427</th>\n      <td>1</td>\n      <td>91.5</td>\n      <td>4.9</td>\n    </tr>\n    <tr>\n      <th>11423</th>\n      <td>1</td>\n      <td>91.3</td>\n      <td>4.0</td>\n    </tr>\n    <tr>\n      <th>19244</th>\n      <td>1</td>\n      <td>90.9</td>\n      <td>1.4</td>\n    </tr>\n    <tr>\n      <th>12880</th>\n      <td>1</td>\n      <td>90.7</td>\n      <td>4.0</td>\n    </tr>\n    <tr>\n      <th>16256</th>\n      <td>1</td>\n      <td>90.4</td>\n      <td>2.6</td>\n    </tr>\n    <tr>\n      <th>2429</th>\n      <td>1</td>\n      <td>89.1</td>\n      <td>3.0</td>\n    </tr>\n    <tr>\n      <th>15467</th>\n      <td>1</td>\n      <td>88.7</td>\n      <td>0.1</td>\n    </tr>\n    <tr>\n      <th>2233</th>\n      <td>1</td>\n      <td>88.1</td>\n      <td>2.8</td>\n    </tr>\n  </tbody>\n</table>\n</div>"
     },
     "execution_count": 5,
     "metadata": {},
     "output_type": "execute_result"
    }
   ],
   "source": [
    "# if the pitcher doesn't have the pitch, drop the pitcher\n",
    "fastball = df_velo[['const', 'vFA', 'WAR']].dropna(axis=0)\n",
    "\n",
    "fastball"
   ],
   "metadata": {
    "collapsed": false,
    "pycharm": {
     "name": "#%%\n"
    }
   }
  },
  {
   "cell_type": "code",
   "execution_count": 6,
   "outputs": [
    {
     "name": "stdout",
     "output_type": "stream",
     "text": [
      "                            OLS Regression Results                            \n",
      "==============================================================================\n",
      "Dep. Variable:                    WAR   R-squared:                       0.135\n",
      "Model:                            OLS   Adj. R-squared:                  0.115\n",
      "Method:                 Least Squares   F-statistic:                     6.690\n",
      "Date:                Tue, 15 Nov 2022   Prob (F-statistic):             0.0132\n",
      "Time:                        21:01:25   Log-Likelihood:                -79.079\n",
      "No. Observations:                  45   AIC:                             162.2\n",
      "Df Residuals:                      43   BIC:                             165.8\n",
      "Df Model:                           1                                         \n",
      "Covariance Type:            nonrobust                                         \n",
      "==============================================================================\n",
      "                 coef    std err          t      P>|t|      [0.025      0.975]\n",
      "------------------------------------------------------------------------------\n",
      "const        -19.7390      8.931     -2.210      0.032     -37.751      -1.727\n",
      "vFA            0.2467      0.095      2.586      0.013       0.054       0.439\n",
      "==============================================================================\n",
      "Omnibus:                        1.912   Durbin-Watson:                   2.187\n",
      "Prob(Omnibus):                  0.384   Jarque-Bera (JB):                1.227\n",
      "Skew:                           0.065   Prob(JB):                        0.541\n",
      "Kurtosis:                       2.201   Cond. No.                     3.91e+03\n",
      "==============================================================================\n",
      "\n",
      "Notes:\n",
      "[1] Standard Errors assume that the covariance matrix of the errors is correctly specified.\n",
      "[2] The condition number is large, 3.91e+03. This might indicate that there are\n",
      "strong multicollinearity or other numerical problems.\n"
     ]
    }
   ],
   "source": [
    "results_FA = sm.OLS(endog=fastball.WAR, exog=fastball[['const', 'vFA']]).fit()\n",
    "print(results_FA.summary())"
   ],
   "metadata": {
    "collapsed": false,
    "pycharm": {
     "name": "#%%\n"
    }
   }
  },
  {
   "cell_type": "code",
   "execution_count": 12,
   "outputs": [
    {
     "data": {
      "text/plain": "                       Name   Team     IP  FA-X  FC-X  FS-X  SI-X  CH-X  SL-X  \\\nplayerid                                                                        \n15467        Marco Gonzales    SEA  183.0   6.6   1.3   NaN   7.9  10.0   NaN   \n21483      Shane McClanahan    TBR  166.1   6.2   NaN   NaN   NaN   9.2  -1.9   \n6902           Martin Perez    TEX  196.1   5.9   0.6   NaN   9.3   8.1  -2.0   \n19244            Cole Irvin    OAK  181.0   5.6   0.9   NaN   8.3   7.8  -5.3   \n16511     Jordan Montgomery  - - -  178.1   4.9  -0.2   NaN   9.5   6.2   NaN   \n\n          CU-X  ...  FA-Z  FC-Z  FS-Z  SI-Z  CH-Z  SL-Z  CU-Z  CS-Z  KN-Z  \\\nplayerid        ...                                                         \n15467     -3.5  ...   8.3   5.6   NaN   5.5   2.8   NaN  -8.6   NaN   NaN   \n21483     -4.2  ...   9.2   NaN   NaN   NaN   4.9   1.2  -7.4   NaN   NaN   \n6902      -3.6  ...   8.0   6.1   NaN   5.0   4.2   2.0  -3.7   NaN   NaN   \n19244     -2.7  ...   8.5   4.0   NaN   6.1   3.1  -2.4  -5.3   NaN   NaN   \n16511     -1.7  ...   7.9   4.5   NaN   5.0   5.9   NaN  -3.8   NaN   NaN   \n\n          SB-Z  \nplayerid        \n15467      NaN  \n21483      NaN  \n6902       NaN  \n19244      NaN  \n16511      NaN  \n\n[5 rows x 23 columns]",
      "text/html": "<div>\n<style scoped>\n    .dataframe tbody tr th:only-of-type {\n        vertical-align: middle;\n    }\n\n    .dataframe tbody tr th {\n        vertical-align: top;\n    }\n\n    .dataframe thead th {\n        text-align: right;\n    }\n</style>\n<table border=\"1\" class=\"dataframe\">\n  <thead>\n    <tr style=\"text-align: right;\">\n      <th></th>\n      <th>Name</th>\n      <th>Team</th>\n      <th>IP</th>\n      <th>FA-X</th>\n      <th>FC-X</th>\n      <th>FS-X</th>\n      <th>SI-X</th>\n      <th>CH-X</th>\n      <th>SL-X</th>\n      <th>CU-X</th>\n      <th>...</th>\n      <th>FA-Z</th>\n      <th>FC-Z</th>\n      <th>FS-Z</th>\n      <th>SI-Z</th>\n      <th>CH-Z</th>\n      <th>SL-Z</th>\n      <th>CU-Z</th>\n      <th>CS-Z</th>\n      <th>KN-Z</th>\n      <th>SB-Z</th>\n    </tr>\n    <tr>\n      <th>playerid</th>\n      <th></th>\n      <th></th>\n      <th></th>\n      <th></th>\n      <th></th>\n      <th></th>\n      <th></th>\n      <th></th>\n      <th></th>\n      <th></th>\n      <th></th>\n      <th></th>\n      <th></th>\n      <th></th>\n      <th></th>\n      <th></th>\n      <th></th>\n      <th></th>\n      <th></th>\n      <th></th>\n      <th></th>\n    </tr>\n  </thead>\n  <tbody>\n    <tr>\n      <th>15467</th>\n      <td>Marco Gonzales</td>\n      <td>SEA</td>\n      <td>183.0</td>\n      <td>6.6</td>\n      <td>1.3</td>\n      <td>NaN</td>\n      <td>7.9</td>\n      <td>10.0</td>\n      <td>NaN</td>\n      <td>-3.5</td>\n      <td>...</td>\n      <td>8.3</td>\n      <td>5.6</td>\n      <td>NaN</td>\n      <td>5.5</td>\n      <td>2.8</td>\n      <td>NaN</td>\n      <td>-8.6</td>\n      <td>NaN</td>\n      <td>NaN</td>\n      <td>NaN</td>\n    </tr>\n    <tr>\n      <th>21483</th>\n      <td>Shane McClanahan</td>\n      <td>TBR</td>\n      <td>166.1</td>\n      <td>6.2</td>\n      <td>NaN</td>\n      <td>NaN</td>\n      <td>NaN</td>\n      <td>9.2</td>\n      <td>-1.9</td>\n      <td>-4.2</td>\n      <td>...</td>\n      <td>9.2</td>\n      <td>NaN</td>\n      <td>NaN</td>\n      <td>NaN</td>\n      <td>4.9</td>\n      <td>1.2</td>\n      <td>-7.4</td>\n      <td>NaN</td>\n      <td>NaN</td>\n      <td>NaN</td>\n    </tr>\n    <tr>\n      <th>6902</th>\n      <td>Martin Perez</td>\n      <td>TEX</td>\n      <td>196.1</td>\n      <td>5.9</td>\n      <td>0.6</td>\n      <td>NaN</td>\n      <td>9.3</td>\n      <td>8.1</td>\n      <td>-2.0</td>\n      <td>-3.6</td>\n      <td>...</td>\n      <td>8.0</td>\n      <td>6.1</td>\n      <td>NaN</td>\n      <td>5.0</td>\n      <td>4.2</td>\n      <td>2.0</td>\n      <td>-3.7</td>\n      <td>NaN</td>\n      <td>NaN</td>\n      <td>NaN</td>\n    </tr>\n    <tr>\n      <th>19244</th>\n      <td>Cole Irvin</td>\n      <td>OAK</td>\n      <td>181.0</td>\n      <td>5.6</td>\n      <td>0.9</td>\n      <td>NaN</td>\n      <td>8.3</td>\n      <td>7.8</td>\n      <td>-5.3</td>\n      <td>-2.7</td>\n      <td>...</td>\n      <td>8.5</td>\n      <td>4.0</td>\n      <td>NaN</td>\n      <td>6.1</td>\n      <td>3.1</td>\n      <td>-2.4</td>\n      <td>-5.3</td>\n      <td>NaN</td>\n      <td>NaN</td>\n      <td>NaN</td>\n    </tr>\n    <tr>\n      <th>16511</th>\n      <td>Jordan Montgomery</td>\n      <td>- - -</td>\n      <td>178.1</td>\n      <td>4.9</td>\n      <td>-0.2</td>\n      <td>NaN</td>\n      <td>9.5</td>\n      <td>6.2</td>\n      <td>NaN</td>\n      <td>-1.7</td>\n      <td>...</td>\n      <td>7.9</td>\n      <td>4.5</td>\n      <td>NaN</td>\n      <td>5.0</td>\n      <td>5.9</td>\n      <td>NaN</td>\n      <td>-3.8</td>\n      <td>NaN</td>\n      <td>NaN</td>\n      <td>NaN</td>\n    </tr>\n  </tbody>\n</table>\n<p>5 rows × 23 columns</p>\n</div>"
     },
     "execution_count": 12,
     "metadata": {},
     "output_type": "execute_result"
    }
   ],
   "source": [
    "# import h-move pitches\n",
    "df_mov = pd.read_csv('pit_h_mov.csv', index_col='playerid')\n",
    "df_vert = pd.read_csv('pit_v_mov.csv', index_col='playerid')\n",
    "# concat, takes the last 10 columns of vertical move and adds it to the h-move\n",
    "df_mov = pd.concat([df_mov, df_vert.iloc[:,-10:]], axis=1)\n",
    "df_mov.head()"
   ],
   "metadata": {
    "collapsed": false,
    "pycharm": {
     "name": "#%%\n"
    }
   }
  },
  {
   "cell_type": "code",
   "execution_count": 42,
   "outputs": [
    {
     "name": "stderr",
     "output_type": "stream",
     "text": [
      "/var/folders/nz/57m0v30s0kqdtdm5876x20qw0000gn/T/ipykernel_9247/4091266253.py:5: SettingWithCopyWarning: \n",
      "A value is trying to be set on a copy of a slice from a DataFrame.\n",
      "Try using .loc[row_indexer,col_indexer] = value instead\n",
      "\n",
      "See the caveats in the documentation: https://pandas.pydata.org/pandas-docs/stable/user_guide/indexing.html#returning-a-view-versus-a-copy\n",
      "  fa_move['WAR'] = df.WAR\n",
      "/var/folders/nz/57m0v30s0kqdtdm5876x20qw0000gn/T/ipykernel_9247/4091266253.py:10: SettingWithCopyWarning: \n",
      "A value is trying to be set on a copy of a slice from a DataFrame.\n",
      "Try using .loc[row_indexer,col_indexer] = value instead\n",
      "\n",
      "See the caveats in the documentation: https://pandas.pydata.org/pandas-docs/stable/user_guide/indexing.html#returning-a-view-versus-a-copy\n",
      "  fa_move['FA-MAG'] = vect\n",
      "/var/folders/nz/57m0v30s0kqdtdm5876x20qw0000gn/T/ipykernel_9247/4091266253.py:11: SettingWithCopyWarning: \n",
      "A value is trying to be set on a copy of a slice from a DataFrame.\n",
      "Try using .loc[row_indexer,col_indexer] = value instead\n",
      "\n",
      "See the caveats in the documentation: https://pandas.pydata.org/pandas-docs/stable/user_guide/indexing.html#returning-a-view-versus-a-copy\n",
      "  fa_move['FA-MAG'] = fa_move['FA-MAG'].apply(lambda v: math.sqrt(v))\n"
     ]
    },
    {
     "data": {
      "text/plain": "          const  FA-X  FA-Z  WAR     FA-MAG\nplayerid                                   \n15467         1   6.6   8.3  0.1  10.604244\n21483         1   6.2   9.2  3.5  11.094143\n6902          1   5.9   8.0  3.8   9.940322\n19244         1   5.6   8.5  1.4  10.178900\n16511         1   4.9   7.9  2.7   9.296236\n12880         1   4.4   9.6  4.0  10.560303\n11486         1   4.0   9.5  1.8  10.307764\n17295         1   3.9   4.9  4.4   6.262587\n16137         1   3.5   9.7  6.2  10.312129\n16256         1   3.3   7.3  2.6   8.011242\n14765         1   1.9   8.9  3.2   9.100549\n11423         1   1.4   8.2  4.0   8.318654\n13743         1   0.9   6.4  5.0   6.462971\n2233          1  -1.0   8.1  2.8   8.161495\n18525         1  -1.8  10.1  4.4  10.259142\n19291         1  -1.8   9.4  4.3   9.570789\n18000         1  -1.8  10.9  3.6  11.047624\n19755         1  -2.0   7.5  5.6   7.762087\n12970         1  -2.2   7.0  3.5   7.337575\n17085         1  -2.5   6.9  2.8   7.338937\n15454         1  -2.8  10.9  1.5  11.253888\n9803          1  -2.9   7.9  2.8   8.415462\n26410         1  -3.2   8.8  4.1   9.363760\n12304         1  -3.2   7.3  2.7   7.970571\n11674         1  -3.3   9.4  2.3   9.962429\n7593          1  -3.5   9.0  1.4   9.656604\n10123         1  -3.5   8.4  1.8   9.100000\n19361         1  -3.5   8.3  4.6   9.007774\n22250         1  -3.5   9.4  3.2  10.030454\n13074         1  -3.9   9.1  4.2   9.900505\n2429          1  -4.2   7.5  3.0   8.595929\n18413         1  -4.4  10.4  1.1  11.292475\n11156         1  -4.4   8.1  3.3   9.217917\n19427         1  -5.0   9.3  4.9  10.558883\n15038         1  -5.2   7.3  1.4   8.962700\n17995         1  -5.3   4.8  4.2   7.150524\n8700          1  -5.4  10.1  6.1  11.452947\n19312         1  -5.5   8.7  2.2  10.292716\n13125         1  -6.0   9.8  3.3  11.490866\n14107         1  -6.0   9.0  5.7  10.816654\n4676          1  -6.0   6.5  1.5   8.845903\n14168         1  -6.0   7.4  1.1   9.526804\n19665         1  -6.5   6.6  2.9   9.263369\n18684         1  -6.7   7.3  5.7   9.908582\n16149         1  -7.4   8.1  6.3  10.971326",
      "text/html": "<div>\n<style scoped>\n    .dataframe tbody tr th:only-of-type {\n        vertical-align: middle;\n    }\n\n    .dataframe tbody tr th {\n        vertical-align: top;\n    }\n\n    .dataframe thead th {\n        text-align: right;\n    }\n</style>\n<table border=\"1\" class=\"dataframe\">\n  <thead>\n    <tr style=\"text-align: right;\">\n      <th></th>\n      <th>const</th>\n      <th>FA-X</th>\n      <th>FA-Z</th>\n      <th>WAR</th>\n      <th>FA-MAG</th>\n    </tr>\n    <tr>\n      <th>playerid</th>\n      <th></th>\n      <th></th>\n      <th></th>\n      <th></th>\n      <th></th>\n    </tr>\n  </thead>\n  <tbody>\n    <tr>\n      <th>15467</th>\n      <td>1</td>\n      <td>6.6</td>\n      <td>8.3</td>\n      <td>0.1</td>\n      <td>10.604244</td>\n    </tr>\n    <tr>\n      <th>21483</th>\n      <td>1</td>\n      <td>6.2</td>\n      <td>9.2</td>\n      <td>3.5</td>\n      <td>11.094143</td>\n    </tr>\n    <tr>\n      <th>6902</th>\n      <td>1</td>\n      <td>5.9</td>\n      <td>8.0</td>\n      <td>3.8</td>\n      <td>9.940322</td>\n    </tr>\n    <tr>\n      <th>19244</th>\n      <td>1</td>\n      <td>5.6</td>\n      <td>8.5</td>\n      <td>1.4</td>\n      <td>10.178900</td>\n    </tr>\n    <tr>\n      <th>16511</th>\n      <td>1</td>\n      <td>4.9</td>\n      <td>7.9</td>\n      <td>2.7</td>\n      <td>9.296236</td>\n    </tr>\n    <tr>\n      <th>12880</th>\n      <td>1</td>\n      <td>4.4</td>\n      <td>9.6</td>\n      <td>4.0</td>\n      <td>10.560303</td>\n    </tr>\n    <tr>\n      <th>11486</th>\n      <td>1</td>\n      <td>4.0</td>\n      <td>9.5</td>\n      <td>1.8</td>\n      <td>10.307764</td>\n    </tr>\n    <tr>\n      <th>17295</th>\n      <td>1</td>\n      <td>3.9</td>\n      <td>4.9</td>\n      <td>4.4</td>\n      <td>6.262587</td>\n    </tr>\n    <tr>\n      <th>16137</th>\n      <td>1</td>\n      <td>3.5</td>\n      <td>9.7</td>\n      <td>6.2</td>\n      <td>10.312129</td>\n    </tr>\n    <tr>\n      <th>16256</th>\n      <td>1</td>\n      <td>3.3</td>\n      <td>7.3</td>\n      <td>2.6</td>\n      <td>8.011242</td>\n    </tr>\n    <tr>\n      <th>14765</th>\n      <td>1</td>\n      <td>1.9</td>\n      <td>8.9</td>\n      <td>3.2</td>\n      <td>9.100549</td>\n    </tr>\n    <tr>\n      <th>11423</th>\n      <td>1</td>\n      <td>1.4</td>\n      <td>8.2</td>\n      <td>4.0</td>\n      <td>8.318654</td>\n    </tr>\n    <tr>\n      <th>13743</th>\n      <td>1</td>\n      <td>0.9</td>\n      <td>6.4</td>\n      <td>5.0</td>\n      <td>6.462971</td>\n    </tr>\n    <tr>\n      <th>2233</th>\n      <td>1</td>\n      <td>-1.0</td>\n      <td>8.1</td>\n      <td>2.8</td>\n      <td>8.161495</td>\n    </tr>\n    <tr>\n      <th>18525</th>\n      <td>1</td>\n      <td>-1.8</td>\n      <td>10.1</td>\n      <td>4.4</td>\n      <td>10.259142</td>\n    </tr>\n    <tr>\n      <th>19291</th>\n      <td>1</td>\n      <td>-1.8</td>\n      <td>9.4</td>\n      <td>4.3</td>\n      <td>9.570789</td>\n    </tr>\n    <tr>\n      <th>18000</th>\n      <td>1</td>\n      <td>-1.8</td>\n      <td>10.9</td>\n      <td>3.6</td>\n      <td>11.047624</td>\n    </tr>\n    <tr>\n      <th>19755</th>\n      <td>1</td>\n      <td>-2.0</td>\n      <td>7.5</td>\n      <td>5.6</td>\n      <td>7.762087</td>\n    </tr>\n    <tr>\n      <th>12970</th>\n      <td>1</td>\n      <td>-2.2</td>\n      <td>7.0</td>\n      <td>3.5</td>\n      <td>7.337575</td>\n    </tr>\n    <tr>\n      <th>17085</th>\n      <td>1</td>\n      <td>-2.5</td>\n      <td>6.9</td>\n      <td>2.8</td>\n      <td>7.338937</td>\n    </tr>\n    <tr>\n      <th>15454</th>\n      <td>1</td>\n      <td>-2.8</td>\n      <td>10.9</td>\n      <td>1.5</td>\n      <td>11.253888</td>\n    </tr>\n    <tr>\n      <th>9803</th>\n      <td>1</td>\n      <td>-2.9</td>\n      <td>7.9</td>\n      <td>2.8</td>\n      <td>8.415462</td>\n    </tr>\n    <tr>\n      <th>26410</th>\n      <td>1</td>\n      <td>-3.2</td>\n      <td>8.8</td>\n      <td>4.1</td>\n      <td>9.363760</td>\n    </tr>\n    <tr>\n      <th>12304</th>\n      <td>1</td>\n      <td>-3.2</td>\n      <td>7.3</td>\n      <td>2.7</td>\n      <td>7.970571</td>\n    </tr>\n    <tr>\n      <th>11674</th>\n      <td>1</td>\n      <td>-3.3</td>\n      <td>9.4</td>\n      <td>2.3</td>\n      <td>9.962429</td>\n    </tr>\n    <tr>\n      <th>7593</th>\n      <td>1</td>\n      <td>-3.5</td>\n      <td>9.0</td>\n      <td>1.4</td>\n      <td>9.656604</td>\n    </tr>\n    <tr>\n      <th>10123</th>\n      <td>1</td>\n      <td>-3.5</td>\n      <td>8.4</td>\n      <td>1.8</td>\n      <td>9.100000</td>\n    </tr>\n    <tr>\n      <th>19361</th>\n      <td>1</td>\n      <td>-3.5</td>\n      <td>8.3</td>\n      <td>4.6</td>\n      <td>9.007774</td>\n    </tr>\n    <tr>\n      <th>22250</th>\n      <td>1</td>\n      <td>-3.5</td>\n      <td>9.4</td>\n      <td>3.2</td>\n      <td>10.030454</td>\n    </tr>\n    <tr>\n      <th>13074</th>\n      <td>1</td>\n      <td>-3.9</td>\n      <td>9.1</td>\n      <td>4.2</td>\n      <td>9.900505</td>\n    </tr>\n    <tr>\n      <th>2429</th>\n      <td>1</td>\n      <td>-4.2</td>\n      <td>7.5</td>\n      <td>3.0</td>\n      <td>8.595929</td>\n    </tr>\n    <tr>\n      <th>18413</th>\n      <td>1</td>\n      <td>-4.4</td>\n      <td>10.4</td>\n      <td>1.1</td>\n      <td>11.292475</td>\n    </tr>\n    <tr>\n      <th>11156</th>\n      <td>1</td>\n      <td>-4.4</td>\n      <td>8.1</td>\n      <td>3.3</td>\n      <td>9.217917</td>\n    </tr>\n    <tr>\n      <th>19427</th>\n      <td>1</td>\n      <td>-5.0</td>\n      <td>9.3</td>\n      <td>4.9</td>\n      <td>10.558883</td>\n    </tr>\n    <tr>\n      <th>15038</th>\n      <td>1</td>\n      <td>-5.2</td>\n      <td>7.3</td>\n      <td>1.4</td>\n      <td>8.962700</td>\n    </tr>\n    <tr>\n      <th>17995</th>\n      <td>1</td>\n      <td>-5.3</td>\n      <td>4.8</td>\n      <td>4.2</td>\n      <td>7.150524</td>\n    </tr>\n    <tr>\n      <th>8700</th>\n      <td>1</td>\n      <td>-5.4</td>\n      <td>10.1</td>\n      <td>6.1</td>\n      <td>11.452947</td>\n    </tr>\n    <tr>\n      <th>19312</th>\n      <td>1</td>\n      <td>-5.5</td>\n      <td>8.7</td>\n      <td>2.2</td>\n      <td>10.292716</td>\n    </tr>\n    <tr>\n      <th>13125</th>\n      <td>1</td>\n      <td>-6.0</td>\n      <td>9.8</td>\n      <td>3.3</td>\n      <td>11.490866</td>\n    </tr>\n    <tr>\n      <th>14107</th>\n      <td>1</td>\n      <td>-6.0</td>\n      <td>9.0</td>\n      <td>5.7</td>\n      <td>10.816654</td>\n    </tr>\n    <tr>\n      <th>4676</th>\n      <td>1</td>\n      <td>-6.0</td>\n      <td>6.5</td>\n      <td>1.5</td>\n      <td>8.845903</td>\n    </tr>\n    <tr>\n      <th>14168</th>\n      <td>1</td>\n      <td>-6.0</td>\n      <td>7.4</td>\n      <td>1.1</td>\n      <td>9.526804</td>\n    </tr>\n    <tr>\n      <th>19665</th>\n      <td>1</td>\n      <td>-6.5</td>\n      <td>6.6</td>\n      <td>2.9</td>\n      <td>9.263369</td>\n    </tr>\n    <tr>\n      <th>18684</th>\n      <td>1</td>\n      <td>-6.7</td>\n      <td>7.3</td>\n      <td>5.7</td>\n      <td>9.908582</td>\n    </tr>\n    <tr>\n      <th>16149</th>\n      <td>1</td>\n      <td>-7.4</td>\n      <td>8.1</td>\n      <td>6.3</td>\n      <td>10.971326</td>\n    </tr>\n  </tbody>\n</table>\n</div>"
     },
     "execution_count": 42,
     "metadata": {},
     "output_type": "execute_result"
    }
   ],
   "source": [
    "import math\n",
    "# get fastball h/v\n",
    "fa_move = df_mov[['FA-X', 'FA-Z']]\n",
    "# add WAR\n",
    "fa_move['WAR'] = df.WAR\n",
    "# add const\n",
    "fa_move.insert(0, 'const', value=1)\n",
    "# vectorize movement\n",
    "vect = fa_move['FA-X']**2 + fa_move['FA-Z']**2\n",
    "fa_move['FA-MAG'] = vect\n",
    "fa_move['FA-MAG'] = fa_move['FA-MAG'].apply(lambda v: math.sqrt(v))\n",
    "fa_move"
   ],
   "metadata": {
    "collapsed": false,
    "pycharm": {
     "name": "#%%\n"
    }
   }
  },
  {
   "cell_type": "code",
   "execution_count": 44,
   "outputs": [
    {
     "name": "stdout",
     "output_type": "stream",
     "text": [
      "                            OLS Regression Results                            \n",
      "==============================================================================\n",
      "Dep. Variable:                    WAR   R-squared:                       0.001\n",
      "Model:                            OLS   Adj. R-squared:                 -0.022\n",
      "Method:                 Least Squares   F-statistic:                   0.04536\n",
      "Date:                Tue, 15 Nov 2022   Prob (F-statistic):              0.832\n",
      "Time:                        22:30:13   Log-Likelihood:                -82.309\n",
      "No. Observations:                  45   AIC:                             168.6\n",
      "Df Residuals:                      43   BIC:                             172.2\n",
      "Df Model:                           1                                         \n",
      "Covariance Type:            nonrobust                                         \n",
      "==============================================================================\n",
      "                 coef    std err          t      P>|t|      [0.025      0.975]\n",
      "------------------------------------------------------------------------------\n",
      "const          3.7043      1.654      2.240      0.030       0.370       7.039\n",
      "FA-MAG        -0.0369      0.173     -0.213      0.832      -0.387       0.313\n",
      "==============================================================================\n",
      "Omnibus:                        0.872   Durbin-Watson:                   1.709\n",
      "Prob(Omnibus):                  0.647   Jarque-Bera (JB):                0.872\n",
      "Skew:                           0.152   Prob(JB):                        0.647\n",
      "Kurtosis:                       2.390   Cond. No.                         69.3\n",
      "==============================================================================\n",
      "\n",
      "Notes:\n",
      "[1] Standard Errors assume that the covariance matrix of the errors is correctly specified.\n"
     ]
    }
   ],
   "source": [
    "results_fa_move = sm.OLS(endog=fa_move['WAR'], exog=fa_move[['const', 'FA-MAG']]).fit()\n",
    "print(results_fa_move.summary())"
   ],
   "metadata": {
    "collapsed": false,
    "pycharm": {
     "name": "#%%\n"
    }
   }
  },
  {
   "cell_type": "code",
   "execution_count": 49,
   "outputs": [
    {
     "data": {
      "text/plain": "          const  SL-X  SL-Z  WAR    SL-MAG\nplayerid                                  \n21483         1  -1.9   1.2  3.5  2.247221\n6902          1  -2.0   2.0  3.8  2.828427\n19244         1  -5.3  -2.4  1.4  5.818075\n11486         1  -0.7   3.5  1.8  3.569314\n17295         1  -2.1  -4.1  4.4  4.606517\n16137         1  -4.5  -1.3  6.2  4.684015\n16256         1  -2.5  -4.4  2.6  5.060632\n13743         1  -2.2  -0.3  5.0  2.220360\n2233          1   6.4  -2.6  2.8  6.907966\n18525         1   2.2  -0.4  4.4  2.236068\n19291         1   4.0   0.9  4.3  4.100000\n18000         1   2.9   4.9  3.6  5.693856\n19755         1   7.8   1.6  5.6  7.962412\n12970         1   7.5  -2.0  3.5  7.762087\n15454         1   3.3   1.1  1.5  3.478505\n9803          1   2.2   1.8  2.8  2.842534\n26410         1   8.2  -0.8  4.1  8.238932\n12304         1   7.4  -0.4  2.7  7.410803\n11674         1   3.5   1.4  2.3  3.769615\n7593          1   8.8  -1.4  1.4  8.910668\n10123         1   3.0  -1.3  1.8  3.269557\n19361         1   4.3  -0.9  4.6  4.393177\n22250         1   3.5   1.6  3.2  3.848376\n13074         1   5.5  -1.0  4.2  5.590170\n2429          1   9.5  -0.5  3.0  9.513149\n18413         1   8.3  -0.7  1.1  8.329466\n11156         1   1.2   1.3  3.3  1.769181\n19427         1   1.4   0.8  4.9  1.612452\n15038         1   0.2   2.2  1.4  2.209072\n17995         1   5.9  -0.4  4.2  5.913544\n8700          1   2.2   1.8  6.1  2.842534\n13125         1   2.7  -0.4  3.3  2.729469\n14107         1   0.6   0.7  5.7  0.921954\n4676          1   1.0   2.3  1.5  2.507987\n14168         1   9.0  -3.5  1.1  9.656604\n19665         1  -0.5   3.9  2.9  3.931921\n18684         1   0.2   1.2  5.7  1.216553",
      "text/html": "<div>\n<style scoped>\n    .dataframe tbody tr th:only-of-type {\n        vertical-align: middle;\n    }\n\n    .dataframe tbody tr th {\n        vertical-align: top;\n    }\n\n    .dataframe thead th {\n        text-align: right;\n    }\n</style>\n<table border=\"1\" class=\"dataframe\">\n  <thead>\n    <tr style=\"text-align: right;\">\n      <th></th>\n      <th>const</th>\n      <th>SL-X</th>\n      <th>SL-Z</th>\n      <th>WAR</th>\n      <th>SL-MAG</th>\n    </tr>\n    <tr>\n      <th>playerid</th>\n      <th></th>\n      <th></th>\n      <th></th>\n      <th></th>\n      <th></th>\n    </tr>\n  </thead>\n  <tbody>\n    <tr>\n      <th>21483</th>\n      <td>1</td>\n      <td>-1.9</td>\n      <td>1.2</td>\n      <td>3.5</td>\n      <td>2.247221</td>\n    </tr>\n    <tr>\n      <th>6902</th>\n      <td>1</td>\n      <td>-2.0</td>\n      <td>2.0</td>\n      <td>3.8</td>\n      <td>2.828427</td>\n    </tr>\n    <tr>\n      <th>19244</th>\n      <td>1</td>\n      <td>-5.3</td>\n      <td>-2.4</td>\n      <td>1.4</td>\n      <td>5.818075</td>\n    </tr>\n    <tr>\n      <th>11486</th>\n      <td>1</td>\n      <td>-0.7</td>\n      <td>3.5</td>\n      <td>1.8</td>\n      <td>3.569314</td>\n    </tr>\n    <tr>\n      <th>17295</th>\n      <td>1</td>\n      <td>-2.1</td>\n      <td>-4.1</td>\n      <td>4.4</td>\n      <td>4.606517</td>\n    </tr>\n    <tr>\n      <th>16137</th>\n      <td>1</td>\n      <td>-4.5</td>\n      <td>-1.3</td>\n      <td>6.2</td>\n      <td>4.684015</td>\n    </tr>\n    <tr>\n      <th>16256</th>\n      <td>1</td>\n      <td>-2.5</td>\n      <td>-4.4</td>\n      <td>2.6</td>\n      <td>5.060632</td>\n    </tr>\n    <tr>\n      <th>13743</th>\n      <td>1</td>\n      <td>-2.2</td>\n      <td>-0.3</td>\n      <td>5.0</td>\n      <td>2.220360</td>\n    </tr>\n    <tr>\n      <th>2233</th>\n      <td>1</td>\n      <td>6.4</td>\n      <td>-2.6</td>\n      <td>2.8</td>\n      <td>6.907966</td>\n    </tr>\n    <tr>\n      <th>18525</th>\n      <td>1</td>\n      <td>2.2</td>\n      <td>-0.4</td>\n      <td>4.4</td>\n      <td>2.236068</td>\n    </tr>\n    <tr>\n      <th>19291</th>\n      <td>1</td>\n      <td>4.0</td>\n      <td>0.9</td>\n      <td>4.3</td>\n      <td>4.100000</td>\n    </tr>\n    <tr>\n      <th>18000</th>\n      <td>1</td>\n      <td>2.9</td>\n      <td>4.9</td>\n      <td>3.6</td>\n      <td>5.693856</td>\n    </tr>\n    <tr>\n      <th>19755</th>\n      <td>1</td>\n      <td>7.8</td>\n      <td>1.6</td>\n      <td>5.6</td>\n      <td>7.962412</td>\n    </tr>\n    <tr>\n      <th>12970</th>\n      <td>1</td>\n      <td>7.5</td>\n      <td>-2.0</td>\n      <td>3.5</td>\n      <td>7.762087</td>\n    </tr>\n    <tr>\n      <th>15454</th>\n      <td>1</td>\n      <td>3.3</td>\n      <td>1.1</td>\n      <td>1.5</td>\n      <td>3.478505</td>\n    </tr>\n    <tr>\n      <th>9803</th>\n      <td>1</td>\n      <td>2.2</td>\n      <td>1.8</td>\n      <td>2.8</td>\n      <td>2.842534</td>\n    </tr>\n    <tr>\n      <th>26410</th>\n      <td>1</td>\n      <td>8.2</td>\n      <td>-0.8</td>\n      <td>4.1</td>\n      <td>8.238932</td>\n    </tr>\n    <tr>\n      <th>12304</th>\n      <td>1</td>\n      <td>7.4</td>\n      <td>-0.4</td>\n      <td>2.7</td>\n      <td>7.410803</td>\n    </tr>\n    <tr>\n      <th>11674</th>\n      <td>1</td>\n      <td>3.5</td>\n      <td>1.4</td>\n      <td>2.3</td>\n      <td>3.769615</td>\n    </tr>\n    <tr>\n      <th>7593</th>\n      <td>1</td>\n      <td>8.8</td>\n      <td>-1.4</td>\n      <td>1.4</td>\n      <td>8.910668</td>\n    </tr>\n    <tr>\n      <th>10123</th>\n      <td>1</td>\n      <td>3.0</td>\n      <td>-1.3</td>\n      <td>1.8</td>\n      <td>3.269557</td>\n    </tr>\n    <tr>\n      <th>19361</th>\n      <td>1</td>\n      <td>4.3</td>\n      <td>-0.9</td>\n      <td>4.6</td>\n      <td>4.393177</td>\n    </tr>\n    <tr>\n      <th>22250</th>\n      <td>1</td>\n      <td>3.5</td>\n      <td>1.6</td>\n      <td>3.2</td>\n      <td>3.848376</td>\n    </tr>\n    <tr>\n      <th>13074</th>\n      <td>1</td>\n      <td>5.5</td>\n      <td>-1.0</td>\n      <td>4.2</td>\n      <td>5.590170</td>\n    </tr>\n    <tr>\n      <th>2429</th>\n      <td>1</td>\n      <td>9.5</td>\n      <td>-0.5</td>\n      <td>3.0</td>\n      <td>9.513149</td>\n    </tr>\n    <tr>\n      <th>18413</th>\n      <td>1</td>\n      <td>8.3</td>\n      <td>-0.7</td>\n      <td>1.1</td>\n      <td>8.329466</td>\n    </tr>\n    <tr>\n      <th>11156</th>\n      <td>1</td>\n      <td>1.2</td>\n      <td>1.3</td>\n      <td>3.3</td>\n      <td>1.769181</td>\n    </tr>\n    <tr>\n      <th>19427</th>\n      <td>1</td>\n      <td>1.4</td>\n      <td>0.8</td>\n      <td>4.9</td>\n      <td>1.612452</td>\n    </tr>\n    <tr>\n      <th>15038</th>\n      <td>1</td>\n      <td>0.2</td>\n      <td>2.2</td>\n      <td>1.4</td>\n      <td>2.209072</td>\n    </tr>\n    <tr>\n      <th>17995</th>\n      <td>1</td>\n      <td>5.9</td>\n      <td>-0.4</td>\n      <td>4.2</td>\n      <td>5.913544</td>\n    </tr>\n    <tr>\n      <th>8700</th>\n      <td>1</td>\n      <td>2.2</td>\n      <td>1.8</td>\n      <td>6.1</td>\n      <td>2.842534</td>\n    </tr>\n    <tr>\n      <th>13125</th>\n      <td>1</td>\n      <td>2.7</td>\n      <td>-0.4</td>\n      <td>3.3</td>\n      <td>2.729469</td>\n    </tr>\n    <tr>\n      <th>14107</th>\n      <td>1</td>\n      <td>0.6</td>\n      <td>0.7</td>\n      <td>5.7</td>\n      <td>0.921954</td>\n    </tr>\n    <tr>\n      <th>4676</th>\n      <td>1</td>\n      <td>1.0</td>\n      <td>2.3</td>\n      <td>1.5</td>\n      <td>2.507987</td>\n    </tr>\n    <tr>\n      <th>14168</th>\n      <td>1</td>\n      <td>9.0</td>\n      <td>-3.5</td>\n      <td>1.1</td>\n      <td>9.656604</td>\n    </tr>\n    <tr>\n      <th>19665</th>\n      <td>1</td>\n      <td>-0.5</td>\n      <td>3.9</td>\n      <td>2.9</td>\n      <td>3.931921</td>\n    </tr>\n    <tr>\n      <th>18684</th>\n      <td>1</td>\n      <td>0.2</td>\n      <td>1.2</td>\n      <td>5.7</td>\n      <td>1.216553</td>\n    </tr>\n  </tbody>\n</table>\n</div>"
     },
     "execution_count": 49,
     "metadata": {},
     "output_type": "execute_result"
    }
   ],
   "source": [
    "# get fastball h/v\n",
    "sl_move = df_mov[['SL-X', 'SL-Z']].dropna()\n",
    "# add WAR\n",
    "sl_move['WAR'] = df.WAR\n",
    "# add const\n",
    "sl_move.insert(0, 'const', value=1)\n",
    "# vectorize movement\n",
    "vect = sl_move['SL-X']**2 + sl_move['SL-Z']**2\n",
    "sl_move['SL-MAG'] = vect\n",
    "sl_move['SL-MAG'] = sl_move['SL-MAG'].apply(lambda v: math.sqrt(v))\n",
    "sl_move"
   ],
   "metadata": {
    "collapsed": false,
    "pycharm": {
     "name": "#%%\n"
    }
   }
  },
  {
   "cell_type": "code",
   "execution_count": 50,
   "outputs": [
    {
     "name": "stdout",
     "output_type": "stream",
     "text": [
      "                            OLS Regression Results                            \n",
      "==============================================================================\n",
      "Dep. Variable:                    WAR   R-squared:                       0.090\n",
      "Model:                            OLS   Adj. R-squared:                  0.064\n",
      "Method:                 Least Squares   F-statistic:                     3.457\n",
      "Date:                Tue, 15 Nov 2022   Prob (F-statistic):             0.0714\n",
      "Time:                        22:34:41   Log-Likelihood:                -65.035\n",
      "No. Observations:                  37   AIC:                             134.1\n",
      "Df Residuals:                      35   BIC:                             137.3\n",
      "Df Model:                           1                                         \n",
      "Covariance Type:            nonrobust                                         \n",
      "==============================================================================\n",
      "                 coef    std err          t      P>|t|      [0.025      0.975]\n",
      "------------------------------------------------------------------------------\n",
      "const          4.2250      0.504      8.375      0.000       3.201       5.249\n",
      "SL-MAG        -0.1795      0.097     -1.859      0.071      -0.376       0.017\n",
      "==============================================================================\n",
      "Omnibus:                        1.589   Durbin-Watson:                   1.959\n",
      "Prob(Omnibus):                  0.452   Jarque-Bera (JB):                1.111\n",
      "Skew:                           0.123   Prob(JB):                        0.574\n",
      "Kurtosis:                       2.188   Cond. No.                         11.4\n",
      "==============================================================================\n",
      "\n",
      "Notes:\n",
      "[1] Standard Errors assume that the covariance matrix of the errors is correctly specified.\n"
     ]
    }
   ],
   "source": [
    "results_fa_move = sm.OLS(endog=sl_move['WAR'], exog=sl_move[['const', 'SL-MAG']]).fit()\n",
    "print(results_fa_move.summary())"
   ],
   "metadata": {
    "collapsed": false,
    "pycharm": {
     "name": "#%%\n"
    }
   }
  },
  {
   "cell_type": "markdown",
   "source": [
    "## Pitch Extension"
   ],
   "metadata": {
    "collapsed": false,
    "pycharm": {
     "name": "#%% md\n"
    }
   }
  },
  {
   "cell_type": "code",
   "execution_count": 51,
   "outputs": [
    {
     "name": "stdout",
     "output_type": "stream",
     "text": [
      "                            OLS Regression Results                            \n",
      "==============================================================================\n",
      "Dep. Variable:                   woba   R-squared:                       0.000\n",
      "Model:                            OLS   Adj. R-squared:                 -0.001\n",
      "Method:                 Least Squares   F-statistic:                  0.004709\n",
      "Date:                Tue, 15 Nov 2022   Prob (F-statistic):              0.945\n",
      "Time:                        23:09:44   Log-Likelihood:                 986.20\n",
      "No. Observations:                 668   AIC:                            -1968.\n",
      "Df Residuals:                     666   BIC:                            -1959.\n",
      "Df Model:                           1                                         \n",
      "Covariance Type:            nonrobust                                         \n",
      "=====================================================================================\n",
      "                        coef    std err          t      P>|t|      [0.025      0.975]\n",
      "-------------------------------------------------------------------------------------\n",
      "const                 0.3194      0.033      9.644      0.000       0.254       0.384\n",
      "release_extension    -0.0004      0.005     -0.069      0.945      -0.011       0.010\n",
      "==============================================================================\n",
      "Omnibus:                      131.636   Durbin-Watson:                   1.890\n",
      "Prob(Omnibus):                  0.000   Jarque-Bera (JB):              389.967\n",
      "Skew:                           0.954   Prob(JB):                     2.09e-85\n",
      "Kurtosis:                       6.220   Cond. No.                         100.\n",
      "==============================================================================\n",
      "\n",
      "Notes:\n",
      "[1] Standard Errors assume that the covariance matrix of the errors is correctly specified.\n"
     ]
    }
   ],
   "source": [
    "ext = pd.read_csv('pit_ext.csv', index_col='player_id')\n",
    "ext.insert(0, 'const', value=1)\n",
    "model_ext = sm.OLS(endog=ext['woba'], exog=ext[['const', 'release_extension']]).fit()\n",
    "print(model_ext.summary())"
   ],
   "metadata": {
    "collapsed": false,
    "pycharm": {
     "name": "#%%\n"
    }
   }
  },
  {
   "cell_type": "code",
   "execution_count": null,
   "outputs": [],
   "source": [],
   "metadata": {
    "collapsed": false,
    "pycharm": {
     "name": "#%%\n"
    }
   }
  }
 ],
 "metadata": {
  "kernelspec": {
   "display_name": "Python 3",
   "language": "python",
   "name": "python3"
  },
  "language_info": {
   "codemirror_mode": {
    "name": "ipython",
    "version": 2
   },
   "file_extension": ".py",
   "mimetype": "text/x-python",
   "name": "python",
   "nbconvert_exporter": "python",
   "pygments_lexer": "ipython2",
   "version": "2.7.6"
  }
 },
 "nbformat": 4,
 "nbformat_minor": 0
}
