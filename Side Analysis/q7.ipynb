{
 "cells": [
  {
   "cell_type": "code",
   "execution_count": 2,
   "outputs": [
    {
     "data": {
      "text/plain": "   PITCHNO    TM_DATE  TM_TIME  UTCDATE  UTCTIME  \\\n0        1  4/20/2021  17:23.9  00:00.0  17:23.9   \n1        2  4/20/2021  17:24.9  00:00.0  17:24.9   \n2        3  4/20/2021  17:25.9  00:00.0  17:25.9   \n3        4  4/20/2021  17:26.9  00:00.0  17:26.9   \n4        5  4/20/2021  17:27.9  00:00.0  17:27.9   \n\n                        LOCALDATETIME                         UTCDATETIME  \\\n0  2021-04-20 19:17:23.8830000 -07:00  2021-04-21 02:17:23.8830000 +00:00   \n1  2021-04-20 19:17:24.8830000 -07:00  2021-04-21 02:17:24.8830000 +00:00   \n2  2021-04-20 19:17:25.8830000 -07:00  2021-04-21 02:17:25.8830000 +00:00   \n3  2021-04-20 19:17:26.8830000 -07:00  2021-04-21 02:17:26.8830000 +00:00   \n4  2021-04-20 19:17:27.8830000 -07:00  2021-04-21 02:17:27.8830000 +00:00   \n\n   PAOFINNING  PITCHOFPA  PITCHER  ...  LASTTRACKEDDISTANCE BEARING HANGTIME  \\\n0           1          1      NaN  ...                  NaN     NaN      NaN   \n1           2          1      NaN  ...                  NaN     NaN      NaN   \n2           2          2      NaN  ...                  NaN     NaN      NaN   \n3           2          3      NaN  ...                  NaN     NaN      NaN   \n4           2          4      NaN  ...                  NaN     NaN      NaN   \n\n   PFXX  PFXZ HOMETEAM AWAYTEAM STADIUM  LEVEL            GAMEID  \n0   NaN   NaN       SD      MIL   Petco    MLB  20210420-Petco-1  \n1   NaN   NaN       SD      MIL   Petco    MLB  20210420-Petco-1  \n2   NaN   NaN       SD      MIL   Petco    MLB  20210420-Petco-1  \n3   NaN   NaN       SD      MIL   Petco    MLB  20210420-Petco-1  \n4   NaN   NaN       SD      MIL   Petco    MLB  20210420-Petco-1  \n\n[5 rows x 68 columns]",
      "text/html": "<div>\n<style scoped>\n    .dataframe tbody tr th:only-of-type {\n        vertical-align: middle;\n    }\n\n    .dataframe tbody tr th {\n        vertical-align: top;\n    }\n\n    .dataframe thead th {\n        text-align: right;\n    }\n</style>\n<table border=\"1\" class=\"dataframe\">\n  <thead>\n    <tr style=\"text-align: right;\">\n      <th></th>\n      <th>PITCHNO</th>\n      <th>TM_DATE</th>\n      <th>TM_TIME</th>\n      <th>UTCDATE</th>\n      <th>UTCTIME</th>\n      <th>LOCALDATETIME</th>\n      <th>UTCDATETIME</th>\n      <th>PAOFINNING</th>\n      <th>PITCHOFPA</th>\n      <th>PITCHER</th>\n      <th>...</th>\n      <th>LASTTRACKEDDISTANCE</th>\n      <th>BEARING</th>\n      <th>HANGTIME</th>\n      <th>PFXX</th>\n      <th>PFXZ</th>\n      <th>HOMETEAM</th>\n      <th>AWAYTEAM</th>\n      <th>STADIUM</th>\n      <th>LEVEL</th>\n      <th>GAMEID</th>\n    </tr>\n  </thead>\n  <tbody>\n    <tr>\n      <th>0</th>\n      <td>1</td>\n      <td>4/20/2021</td>\n      <td>17:23.9</td>\n      <td>00:00.0</td>\n      <td>17:23.9</td>\n      <td>2021-04-20 19:17:23.8830000 -07:00</td>\n      <td>2021-04-21 02:17:23.8830000 +00:00</td>\n      <td>1</td>\n      <td>1</td>\n      <td>NaN</td>\n      <td>...</td>\n      <td>NaN</td>\n      <td>NaN</td>\n      <td>NaN</td>\n      <td>NaN</td>\n      <td>NaN</td>\n      <td>SD</td>\n      <td>MIL</td>\n      <td>Petco</td>\n      <td>MLB</td>\n      <td>20210420-Petco-1</td>\n    </tr>\n    <tr>\n      <th>1</th>\n      <td>2</td>\n      <td>4/20/2021</td>\n      <td>17:24.9</td>\n      <td>00:00.0</td>\n      <td>17:24.9</td>\n      <td>2021-04-20 19:17:24.8830000 -07:00</td>\n      <td>2021-04-21 02:17:24.8830000 +00:00</td>\n      <td>2</td>\n      <td>1</td>\n      <td>NaN</td>\n      <td>...</td>\n      <td>NaN</td>\n      <td>NaN</td>\n      <td>NaN</td>\n      <td>NaN</td>\n      <td>NaN</td>\n      <td>SD</td>\n      <td>MIL</td>\n      <td>Petco</td>\n      <td>MLB</td>\n      <td>20210420-Petco-1</td>\n    </tr>\n    <tr>\n      <th>2</th>\n      <td>3</td>\n      <td>4/20/2021</td>\n      <td>17:25.9</td>\n      <td>00:00.0</td>\n      <td>17:25.9</td>\n      <td>2021-04-20 19:17:25.8830000 -07:00</td>\n      <td>2021-04-21 02:17:25.8830000 +00:00</td>\n      <td>2</td>\n      <td>2</td>\n      <td>NaN</td>\n      <td>...</td>\n      <td>NaN</td>\n      <td>NaN</td>\n      <td>NaN</td>\n      <td>NaN</td>\n      <td>NaN</td>\n      <td>SD</td>\n      <td>MIL</td>\n      <td>Petco</td>\n      <td>MLB</td>\n      <td>20210420-Petco-1</td>\n    </tr>\n    <tr>\n      <th>3</th>\n      <td>4</td>\n      <td>4/20/2021</td>\n      <td>17:26.9</td>\n      <td>00:00.0</td>\n      <td>17:26.9</td>\n      <td>2021-04-20 19:17:26.8830000 -07:00</td>\n      <td>2021-04-21 02:17:26.8830000 +00:00</td>\n      <td>2</td>\n      <td>3</td>\n      <td>NaN</td>\n      <td>...</td>\n      <td>NaN</td>\n      <td>NaN</td>\n      <td>NaN</td>\n      <td>NaN</td>\n      <td>NaN</td>\n      <td>SD</td>\n      <td>MIL</td>\n      <td>Petco</td>\n      <td>MLB</td>\n      <td>20210420-Petco-1</td>\n    </tr>\n    <tr>\n      <th>4</th>\n      <td>5</td>\n      <td>4/20/2021</td>\n      <td>17:27.9</td>\n      <td>00:00.0</td>\n      <td>17:27.9</td>\n      <td>2021-04-20 19:17:27.8830000 -07:00</td>\n      <td>2021-04-21 02:17:27.8830000 +00:00</td>\n      <td>2</td>\n      <td>4</td>\n      <td>NaN</td>\n      <td>...</td>\n      <td>NaN</td>\n      <td>NaN</td>\n      <td>NaN</td>\n      <td>NaN</td>\n      <td>NaN</td>\n      <td>SD</td>\n      <td>MIL</td>\n      <td>Petco</td>\n      <td>MLB</td>\n      <td>20210420-Petco-1</td>\n    </tr>\n  </tbody>\n</table>\n<p>5 rows × 68 columns</p>\n</div>"
     },
     "execution_count": 2,
     "metadata": {},
     "output_type": "execute_result"
    }
   ],
   "source": [
    "import pandas as pd\n",
    "\n",
    "names = pd.read_csv('Player Name Information.csv', index_col='BAM_ID')\n",
    "raw = pd.read_csv('Raw Data Set.csv')"
   ],
   "metadata": {
    "collapsed": false,
    "pycharm": {
     "name": "#%%\n"
    }
   }
  },
  {
   "cell_type": "markdown",
   "source": [
    "I.  Merge the ‘Player Name Information’ to the ‘Raw Data Set’:\n",
    "- Fill in the PITCHER and BATTER columns with the correct player name in the format of Last, First (i.e. Gallen, Zac)\n",
    "- Append PITCHER_LAST_NAME, PITCHER_ROSTER_FIRST_NAME AND BATTER_LAST_NAME, BATTER_ROSTER_FIRST_NAME to the Raw Data Set file"
   ],
   "metadata": {
    "collapsed": false,
    "pycharm": {
     "name": "#%% md\n"
    }
   }
  },
  {
   "cell_type": "code",
   "execution_count": null,
   "outputs": [],
   "source": [],
   "metadata": {
    "collapsed": false,
    "pycharm": {
     "name": "#%%\n"
    }
   }
  },
  {
   "cell_type": "markdown",
   "source": [
    "II. Filter any records that are missing a PITCH_TYPE and summarize the average and 90th percentile of RELSPEED, HORZBREAK, INDUCEDVERTBREAK, SPINRATE, RELHEIGHT, and RELSIDE for each PITCHER -> PITCH_TYPE in the data set."
   ],
   "metadata": {
    "collapsed": false,
    "pycharm": {
     "name": "#%% md\n"
    }
   }
  },
  {
   "cell_type": "code",
   "execution_count": null,
   "outputs": [],
   "source": [],
   "metadata": {
    "collapsed": false,
    "pycharm": {
     "name": "#%%\n"
    }
   }
  },
  {
   "cell_type": "markdown",
   "source": [
    "III.    Create a visual representing each pitcher’s average velocity by PITCH_TYPE against the MLB average velocity for each PITCH_TYPE (use the Raw Data Set as the entirety of MLB). The visual should be separated into 6 different sections, one for each pitch type in the data set. Be as creative as you would like with this and feel free to add any other relevant information to your visual."
   ],
   "metadata": {
    "collapsed": false,
    "pycharm": {
     "name": "#%% md\n"
    }
   }
  },
  {
   "cell_type": "code",
   "execution_count": null,
   "outputs": [],
   "source": [],
   "metadata": {
    "collapsed": false,
    "pycharm": {
     "name": "#%%\n"
    }
   }
  },
  {
   "cell_type": "markdown",
   "source": [],
   "metadata": {
    "collapsed": false,
    "pycharm": {
     "name": "#%% md\n"
    }
   }
  }
 ],
 "metadata": {
  "kernelspec": {
   "display_name": "Python 3",
   "language": "python",
   "name": "python3"
  },
  "language_info": {
   "codemirror_mode": {
    "name": "ipython",
    "version": 2
   },
   "file_extension": ".py",
   "mimetype": "text/x-python",
   "name": "python",
   "nbconvert_exporter": "python",
   "pygments_lexer": "ipython2",
   "version": "2.7.6"
  }
 },
 "nbformat": 4,
 "nbformat_minor": 0
}