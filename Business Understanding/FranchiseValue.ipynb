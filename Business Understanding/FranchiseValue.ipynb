{
 "cells": [
  {
   "cell_type": "code",
   "execution_count": 1,
   "metadata": {
    "collapsed": true
   },
   "outputs": [
    {
     "data": {
      "text/plain": "                     Team Franchise Value in M\n0        New York Yankees                6,000\n1     Los Angeles Dodgers                4,075\n2          Boston Red Sox                3,900\n3            Chicago Cubs                3,800\n4    San Francisco Giants                3,500\n5           New York Mets                2,650\n6     St. Louis Cardinals                2,450\n7   Philadelphia Phillies                2,300\n8      Los Angeles Angels                2,200\n9          Atlanta Braves                2,100\n10          Texas Rangers                2,050\n11   Washington Nationals                2,000\n12         Houston Astros                1,980\n13      Toronto Blue Jays                1,780\n14      Chicago White Sox                1,760\n15       Seattle Mariners                1,700\n16       San Diego Padres                1,575\n17         Detroit Tigers                1,400\n18        Minnesota Twins                1,390\n19       Colorado Rockies                1,385\n20   Arizona Diamondbacks                1,380\n21      Baltimore Orioles                1,375\n22     Pittsburgh Pirates                1,320\n23    Cleveland Guardians                1,300\n24      Milwaukee Brewers                1,280\n25        Cincinnati Reds                1,190\n26      Oakland Athletics                1,180\n27     Kansas City Royals                1,110\n28         Tampa Bay Rays                1,100\n29          Miami Marlins                  990",
      "text/html": "<div>\n<style scoped>\n    .dataframe tbody tr th:only-of-type {\n        vertical-align: middle;\n    }\n\n    .dataframe tbody tr th {\n        vertical-align: top;\n    }\n\n    .dataframe thead th {\n        text-align: right;\n    }\n</style>\n<table border=\"1\" class=\"dataframe\">\n  <thead>\n    <tr style=\"text-align: right;\">\n      <th></th>\n      <th>Team</th>\n      <th>Franchise Value in M</th>\n    </tr>\n  </thead>\n  <tbody>\n    <tr>\n      <th>0</th>\n      <td>New York Yankees</td>\n      <td>6,000</td>\n    </tr>\n    <tr>\n      <th>1</th>\n      <td>Los Angeles Dodgers</td>\n      <td>4,075</td>\n    </tr>\n    <tr>\n      <th>2</th>\n      <td>Boston Red Sox</td>\n      <td>3,900</td>\n    </tr>\n    <tr>\n      <th>3</th>\n      <td>Chicago Cubs</td>\n      <td>3,800</td>\n    </tr>\n    <tr>\n      <th>4</th>\n      <td>San Francisco Giants</td>\n      <td>3,500</td>\n    </tr>\n    <tr>\n      <th>5</th>\n      <td>New York Mets</td>\n      <td>2,650</td>\n    </tr>\n    <tr>\n      <th>6</th>\n      <td>St. Louis Cardinals</td>\n      <td>2,450</td>\n    </tr>\n    <tr>\n      <th>7</th>\n      <td>Philadelphia Phillies</td>\n      <td>2,300</td>\n    </tr>\n    <tr>\n      <th>8</th>\n      <td>Los Angeles Angels</td>\n      <td>2,200</td>\n    </tr>\n    <tr>\n      <th>9</th>\n      <td>Atlanta Braves</td>\n      <td>2,100</td>\n    </tr>\n    <tr>\n      <th>10</th>\n      <td>Texas Rangers</td>\n      <td>2,050</td>\n    </tr>\n    <tr>\n      <th>11</th>\n      <td>Washington Nationals</td>\n      <td>2,000</td>\n    </tr>\n    <tr>\n      <th>12</th>\n      <td>Houston Astros</td>\n      <td>1,980</td>\n    </tr>\n    <tr>\n      <th>13</th>\n      <td>Toronto Blue Jays</td>\n      <td>1,780</td>\n    </tr>\n    <tr>\n      <th>14</th>\n      <td>Chicago White Sox</td>\n      <td>1,760</td>\n    </tr>\n    <tr>\n      <th>15</th>\n      <td>Seattle Mariners</td>\n      <td>1,700</td>\n    </tr>\n    <tr>\n      <th>16</th>\n      <td>San Diego Padres</td>\n      <td>1,575</td>\n    </tr>\n    <tr>\n      <th>17</th>\n      <td>Detroit Tigers</td>\n      <td>1,400</td>\n    </tr>\n    <tr>\n      <th>18</th>\n      <td>Minnesota Twins</td>\n      <td>1,390</td>\n    </tr>\n    <tr>\n      <th>19</th>\n      <td>Colorado Rockies</td>\n      <td>1,385</td>\n    </tr>\n    <tr>\n      <th>20</th>\n      <td>Arizona Diamondbacks</td>\n      <td>1,380</td>\n    </tr>\n    <tr>\n      <th>21</th>\n      <td>Baltimore Orioles</td>\n      <td>1,375</td>\n    </tr>\n    <tr>\n      <th>22</th>\n      <td>Pittsburgh Pirates</td>\n      <td>1,320</td>\n    </tr>\n    <tr>\n      <th>23</th>\n      <td>Cleveland Guardians</td>\n      <td>1,300</td>\n    </tr>\n    <tr>\n      <th>24</th>\n      <td>Milwaukee Brewers</td>\n      <td>1,280</td>\n    </tr>\n    <tr>\n      <th>25</th>\n      <td>Cincinnati Reds</td>\n      <td>1,190</td>\n    </tr>\n    <tr>\n      <th>26</th>\n      <td>Oakland Athletics</td>\n      <td>1,180</td>\n    </tr>\n    <tr>\n      <th>27</th>\n      <td>Kansas City Royals</td>\n      <td>1,110</td>\n    </tr>\n    <tr>\n      <th>28</th>\n      <td>Tampa Bay Rays</td>\n      <td>1,100</td>\n    </tr>\n    <tr>\n      <th>29</th>\n      <td>Miami Marlins</td>\n      <td>990</td>\n    </tr>\n  </tbody>\n</table>\n</div>"
     },
     "execution_count": 1,
     "metadata": {},
     "output_type": "execute_result"
    }
   ],
   "source": [
    "import pandas as pd\n",
    "\n",
    "df = pd.read_csv('fran_val.csv')\n",
    "df"
   ]
  },
  {
   "cell_type": "code",
   "execution_count": null,
   "outputs": [],
   "source": [
    "# Implement K-Means\n",
    "from sklearn.cluster import KMeans"
   ],
   "metadata": {
    "collapsed": false
   }
  }
 ],
 "metadata": {
  "kernelspec": {
   "display_name": "Python 3",
   "language": "python",
   "name": "python3"
  },
  "language_info": {
   "codemirror_mode": {
    "name": "ipython",
    "version": 2
   },
   "file_extension": ".py",
   "mimetype": "text/x-python",
   "name": "python",
   "nbconvert_exporter": "python",
   "pygments_lexer": "ipython2",
   "version": "2.7.6"
  }
 },
 "nbformat": 4,
 "nbformat_minor": 0
}
