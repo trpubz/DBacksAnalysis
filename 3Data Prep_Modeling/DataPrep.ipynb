{
 "cells": [
  {
   "cell_type": "markdown",
   "source": [
    "# Data Prep & Modeling\n",
    "## Filtering"
   ],
   "metadata": {
    "collapsed": false,
    "pycharm": {
     "name": "#%% md\n"
    }
   }
  },
  {
   "cell_type": "code",
   "execution_count": 190,
   "outputs": [
    {
     "name": "stdout",
     "output_type": "stream",
     "text": [
      "data-set shape prior to filtering: (867, 30)\n",
      "data-set shape after to filtering sac hits: (865, 30)\n",
      "data-set shape after to filtering missing spin observations: (859, 30)\n"
     ]
    }
   ],
   "source": [
    "import matplotlib.pyplot as plt\n",
    "import pandas as pd\n",
    "import numpy as np\n",
    "# Make numpy printouts easier to read.\n",
    "np.set_printoptions(precision=3, suppress=True)\n",
    "\n",
    "marte_raw = pd.read_csv('marte_vs_nlwest_19_22.csv',\n",
    "                        usecols=['pitch_type', 'game_date', 'release_speed', 'release_pos_x', 'release_pos_z', 'pitcher', 'zone', 'des', 'p_throws', 'bb_type', 'balls', 'strikes', 'game_year', 'pfx_x', 'pfx_z', 'hc_x', 'hc_y', 'hit_distance_sc', 'launch_speed', 'launch_angle', 'effective_speed', 'release_spin_rate', 'release_extension', 'estimated_woba_using_speedangle', 'woba_value', 'woba_denom', 'iso_value', 'launch_speed_angle', 'pitch_name', 'spin_axis'])\n",
    "\n",
    "# rename the primary response variable\n",
    "marte_raw.rename(columns={'estimated_woba_using_speedangle': 'xwOBA'}, inplace=True)\n",
    "print(f\"data-set shape prior to filtering: {marte_raw.shape}\")\n",
    "\n",
    "# filter sacrifice events; if woba_denom is NaN, then sacrifice event\n",
    "marte_raw.dropna(axis='rows', subset=['woba_denom'], how='any', inplace=True)\n",
    "print(f\"data-set shape after to filtering sac hits: {marte_raw.shape}\")\n",
    "\n",
    "# filter missing observation data\n",
    "marte_raw.dropna(axis='rows', subset=['release_spin_rate', 'spin_axis'], how='any', inplace=True)\n",
    "print(f\"data-set shape after to filtering missing spin observations: {marte_raw.shape}\")"
   ],
   "metadata": {
    "collapsed": false,
    "pycharm": {
     "name": "#%%\n"
    }
   }
  },
  {
   "cell_type": "markdown",
   "source": [
    "- release_speed\n",
    "    - Pitch velocities from 2008-16 are via Pitch F/X, and adjusted to roughly out-of-hand release point. All velocities from 2017 and beyond are Statcast, which are reported out-of-hand.\n",
    "- release_pos_x\n",
    "    - horizontal Release Position of the ball measured in feet from the catcher's perspective.\n",
    "- release_pos_z\n",
    "    - Vertical Release Position of the ball measured in feet from the catcher's perspective.\n",
    "- plate_x\n",
    "    - Horizontal position of the ball when it crosses home plate from the catcher's perspective.\n",
    "- plate_z\n",
    "    - Vertical position of the ball when it crosses home plate from the catcher's perspective.\n",
    "- pitcher\n",
    "    - MLB Player Id tied to the play event.\n",
    "- zone\n",
    "    - Zone location of the ball when it crosses the plate from the catcher's perspective.\n",
    "- pfx_x\n",
    "    - Horizontal movement in feet from the catcher's perspective.\n",
    "- pfx_z\n",
    "    - Vertical movement in feet from the catcher's perpsective.\n",
    "- effective_speed\n",
    "    - Derived speed based on the the extension of the pitcher's release.\n",
    "- release_spin\n",
    "    - Spin rate of pitch tracked by Statcast.\n",
    "- spin_axis\n",
    "    - The Spin Axis in the 2D X-Z plane in degrees from 0 to 360, such that 180 represents a pure backspin fastball and 0 degrees represents a pure topspin (12-6) curveball"
   ],
   "metadata": {
    "collapsed": false,
    "pycharm": {
     "name": "#%% md\n"
    }
   }
  },
  {
   "cell_type": "markdown",
   "source": [
    "## Filtering ext., Computed Features, NaN Conversions"
   ],
   "metadata": {
    "collapsed": false,
    "pycharm": {
     "name": "#%% md\n"
    }
   }
  },
  {
   "cell_type": "code",
   "execution_count": 191,
   "outputs": [
    {
     "name": "stdout",
     "output_type": "stream",
     "text": [
      "new data-set shape after to filtering for proper metrics: (859, 12)\n",
      "number of NaN xwOBA PAs prior to conversion: 184\n",
      "number of valid xwOBA PAs after conversion: 859\n",
      "   xwOBA  woba_value  game_year  pitcher p_throws pitch_type  release_speed  \\\n",
      "0  0.709         0.9       2022   596001        R         SI           92.9   \n",
      "1  0.262         0.0       2022   596001        R         SI           92.6   \n",
      "2  0.231         0.0       2022   596001        R         SI           93.0   \n",
      "3  0.117         0.0       2022   518397        L         SI           93.3   \n",
      "4  0.438         0.0       2022   502171        R         SI           94.1   \n",
      "\n",
      "   release_spin_rate  spin_axis  zone  pfx_x  pfx_z     pfx_v  \n",
      "0             2303.0      211.0     5  -1.15   0.68  1.336001  \n",
      "1             2316.0      204.0     9  -1.05   0.80  1.320038  \n",
      "2             2245.0      219.0     8  -1.13   0.79  1.378768  \n",
      "3             2189.0      135.0     8   1.19   0.28  1.222497  \n",
      "4             2126.0      221.0     4  -1.34   0.45  1.413542  \n"
     ]
    }
   ],
   "source": [
    "import numpy as np\n",
    "import math\n",
    "\n",
    "# filter raw set with proposed model metrics\n",
    "marte_vs = marte_raw.drop(columns=['game_date', 'release_pos_x', 'release_pos_z', 'des', 'bb_type', 'balls', 'strikes', 'hc_x', 'hc_y', 'hit_distance_sc', 'launch_speed', 'launch_angle', 'effective_speed', 'release_extension', 'woba_denom', 'iso_value', 'launch_speed_angle', 'pitch_name'])\n",
    "print(f\"new data-set shape after to filtering for proper metrics: {marte_vs.shape}\")\n",
    "\n",
    "# vectorize the horizontal & vertical movement using pythagorean theorem\n",
    "marte_vs['pfx_v'] = np.sqrt(marte_vs.pfx_x ** 2 + marte_vs.pfx_z ** 2)\n",
    "\n",
    "print(f\"number of NaN xwOBA PAs prior to conversion: {marte_vs.xwOBA.isnull().sum()}\")\n",
    "\n",
    "# convert xwOBA stat to include .7 for walks and 0.0 for strikeouts\n",
    "# if the xwOBA stat is NaN, then need to use the woba_value\n",
    "# converts 184 NaN occurrences\n",
    "marte_vs['xwOBA'] = marte_vs.apply(lambda x: x.woba_value if math.isnan(x.xwOBA) else x.xwOBA, axis=1)\n",
    "\n",
    "print(f\"number of valid xwOBA PAs after conversion: {marte_vs.xwOBA.notnull().sum()}\")\n",
    "\n",
    "# reorder columns for logical readability\n",
    "marte_vs = marte_vs.reindex(columns=['xwOBA', 'woba_value', 'game_year', 'pitcher', 'p_throws', 'pitch_type', 'release_speed', 'release_spin_rate', 'spin_axis', 'zone', 'pfx_x', 'pfx_z', 'pfx_v'])\n",
    "\n",
    "print(marte_vs.head())"
   ],
   "metadata": {
    "collapsed": false,
    "pycharm": {
     "name": "#%%\n"
    }
   }
  },
  {
   "cell_type": "code",
   "execution_count": 192,
   "outputs": [],
   "source": [
    "# exploration\n",
    "import seaborn as sns\n",
    "\n",
    "# sns.pairplot(marte_vs[['xwOBA', 'woba_value', 'p_throws', 'pitch_type', 'release_speed', 'release_spin_rate', 'spin_axis', 'zone', 'pfx_x', 'pfx_z', 'pfx_v']], corner=True, hue='pitch_type')"
   ],
   "metadata": {
    "collapsed": false,
    "pycharm": {
     "name": "#%%\n"
    }
   }
  },
  {
   "cell_type": "code",
   "execution_count": 193,
   "outputs": [
    {
     "name": "stderr",
     "output_type": "stream",
     "text": [
      "/usr/local/lib/python3.10/site-packages/seaborn/distributions.py:316: UserWarning: Dataset has 0 variance; skipping density estimate. Pass `warn_singular=False` to disable this warning.\n",
      "  warnings.warn(msg, UserWarning)\n"
     ]
    },
    {
     "data": {
      "text/plain": "<AxesSubplot:xlabel='xwOBA', ylabel='Density'>"
     },
     "execution_count": 193,
     "metadata": {},
     "output_type": "execute_result"
    },
    {
     "data": {
      "text/plain": "<Figure size 432x288 with 1 Axes>",
      "image/png": "[encoded data removed]"
     },
     "metadata": {
      "needs_background": "light"
     },
     "output_type": "display_data"
    }
   ],
   "source": [
    "sns.kdeplot(marte_vs.xwOBA, hue=marte_vs.pitch_type)"
   ],
   "metadata": {
    "collapsed": false,
    "pycharm": {
     "name": "#%%\n"
    }
   }
  },
  {
   "cell_type": "code",
   "execution_count": 194,
   "outputs": [
    {
     "data": {
      "text/plain": "<AxesSubplot:xlabel='xwOBA', ylabel='Count'>"
     },
     "execution_count": 194,
     "metadata": {},
     "output_type": "execute_result"
    },
    {
     "data": {
      "text/plain": "<Figure size 432x288 with 1 Axes>",
      "image/png": "[encoded data removed]"
     },
     "metadata": {
      "needs_background": "light"
     },
     "output_type": "display_data"
    }
   ],
   "source": [
    "sns.histplot(marte_vs, x='xwOBA')  # show need for response transformation"
   ],
   "metadata": {
    "collapsed": false,
    "pycharm": {
     "name": "#%%\n"
    }
   }
  },
  {
   "cell_type": "code",
   "execution_count": 195,
   "outputs": [
    {
     "data": {
      "text/plain": "<AxesSubplot:ylabel='Count'>"
     },
     "execution_count": 195,
     "metadata": {},
     "output_type": "execute_result"
    },
    {
     "data": {
      "text/plain": "<Figure size 432x288 with 1 Axes>",
      "image/png": "[encoded data removed]"
     },
     "metadata": {
      "needs_background": "light"
     },
     "output_type": "display_data"
    }
   ],
   "source": [
    "from sklearn.preprocessing import PowerTransformer\n",
    "\n",
    "# Yeo-Johnson transformation of output\n",
    "pt_out = PowerTransformer(standardize=False)\n",
    "# extract target and convert to 1D array\n",
    "y_xwOBA = marte_vs.xwOBA.to_numpy().reshape(-1, 1)\n",
    "# transformation\n",
    "trx_xwOBA = pt_out.fit_transform(y_xwOBA)\n",
    "sns.histplot(trx_xwOBA)"
   ],
   "metadata": {
    "collapsed": false,
    "pycharm": {
     "name": "#%%\n"
    }
   }
  },
  {
   "cell_type": "code",
   "execution_count": 196,
   "outputs": [
    {
     "data": {
      "text/plain": "<AxesSubplot:ylabel='Count'>"
     },
     "execution_count": 196,
     "metadata": {},
     "output_type": "execute_result"
    },
    {
     "data": {
      "text/plain": "<Figure size 432x288 with 1 Axes>",
      "image/png": "[encoded data removed]"
     },
     "metadata": {
      "needs_background": "light"
     },
     "output_type": "display_data"
    }
   ],
   "source": [
    "from sklearn.preprocessing import QuantileTransformer, quantile_transform\n",
    "# qt transformation output\n",
    "\n",
    "qt_xwOBA = quantile_transform(y_xwOBA, n_quantiles=6, output_distribution=\"uniform\", copy=True)\n",
    "sns.histplot(qt_xwOBA)"
   ],
   "metadata": {
    "collapsed": false,
    "pycharm": {
     "name": "#%%\n"
    }
   }
  },
  {
   "cell_type": "code",
   "execution_count": 197,
   "outputs": [
    {
     "data": {
      "text/plain": "<Figure size 432x432 with 3 Axes>",
      "image/png": "[encoded data removed]"
     },
     "metadata": {
      "needs_background": "light"
     },
     "output_type": "display_data"
    }
   ],
   "source": [
    "ff = marte_vs.groupby(['pitch_type']).get_group('FF')\n",
    "g = sns.jointplot(data=ff, x='release_spin_rate', y='release_speed', kind='hex')\n",
    "g.fig.suptitle(\"Raw\")\n",
    "g.fig.subplots_adjust(top=0.95)"
   ],
   "metadata": {
    "collapsed": false,
    "pycharm": {
     "name": "#%%\n"
    }
   }
  },
  {
   "cell_type": "code",
   "execution_count": 198,
   "outputs": [
    {
     "data": {
      "text/plain": "<Figure size 432x432 with 3 Axes>",
      "image/png": "[encoded data removed]"
     },
     "metadata": {
      "needs_background": "light"
     },
     "output_type": "display_data"
    }
   ],
   "source": [
    "# used for positive values\n",
    "pt = PowerTransformer(method='box-cox')\n",
    "bc_trx = pt.fit_transform(ff[['release_spin_rate', 'release_speed']])\n",
    "# convert to df\n",
    "bc_trx = pd.DataFrame(bc_trx, columns=pt.get_feature_names_out())\n",
    "\n",
    "g = sns.jointplot(data=bc_trx, x='release_spin_rate', y='release_speed', kind='hex')\n",
    "g.fig.suptitle(\"PowerTransformer\")\n",
    "g.fig.subplots_adjust(top=0.95)"
   ],
   "metadata": {
    "collapsed": false,
    "pycharm": {
     "name": "#%%\n"
    }
   }
  },
  {
   "cell_type": "markdown",
   "source": [
    "## Transformations\n",
    "### Dummies\n",
    "A common mistake is to apply transformations to the entire data before splitting into training and test sets. This will bias the model evaluation because information would have leaked from the test set to the training set."
   ],
   "metadata": {
    "collapsed": false,
    "pycharm": {
     "name": "#%% md\n"
    }
   }
  },
  {
   "cell_type": "code",
   "execution_count": 199,
   "outputs": [
    {
     "data": {
      "text/plain": "   xwOBA  woba_value  game_year  pitcher  release_speed  release_spin_rate  \\\n0  0.709         0.9       2022   596001           92.9             2303.0   \n1  0.262         0.0       2022   596001           92.6             2316.0   \n2  0.231         0.0       2022   596001           93.0             2245.0   \n3  0.117         0.0       2022   518397           93.3             2189.0   \n4  0.438         0.0       2022   502171           94.1             2126.0   \n\n   spin_axis  pfx_x  pfx_z     pfx_v  ...  zone_5  zone_6  zone_7  zone_8  \\\n0      211.0  -1.15   0.68  1.336001  ...       1       0       0       0   \n1      204.0  -1.05   0.80  1.320038  ...       0       0       0       0   \n2      219.0  -1.13   0.79  1.378768  ...       0       0       0       1   \n3      135.0   1.19   0.28  1.222497  ...       0       0       0       1   \n4      221.0  -1.34   0.45  1.413542  ...       0       0       0       0   \n\n   zone_9  zone_11  zone_12  zone_13  zone_14  p_throws_R  \n0       0        0        0        0        0           1  \n1       1        0        0        0        0           1  \n2       0        0        0        0        0           1  \n3       0        0        0        0        0           0  \n4       0        0        0        0        0           1  \n\n[5 rows x 33 columns]",
      "text/html": "<div>\n<style scoped>\n    .dataframe tbody tr th:only-of-type {\n        vertical-align: middle;\n    }\n\n    .dataframe tbody tr th {\n        vertical-align: top;\n    }\n\n    .dataframe thead th {\n        text-align: right;\n    }\n</style>\n<table border=\"1\" class=\"dataframe\">\n  <thead>\n    <tr style=\"text-align: right;\">\n      <th></th>\n      <th>xwOBA</th>\n      <th>woba_value</th>\n      <th>game_year</th>\n      <th>pitcher</th>\n      <th>release_speed</th>\n      <th>release_spin_rate</th>\n      <th>spin_axis</th>\n      <th>pfx_x</th>\n      <th>pfx_z</th>\n      <th>pfx_v</th>\n      <th>...</th>\n      <th>zone_5</th>\n      <th>zone_6</th>\n      <th>zone_7</th>\n      <th>zone_8</th>\n      <th>zone_9</th>\n      <th>zone_11</th>\n      <th>zone_12</th>\n      <th>zone_13</th>\n      <th>zone_14</th>\n      <th>p_throws_R</th>\n    </tr>\n  </thead>\n  <tbody>\n    <tr>\n      <th>0</th>\n      <td>0.709</td>\n      <td>0.9</td>\n      <td>2022</td>\n      <td>596001</td>\n      <td>92.9</td>\n      <td>2303.0</td>\n      <td>211.0</td>\n      <td>-1.15</td>\n      <td>0.68</td>\n      <td>1.336001</td>\n      <td>...</td>\n      <td>1</td>\n      <td>0</td>\n      <td>0</td>\n      <td>0</td>\n      <td>0</td>\n      <td>0</td>\n      <td>0</td>\n      <td>0</td>\n      <td>0</td>\n      <td>1</td>\n    </tr>\n    <tr>\n      <th>1</th>\n      <td>0.262</td>\n      <td>0.0</td>\n      <td>2022</td>\n      <td>596001</td>\n      <td>92.6</td>\n      <td>2316.0</td>\n      <td>204.0</td>\n      <td>-1.05</td>\n      <td>0.80</td>\n      <td>1.320038</td>\n      <td>...</td>\n      <td>0</td>\n      <td>0</td>\n      <td>0</td>\n      <td>0</td>\n      <td>1</td>\n      <td>0</td>\n      <td>0</td>\n      <td>0</td>\n      <td>0</td>\n      <td>1</td>\n    </tr>\n    <tr>\n      <th>2</th>\n      <td>0.231</td>\n      <td>0.0</td>\n      <td>2022</td>\n      <td>596001</td>\n      <td>93.0</td>\n      <td>2245.0</td>\n      <td>219.0</td>\n      <td>-1.13</td>\n      <td>0.79</td>\n      <td>1.378768</td>\n      <td>...</td>\n      <td>0</td>\n      <td>0</td>\n      <td>0</td>\n      <td>1</td>\n      <td>0</td>\n      <td>0</td>\n      <td>0</td>\n      <td>0</td>\n      <td>0</td>\n      <td>1</td>\n    </tr>\n    <tr>\n      <th>3</th>\n      <td>0.117</td>\n      <td>0.0</td>\n      <td>2022</td>\n      <td>518397</td>\n      <td>93.3</td>\n      <td>2189.0</td>\n      <td>135.0</td>\n      <td>1.19</td>\n      <td>0.28</td>\n      <td>1.222497</td>\n      <td>...</td>\n      <td>0</td>\n      <td>0</td>\n      <td>0</td>\n      <td>1</td>\n      <td>0</td>\n      <td>0</td>\n      <td>0</td>\n      <td>0</td>\n      <td>0</td>\n      <td>0</td>\n    </tr>\n    <tr>\n      <th>4</th>\n      <td>0.438</td>\n      <td>0.0</td>\n      <td>2022</td>\n      <td>502171</td>\n      <td>94.1</td>\n      <td>2126.0</td>\n      <td>221.0</td>\n      <td>-1.34</td>\n      <td>0.45</td>\n      <td>1.413542</td>\n      <td>...</td>\n      <td>0</td>\n      <td>0</td>\n      <td>0</td>\n      <td>0</td>\n      <td>0</td>\n      <td>0</td>\n      <td>0</td>\n      <td>0</td>\n      <td>0</td>\n      <td>1</td>\n    </tr>\n  </tbody>\n</table>\n<p>5 rows × 33 columns</p>\n</div>"
     },
     "execution_count": 199,
     "metadata": {},
     "output_type": "execute_result"
    }
   ],
   "source": [
    "marte_vs_trx = pd.get_dummies(data=marte_vs, columns=['pitch_type', 'zone'])\n",
    "marte_vs_trx = pd.get_dummies(data=marte_vs_trx, columns=['p_throws'], drop_first=True)\n",
    "marte_vs_trx.head()"
   ],
   "metadata": {
    "collapsed": false,
    "pycharm": {
     "name": "#%%\n"
    }
   }
  },
  {
   "cell_type": "markdown",
   "source": [
    "### Feature and output transformations"
   ],
   "metadata": {
    "collapsed": false,
    "pycharm": {
     "name": "#%% md\n"
    }
   }
  },
  {
   "cell_type": "code",
   "execution_count": 200,
   "outputs": [
    {
     "name": "stdout",
     "output_type": "stream",
     "text": [
      "Train set shape\n",
      " (601, 31) (601,)\n",
      "Test set shape\n",
      " (258, 31) (258,)\n",
      "---\n",
      "Train trx set shape\n",
      " (601, 4) (601,)\n",
      "Test trx set shape\n",
      " (258, 4) (258,)\n",
      "---\n"
     ]
    }
   ],
   "source": [
    "from sklearn.model_selection import train_test_split\n",
    "import statsmodels.api as sm\n",
    "\n",
    "X = marte_vs_trx.drop(columns=['xwOBA', 'pfx_x', 'pfx_z'])  # remove response var and extra features\n",
    "y = marte_vs.xwOBA\n",
    "# split data into training and testing sets\n",
    "\n",
    "X = sm.add_constant(X)   # only needed for sm (not smf)\n",
    "\n",
    "X_train, X_test, y_train, y_test = train_test_split(X, y, test_size=0.3, random_state=1642)\n",
    "\n",
    "print('Train set shape\\n', X_train.shape, y_train.shape)\n",
    "print('Test set shape\\n', X_test.shape, y_test.shape)\n",
    "print('---')\n",
    "\n",
    "# transform numerical data\n",
    "from sklearn.preprocessing import PowerTransformer, QuantileTransformer\n",
    "\n",
    "num_feats = ['release_speed', 'release_spin_rate', 'spin_axis', 'pfx_v']\n",
    "# used for positive values\n",
    "pt = PowerTransformer()\n",
    "# get a transformed series of numerical features\n",
    "X_train_trx = pt.fit_transform(X_train[num_feats])\n",
    "# overwrite raw numerical data\n",
    "X_train[num_feats] = X_train_trx\n",
    "\n",
    "# transform the test set with the trained lambdas\n",
    "X_test_trx = pt.transform(X_test[num_feats])\n",
    "# overwrite raw numerical dataframe\n",
    "X_test[num_feats] = X_test_trx\n",
    "############################\n",
    "# # transform output\n",
    "qt = QuantileTransformer(n_quantiles=600).fit(y_train.to_numpy().reshape(-1, 1))\n",
    "y_train_trx = pd.Series(map(lambda x: x[0], qt.transform(y_train.to_numpy().reshape(-1, 1))), index=y_train.index)\n",
    "# quantile transform on the test output, converted to a pandas.Series with the original indicies\n",
    "y_test_trx = pd.Series(map(lambda x: x[0], qt.transform(y_test.to_numpy().reshape(-1, 1))), index=y_test.index)\n",
    "\n",
    "print('Train trx set shape\\n', X_train_trx.shape, y_train_trx.shape)\n",
    "print('Test trx set shape\\n', X_test_trx.shape, y_test_trx.shape)\n",
    "print('---')"
   ],
   "metadata": {
    "collapsed": false,
    "pycharm": {
     "name": "#%%\n"
    }
   }
  },
  {
   "cell_type": "markdown",
   "source": [
    "## Modeling\n",
    "### Naive Model\n",
    "*Note: did not transform the output for the naive model."
   ],
   "metadata": {
    "collapsed": false,
    "pycharm": {
     "name": "#%% md\n"
    }
   }
  },
  {
   "cell_type": "code",
   "execution_count": 201,
   "outputs": [
    {
     "name": "stdout",
     "output_type": "stream",
     "text": [
      "0.33073573923166477\n",
      "naive mse: 0.35266608058144583\n",
      "naive r2 score: -0.0016667766402074236\n"
     ]
    }
   ],
   "source": [
    "# Marte's xwOBA for last 4 seasons ('19-'22) == .348\n",
    "from sklearn.metrics import *\n",
    "\n",
    "print(y.mean())\n",
    "y_same_xwOBA = pd.Series(.348, index=range(0, y_train.size))\n",
    "# if squared is false then rmse\n",
    "naive_rmse = mean_squared_error(y_true=y_train, y_pred=y_same_xwOBA, squared=False)\n",
    "print(f\"naive mse: {naive_rmse}\")\n",
    "\n",
    "naive_r2 = r2_score(y_true=y_train, y_pred=y_same_xwOBA)\n",
    "print(f\"naive r2 score: {naive_r2}\")"
   ],
   "metadata": {
    "collapsed": false,
    "pycharm": {
     "name": "#%%\n"
    }
   }
  },
  {
   "cell_type": "markdown",
   "source": [
    "### Classical Modeling\n",
    "#### Model 1 -- OLS full feature"
   ],
   "metadata": {
    "collapsed": false,
    "pycharm": {
     "name": "#%% md\n"
    }
   }
  },
  {
   "cell_type": "code",
   "execution_count": 202,
   "outputs": [
    {
     "name": "stdout",
     "output_type": "stream",
     "text": [
      "                            OLS Regression Results                            \n",
      "==============================================================================\n",
      "Dep. Variable:                      y   R-squared:                       0.099\n",
      "Model:                            OLS   Adj. R-squared:                  0.060\n",
      "Method:                 Least Squares   F-statistic:                     2.538\n",
      "Date:                Wed, 23 Nov 2022   Prob (F-statistic):           6.76e-05\n",
      "Time:                        15:29:26   Log-Likelihood:                -115.56\n",
      "No. Observations:                 601   AIC:                             283.1\n",
      "Df Residuals:                     575   BIC:                             397.5\n",
      "Df Model:                          25                                         \n",
      "Covariance Type:            nonrobust                                         \n",
      "=====================================================================================\n",
      "                        coef    std err          t      P>|t|      [0.025      0.975]\n",
      "-------------------------------------------------------------------------------------\n",
      "const                 0.3749      0.040      9.467      0.000       0.297       0.453\n",
      "release_speed         0.0003      0.024      0.011      0.991      -0.047       0.048\n",
      "release_spin_rate    -0.0407      0.019     -2.139      0.033      -0.078      -0.003\n",
      "spin_axis            -0.0139      0.014     -0.964      0.336      -0.042       0.014\n",
      "pfx_v                -0.0038      0.019     -0.202      0.840      -0.041       0.033\n",
      "pitch_type_CH         0.0208      0.056      0.374      0.709      -0.089       0.130\n",
      "pitch_type_CS        -0.2166      0.279     -0.777      0.438      -0.764       0.331\n",
      "pitch_type_CU         0.1942      0.071      2.734      0.006       0.055       0.334\n",
      "pitch_type_FC         0.1329      0.056      2.368      0.018       0.023       0.243\n",
      "pitch_type_FF         0.0902      0.054      1.661      0.097      -0.016       0.197\n",
      "pitch_type_FS        -0.1144      0.082     -1.393      0.164      -0.276       0.047\n",
      "pitch_type_KC         0.0806      0.079      1.025      0.306      -0.074       0.235\n",
      "pitch_type_SI         0.2121      0.060      3.545      0.000       0.095       0.330\n",
      "pitch_type_SL        -0.0248      0.050     -0.496      0.620      -0.123       0.074\n",
      "zone_1                0.0035      0.050      0.070      0.944      -0.094       0.101\n",
      "zone_2                0.0892      0.047      1.891      0.059      -0.003       0.182\n",
      "zone_3               -0.0436      0.055     -0.785      0.433      -0.153       0.065\n",
      "zone_4                0.0804      0.038      2.096      0.036       0.005       0.156\n",
      "zone_5                0.0691      0.037      1.872      0.062      -0.003       0.142\n",
      "zone_6                0.0884      0.040      2.212      0.027       0.010       0.167\n",
      "zone_7                0.0240      0.042      0.568      0.570      -0.059       0.107\n",
      "zone_8                0.0527      0.037      1.405      0.160      -0.021       0.126\n",
      "zone_9                0.0398      0.046      0.858      0.391      -0.051       0.131\n",
      "zone_11               0.1002      0.054      1.841      0.066      -0.007       0.207\n",
      "zone_12              -0.0474      0.055     -0.855      0.393      -0.156       0.061\n",
      "zone_13              -0.0547      0.042     -1.301      0.194      -0.137       0.028\n",
      "zone_14              -0.0267      0.041     -0.657      0.511      -0.107       0.053\n",
      "p_throws_R           -0.0025      0.030     -0.082      0.934      -0.061       0.056\n",
      "==============================================================================\n",
      "Omnibus:                       59.807   Durbin-Watson:                   2.085\n",
      "Prob(Omnibus):                  0.000   Jarque-Bera (JB):               18.463\n",
      "Skew:                          -0.065   Prob(JB):                     9.79e-05\n",
      "Kurtosis:                       2.151   Cond. No.                     1.38e+16\n",
      "==============================================================================\n",
      "\n",
      "Notes:\n",
      "[1] Standard Errors assume that the covariance matrix of the errors is correctly specified.\n",
      "[2] The smallest eigenvalue is 5.98e-30. This might indicate that there are\n",
      "strong multicollinearity problems or that the design matrix is singular.\n",
      "--------------\n"
     ]
    }
   ],
   "source": [
    "model1_feats = ['const', 'release_speed', 'release_spin_rate', 'spin_axis', 'pfx_v', 'pitch_type_CH', 'pitch_type_CS', 'pitch_type_CU', 'pitch_type_FC', 'pitch_type_FF', 'pitch_type_FS', 'pitch_type_KC', 'pitch_type_SI', 'pitch_type_SL', 'zone_1', 'zone_2', 'zone_3', 'zone_4', 'zone_5', 'zone_6', 'zone_7', 'zone_8', 'zone_9', 'zone_11', 'zone_12', 'zone_13', 'zone_14', 'p_throws_R']\n",
    "model1 = sm.OLS(endog=y_train_trx, exog=X_train[model1_feats])\n",
    "results1 = model1.fit()\n",
    "print(results1.summary())\n",
    "print('--------------')"
   ],
   "metadata": {
    "collapsed": false,
    "pycharm": {
     "name": "#%%\n"
    }
   }
  },
  {
   "cell_type": "markdown",
   "source": [],
   "metadata": {
    "collapsed": false,
    "pycharm": {
     "name": "#%% md\n"
    }
   }
  },
  {
   "cell_type": "code",
   "execution_count": 203,
   "outputs": [
    {
     "name": "stdout",
     "output_type": "stream",
     "text": [
      "model1 mse: 0.32689662459851815\n",
      "model r2 score: -0.02541768835217728\n"
     ]
    },
    {
     "name": "stderr",
     "output_type": "stream",
     "text": [
      "/usr/local/lib/python3.10/site-packages/seaborn/_decorators.py:36: FutureWarning: Pass the following variables as keyword args: x, y. From version 0.12, the only valid positional argument will be `data`, and passing other arguments without an explicit keyword will result in an error or misinterpretation.\n",
      "  warnings.warn(\n"
     ]
    },
    {
     "data": {
      "text/plain": "<AxesSubplot:>"
     },
     "execution_count": 203,
     "metadata": {},
     "output_type": "execute_result"
    },
    {
     "data": {
      "text/plain": "<Figure size 432x288 with 1 Axes>",
      "image/png": "[encoded data removed]"
     },
     "metadata": {
      "needs_background": "light"
     },
     "output_type": "display_data"
    }
   ],
   "source": [
    "# model 1 evaluation\n",
    "xwOBA_pred1 = results1.predict(X_test[model2_feats])\n",
    "# xwOBA_pred1 = qt.inverse_transform(xwOBA_pred1)\n",
    "m1_mse = mean_squared_error(y_test_trx, xwOBA_pred1, squared=False)\n",
    "print(f\"model1 mse: {m1_mse}\")\n",
    "\n",
    "m1_r2 = r2_score(y_test_trx, xwOBA_pred1)\n",
    "print(f\"model r2 score: {m1_r2}\")\n",
    "\n",
    "sns.scatterplot(y_test_trx, xwOBA_pred1)"
   ],
   "metadata": {
    "collapsed": false,
    "pycharm": {
     "name": "#%%\n"
    }
   }
  },
  {
   "cell_type": "markdown",
   "source": [
    "#### Model 2 -- OLS backward selection p-val"
   ],
   "metadata": {
    "collapsed": false,
    "pycharm": {
     "name": "#%% md\n"
    }
   }
  },
  {
   "cell_type": "code",
   "execution_count": 204,
   "outputs": [
    {
     "name": "stdout",
     "output_type": "stream",
     "text": [
      "                            OLS Regression Results                            \n",
      "==============================================================================\n",
      "Dep. Variable:                      y   R-squared:                       0.072\n",
      "Model:                            OLS   Adj. R-squared:                  0.056\n",
      "Method:                 Least Squares   F-statistic:                     4.579\n",
      "Date:                Wed, 23 Nov 2022   Prob (F-statistic):           2.79e-06\n",
      "Time:                        15:29:27   Log-Likelihood:                -124.55\n",
      "No. Observations:                 601   AIC:                             271.1\n",
      "Df Residuals:                     590   BIC:                             319.5\n",
      "Df Model:                          10                                         \n",
      "Covariance Type:            nonrobust                                         \n",
      "=====================================================================================\n",
      "                        coef    std err          t      P>|t|      [0.025      0.975]\n",
      "-------------------------------------------------------------------------------------\n",
      "const                 0.3891      0.033     11.688      0.000       0.324       0.455\n",
      "release_spin_rate    -0.0409      0.018     -2.260      0.024      -0.076      -0.005\n",
      "spin_axis            -0.0160      0.014     -1.165      0.245      -0.043       0.011\n",
      "pitch_type_CH         0.0225      0.053      0.426      0.670      -0.081       0.126\n",
      "pitch_type_CS        -0.2781      0.275     -1.013      0.311      -0.817       0.261\n",
      "pitch_type_CU         0.1995      0.064      3.115      0.002       0.074       0.325\n",
      "pitch_type_FC         0.1499      0.052      2.892      0.004       0.048       0.252\n",
      "pitch_type_FF         0.1160      0.037      3.121      0.002       0.043       0.189\n",
      "pitch_type_FS        -0.1362      0.080     -1.710      0.088      -0.293       0.020\n",
      "pitch_type_KC         0.0911      0.074      1.239      0.216      -0.053       0.236\n",
      "pitch_type_SI         0.2282      0.046      4.960      0.000       0.138       0.319\n",
      "pitch_type_SL        -0.0037      0.045     -0.083      0.934      -0.092       0.085\n",
      "==============================================================================\n",
      "Omnibus:                       82.732   Durbin-Watson:                   2.097\n",
      "Prob(Omnibus):                  0.000   Jarque-Bera (JB):               22.233\n",
      "Skew:                          -0.110   Prob(JB):                     1.49e-05\n",
      "Kurtosis:                       2.084   Cond. No.                     1.26e+16\n",
      "==============================================================================\n",
      "\n",
      "Notes:\n",
      "[1] Standard Errors assume that the covariance matrix of the errors is correctly specified.\n",
      "[2] The smallest eigenvalue is 4.96e-30. This might indicate that there are\n",
      "strong multicollinearity problems or that the design matrix is singular.\n",
      "--------------\n"
     ]
    }
   ],
   "source": [
    "# removed release_speed, p_throws_R, all zones, pfx_v\n",
    "model2_feats = ['const', 'release_spin_rate', 'spin_axis', 'pitch_type_CH', 'pitch_type_CS', 'pitch_type_CU', 'pitch_type_FC', 'pitch_type_FF', 'pitch_type_FS', 'pitch_type_KC', 'pitch_type_SI', 'pitch_type_SL']\n",
    "model1 = sm.OLS(endog=y_train_trx, exog=X_train[model2_feats])\n",
    "results2 = model1.fit()\n",
    "print(results2.summary())\n",
    "print('--------------')"
   ],
   "metadata": {
    "collapsed": false,
    "pycharm": {
     "name": "#%%\n"
    }
   }
  },
  {
   "cell_type": "code",
   "execution_count": 205,
   "outputs": [
    {
     "name": "stdout",
     "output_type": "stream",
     "text": [
      "model2 mse: 0.33025024826139504\n",
      "model r2 score: -0.04656507486950523\n"
     ]
    },
    {
     "name": "stderr",
     "output_type": "stream",
     "text": [
      "/usr/local/lib/python3.10/site-packages/seaborn/_decorators.py:36: FutureWarning: Pass the following variables as keyword args: x, y. From version 0.12, the only valid positional argument will be `data`, and passing other arguments without an explicit keyword will result in an error or misinterpretation.\n",
      "  warnings.warn(\n"
     ]
    },
    {
     "data": {
      "text/plain": "<AxesSubplot:>"
     },
     "execution_count": 205,
     "metadata": {},
     "output_type": "execute_result"
    },
    {
     "data": {
      "text/plain": "<Figure size 432x288 with 1 Axes>",
      "image/png": "[encoded data removed]"
     },
     "metadata": {
      "needs_background": "light"
     },
     "output_type": "display_data"
    }
   ],
   "source": [
    "xwOBA_pred2 = results2.predict(X_test[model2_feats])\n",
    "\n",
    "m2_mse = mean_squared_error(y_test_trx, xwOBA_pred2, squared=False)\n",
    "print(f\"model2 mse: {m2_mse}\")\n",
    "\n",
    "m2_r2 = r2_score(y_test_trx, xwOBA_pred2)\n",
    "print(f\"model r2 score: {m2_r2}\")\n",
    "\n",
    "sns.scatterplot(y_test_trx, xwOBA_pred2)"
   ],
   "metadata": {
    "collapsed": false,
    "pycharm": {
     "name": "#%%\n"
    }
   }
  },
  {
   "cell_type": "markdown",
   "source": [
    "#### Model 3 RFE | 3.5 Ridge regression"
   ],
   "metadata": {
    "collapsed": false,
    "pycharm": {
     "name": "#%% md\n"
    }
   }
  },
  {
   "cell_type": "code",
   "execution_count": 206,
   "outputs": [
    {
     "name": "stdout",
     "output_type": "stream",
     "text": [
      "model3 mse: 0.32374144805608285\n",
      "model r2 score: -0.005718738733639039\n"
     ]
    },
    {
     "name": "stderr",
     "output_type": "stream",
     "text": [
      "/usr/local/lib/python3.10/site-packages/seaborn/_decorators.py:36: FutureWarning: Pass the following variables as keyword args: x, y. From version 0.12, the only valid positional argument will be `data`, and passing other arguments without an explicit keyword will result in an error or misinterpretation.\n",
      "  warnings.warn(\n"
     ]
    },
    {
     "data": {
      "text/plain": "<AxesSubplot:>"
     },
     "execution_count": 206,
     "metadata": {},
     "output_type": "execute_result"
    },
    {
     "data": {
      "text/plain": "<Figure size 432x288 with 1 Axes>",
      "image/png": "[encoded data removed]"
     },
     "metadata": {
      "needs_background": "light"
     },
     "output_type": "display_data"
    }
   ],
   "source": [
    "from sklearn.feature_selection import RFE\n",
    "from sklearn.linear_model import Ridge, LinearRegression\n",
    "\n",
    "model = Ridge()\n",
    "\n",
    "model3_feats = ['const', 'release_speed', 'release_spin_rate', 'spin_axis', 'pfx_v', 'pitch_type_CH', 'pitch_type_CS', 'pitch_type_CU', 'pitch_type_FC', 'pitch_type_FF', 'pitch_type_FS', 'pitch_type_KC', 'pitch_type_SI', 'pitch_type_SL', 'zone_1', 'zone_2', 'zone_3', 'zone_4', 'zone_5', 'zone_6', 'zone_7', 'zone_8', 'zone_9', 'zone_11', 'zone_12', 'zone_13', 'zone_14', 'p_throws_R']\n",
    "\n",
    "# Search the best k features for k = 1 to x\n",
    "# for k in range(1, 29):\n",
    "#     rfe = RFE(estimator=model, n_features_to_select=k)\n",
    "#\n",
    "#     fit = rfe.fit(X_train[model3_feats], y_train_trx)\n",
    "#\n",
    "#     f = fit.get_support(1) #the most important features\n",
    "#\n",
    "#     final_features = X_train[X_train.columns[f]] # final features\n",
    "#\n",
    "#     print(\"Num Features: %d\" % fit.n_features_)\n",
    "#     print(\"Selected Features: %s\" % final_features.columns)\n",
    "#     print(\"Score: %2.2f\" % fit.score(X_test[model3_feats], y_test_trx))\n",
    "#\n",
    "#     print(\"----------\")\n",
    "\n",
    "model3 = Ridge().fit(X=X_train[['spin_axis', 'pitch_type_CU', 'pitch_type_FF', 'pitch_type_FS',\n",
    "                              'zone_9']], y=y_train_trx)\n",
    "y_pred_mod3 = model3.predict(X_test[['spin_axis', 'pitch_type_CU', 'pitch_type_FF', 'pitch_type_FS',\n",
    "                        'zone_9']])\n",
    "\n",
    "m3_mse = mean_squared_error(y_test_trx, y_pred_mod3, squared=False)\n",
    "print(f\"model3 mse: {m3_mse}\")\n",
    "\n",
    "m3_r2 = r2_score(y_test_trx, y_pred_mod3)\n",
    "print(f\"model r2 score: {m3_r2}\")\n",
    "\n",
    "sns.scatterplot(y_test_trx, y_pred_mod3)"
   ],
   "metadata": {
    "collapsed": false,
    "pycharm": {
     "name": "#%%\n"
    }
   }
  },
  {
   "cell_type": "code",
   "execution_count": 207,
   "outputs": [],
   "source": [
    "# try groupby pitch_type\n",
    "# convert pitch dummies to single column\n",
    "org_pit_col_train = pd.from_dummies(X_train[['pitch_type_CH', 'pitch_type_CS', 'pitch_type_CU', 'pitch_type_FC', 'pitch_type_FF', 'pitch_type_FS', 'pitch_type_KC', 'pitch_type_SI', 'pitch_type_SL']], sep='pitch_type_')\n",
    "# drop dummy pitch_types from transformed train set\n",
    "X_train_grp_pit = X_train.drop(columns=['pitch_type_CH', 'pitch_type_CS', 'pitch_type_CU', 'pitch_type_FC', 'pitch_type_FF', 'pitch_type_FS', 'pitch_type_KC', 'pitch_type_SI', 'pitch_type_SL'], axis=1)\n",
    "# # add back zipped column, need to use .values attribute or will have index issues\n",
    "X_train_grp_pit['pitch_type'] = org_pit_col_train.values\n",
    "# # groupby pitch_type\n",
    "X_train_ff = X_train_grp_pit.groupby(['pitch_type']).get_group('FF')"
   ],
   "metadata": {
    "collapsed": false,
    "pycharm": {
     "name": "#%%\n"
    }
   }
  },
  {
   "cell_type": "markdown",
   "source": [
    "#### Model 4 -- Single pitch filter"
   ],
   "metadata": {
    "collapsed": false,
    "pycharm": {
     "name": "#%% md\n"
    }
   }
  },
  {
   "cell_type": "code",
   "execution_count": 208,
   "outputs": [],
   "source": [
    "# model4_feats = ['const', 'release_speed', 'release_spin_rate', 'spin_axis', 'pfx_v', 'zone_1', 'zone_2', 'zone_3', 'zone_4', 'zone_5', 'zone_6', 'zone_7', 'zone_8', 'zone_9', 'zone_11', 'zone_12', 'zone_13', 'zone_14', 'p_throws_R']\n",
    "# idx_ff = y_train_trx.index.intersection(X_train_ff.index)\n",
    "# y_train_trx_ff = y_train_trx.iloc[[670]]\n",
    "# # model4 = sm.OLS(endog=y_train_trx_ff, exog=X_train_ff[model4_feats])\n",
    "# # results4 = model4.fit()\n",
    "# # print(results4.summary())"
   ],
   "metadata": {
    "collapsed": false,
    "pycharm": {
     "name": "#%%\n"
    }
   }
  },
  {
   "cell_type": "markdown",
   "source": [
    "### NN\n",
    "#### Model 1"
   ],
   "metadata": {
    "collapsed": false,
    "pycharm": {
     "name": "#%% md\n"
    }
   }
  },
  {
   "cell_type": "code",
   "execution_count": 258,
   "outputs": [
    {
     "name": "stdout",
     "output_type": "stream",
     "text": [
      "Fit model on training data\n",
      "Epoch 1/16\n",
      "15/15 [==============================] - 1s 10ms/step - loss: 0.2741 - root_mean_squared_error: 0.5235 - mean_absolute_error: 0.4384 - val_loss: 0.2006 - val_root_mean_squared_error: 0.4479 - val_mean_absolute_error: 0.3663\n",
      "Epoch 2/16\n",
      "15/15 [==============================] - 0s 2ms/step - loss: 0.1789 - root_mean_squared_error: 0.4229 - mean_absolute_error: 0.3549 - val_loss: 0.1581 - val_root_mean_squared_error: 0.3976 - val_mean_absolute_error: 0.3287\n",
      "Epoch 3/16\n",
      "15/15 [==============================] - 0s 2ms/step - loss: 0.1491 - root_mean_squared_error: 0.3861 - mean_absolute_error: 0.3256 - val_loss: 0.1478 - val_root_mean_squared_error: 0.3845 - val_mean_absolute_error: 0.3171\n",
      "Epoch 4/16\n",
      "15/15 [==============================] - 0s 2ms/step - loss: 0.1372 - root_mean_squared_error: 0.3704 - mean_absolute_error: 0.3128 - val_loss: 0.1364 - val_root_mean_squared_error: 0.3693 - val_mean_absolute_error: 0.3061\n",
      "Epoch 5/16\n",
      "15/15 [==============================] - 0s 3ms/step - loss: 0.1262 - root_mean_squared_error: 0.3552 - mean_absolute_error: 0.3012 - val_loss: 0.1259 - val_root_mean_squared_error: 0.3548 - val_mean_absolute_error: 0.2972\n",
      "Epoch 6/16\n",
      "15/15 [==============================] - 0s 3ms/step - loss: 0.1164 - root_mean_squared_error: 0.3412 - mean_absolute_error: 0.2901 - val_loss: 0.1183 - val_root_mean_squared_error: 0.3439 - val_mean_absolute_error: 0.2912\n",
      "Epoch 7/16\n",
      "15/15 [==============================] - 0s 2ms/step - loss: 0.1093 - root_mean_squared_error: 0.3306 - mean_absolute_error: 0.2817 - val_loss: 0.1128 - val_root_mean_squared_error: 0.3358 - val_mean_absolute_error: 0.2865\n",
      "Epoch 8/16\n",
      "15/15 [==============================] - 0s 3ms/step - loss: 0.1041 - root_mean_squared_error: 0.3226 - mean_absolute_error: 0.2756 - val_loss: 0.1095 - val_root_mean_squared_error: 0.3309 - val_mean_absolute_error: 0.2843\n",
      "Epoch 9/16\n",
      "15/15 [==============================] - 0s 2ms/step - loss: 0.0998 - root_mean_squared_error: 0.3160 - mean_absolute_error: 0.2706 - val_loss: 0.1072 - val_root_mean_squared_error: 0.3274 - val_mean_absolute_error: 0.2818\n",
      "Epoch 10/16\n",
      "15/15 [==============================] - 0s 2ms/step - loss: 0.0979 - root_mean_squared_error: 0.3129 - mean_absolute_error: 0.2678 - val_loss: 0.1061 - val_root_mean_squared_error: 0.3257 - val_mean_absolute_error: 0.2807\n",
      "Epoch 11/16\n",
      "15/15 [==============================] - 0s 2ms/step - loss: 0.0961 - root_mean_squared_error: 0.3101 - mean_absolute_error: 0.2654 - val_loss: 0.1055 - val_root_mean_squared_error: 0.3248 - val_mean_absolute_error: 0.2805\n",
      "Epoch 12/16\n",
      "15/15 [==============================] - 0s 2ms/step - loss: 0.0954 - root_mean_squared_error: 0.3089 - mean_absolute_error: 0.2644 - val_loss: 0.1054 - val_root_mean_squared_error: 0.3246 - val_mean_absolute_error: 0.2803\n",
      "Epoch 13/16\n",
      "15/15 [==============================] - 0s 2ms/step - loss: 0.0950 - root_mean_squared_error: 0.3083 - mean_absolute_error: 0.2641 - val_loss: 0.1053 - val_root_mean_squared_error: 0.3245 - val_mean_absolute_error: 0.2795\n",
      "Epoch 14/16\n",
      "15/15 [==============================] - 0s 2ms/step - loss: 0.0950 - root_mean_squared_error: 0.3082 - mean_absolute_error: 0.2643 - val_loss: 0.1053 - val_root_mean_squared_error: 0.3245 - val_mean_absolute_error: 0.2796\n",
      "Epoch 15/16\n",
      "15/15 [==============================] - 0s 2ms/step - loss: 0.0946 - root_mean_squared_error: 0.3076 - mean_absolute_error: 0.2628 - val_loss: 0.1059 - val_root_mean_squared_error: 0.3255 - val_mean_absolute_error: 0.2801\n",
      "Epoch 16/16\n",
      "15/15 [==============================] - 0s 2ms/step - loss: 0.0946 - root_mean_squared_error: 0.3076 - mean_absolute_error: 0.2628 - val_loss: 0.1062 - val_root_mean_squared_error: 0.3259 - val_mean_absolute_error: 0.2813\n",
      "Evaluate on test data\n",
      "3/3 [==============================] - 0s 1ms/step - loss: 0.1062 - root_mean_squared_error: 0.3259 - mean_absolute_error: 0.2813\n",
      "test loss, test acc: [0.10618499666452408, 0.3258603811264038, 0.281266987323761]\n",
      "Generate predictions for 42 samples\n",
      "2/2 [==============================] - 0s 2ms/step\n",
      "predictions shape: (42, 1)\n"
     ]
    }
   ],
   "source": [
    "import tensorflow as tf\n",
    "from tensorflow import keras\n",
    "from keras import layers\n",
    "from keras.layers import Dense, Dropout, BatchNormalization\n",
    "\n",
    "\n",
    "# normalizer = preprocessing.Normalization()\n",
    "# normalizer.adapt(np.array(train_features))\n",
    "X_1 = X_train.release_spin_rate\n",
    "X_1_test = X_test.release_spin_rate\n",
    "number_of_inputs = 1  # number of features\n",
    "model = keras.Sequential([layers.Dense(16, activation='relu', input_dim=number_of_inputs),\n",
    "                          layers.Dense(16, activation='relu'),\n",
    "                          layers.Dense(1, activation='linear') ]) # output layer for regression\n",
    "\n",
    "model.compile(optimizer='adam',\n",
    "              loss='mse',\n",
    "              metrics=[tf.keras.metrics.RootMeanSquaredError(), tf.keras.metrics.MeanAbsoluteError()])\n",
    "\n",
    "print(\"Fit model on training data\")\n",
    "history = model.fit(\n",
    "    X_1,\n",
    "    y_train_trx,\n",
    "    batch_size=42,\n",
    "    epochs=16,\n",
    "    # We pass some validation for\n",
    "    # monitoring validation loss and metrics\n",
    "    # at the end of each epoch\n",
    "    validation_data=(X_1_test, y_test_trx),\n",
    ")\n",
    "\n",
    "\n",
    "# Evaluate the model on the test data using `evaluate`\n",
    "print(\"Evaluate on test data\")\n",
    "results = model.evaluate(X_1_test, y_test_trx, batch_size=128)\n",
    "print(\"test loss, test acc:\", results)\n",
    "\n",
    "# Generate predictions (probabilities -- the output of the last layer)\n",
    "# on new data using `predict`\n",
    "print(\"Generate predictions for 42 samples\")\n",
    "predictions = model.predict(X_1_test.iloc[:42,])\n",
    "print(\"predictions shape:\", predictions.shape)"
   ],
   "metadata": {
    "collapsed": false,
    "pycharm": {
     "name": "#%%\n"
    }
   }
  },
  {
   "cell_type": "markdown",
   "source": [
    "#### NN2 -- Higher Fidelity Model"
   ],
   "metadata": {
    "collapsed": false,
    "pycharm": {
     "name": "#%% md\n"
    }
   }
  },
  {
   "cell_type": "code",
   "execution_count": 292,
   "outputs": [
    {
     "name": "stdout",
     "output_type": "stream",
     "text": [
      "Fit model on training data\n",
      "Epoch 1/16\n",
      "19/19 [==============================] - 1s 9ms/step - loss: 0.1412 - root_mean_squared_error: 0.3757 - mean_absolute_error: 0.3124 - val_loss: 0.1230 - val_root_mean_squared_error: 0.3508 - val_mean_absolute_error: 0.2951\n",
      "Epoch 2/16\n",
      "19/19 [==============================] - 0s 2ms/step - loss: 0.1097 - root_mean_squared_error: 0.3312 - mean_absolute_error: 0.2766 - val_loss: 0.1133 - val_root_mean_squared_error: 0.3365 - val_mean_absolute_error: 0.2868\n",
      "Epoch 3/16\n",
      "19/19 [==============================] - 0s 2ms/step - loss: 0.1025 - root_mean_squared_error: 0.3201 - mean_absolute_error: 0.2681 - val_loss: 0.1107 - val_root_mean_squared_error: 0.3328 - val_mean_absolute_error: 0.2839\n",
      "Epoch 4/16\n",
      "19/19 [==============================] - 0s 2ms/step - loss: 0.0995 - root_mean_squared_error: 0.3154 - mean_absolute_error: 0.2645 - val_loss: 0.1103 - val_root_mean_squared_error: 0.3321 - val_mean_absolute_error: 0.2850\n",
      "Epoch 5/16\n",
      "19/19 [==============================] - 0s 2ms/step - loss: 0.0974 - root_mean_squared_error: 0.3121 - mean_absolute_error: 0.2618 - val_loss: 0.1093 - val_root_mean_squared_error: 0.3307 - val_mean_absolute_error: 0.2841\n",
      "Epoch 6/16\n",
      "19/19 [==============================] - 0s 2ms/step - loss: 0.0955 - root_mean_squared_error: 0.3091 - mean_absolute_error: 0.2594 - val_loss: 0.1090 - val_root_mean_squared_error: 0.3302 - val_mean_absolute_error: 0.2841\n",
      "Epoch 7/16\n",
      "19/19 [==============================] - 0s 2ms/step - loss: 0.0945 - root_mean_squared_error: 0.3074 - mean_absolute_error: 0.2577 - val_loss: 0.1093 - val_root_mean_squared_error: 0.3307 - val_mean_absolute_error: 0.2848\n",
      "Epoch 8/16\n",
      "19/19 [==============================] - 0s 2ms/step - loss: 0.0936 - root_mean_squared_error: 0.3060 - mean_absolute_error: 0.2567 - val_loss: 0.1089 - val_root_mean_squared_error: 0.3299 - val_mean_absolute_error: 0.2845\n",
      "Epoch 9/16\n",
      "19/19 [==============================] - 0s 2ms/step - loss: 0.0925 - root_mean_squared_error: 0.3042 - mean_absolute_error: 0.2551 - val_loss: 0.1098 - val_root_mean_squared_error: 0.3314 - val_mean_absolute_error: 0.2861\n",
      "Epoch 10/16\n",
      "19/19 [==============================] - 0s 3ms/step - loss: 0.0926 - root_mean_squared_error: 0.3043 - mean_absolute_error: 0.2551 - val_loss: 0.1100 - val_root_mean_squared_error: 0.3317 - val_mean_absolute_error: 0.2863\n",
      "Epoch 11/16\n",
      "19/19 [==============================] - 0s 2ms/step - loss: 0.0914 - root_mean_squared_error: 0.3023 - mean_absolute_error: 0.2524 - val_loss: 0.1093 - val_root_mean_squared_error: 0.3305 - val_mean_absolute_error: 0.2849\n",
      "Epoch 12/16\n",
      "19/19 [==============================] - 0s 2ms/step - loss: 0.0907 - root_mean_squared_error: 0.3012 - mean_absolute_error: 0.2524 - val_loss: 0.1092 - val_root_mean_squared_error: 0.3304 - val_mean_absolute_error: 0.2855\n",
      "Epoch 13/16\n",
      "19/19 [==============================] - 0s 2ms/step - loss: 0.0899 - root_mean_squared_error: 0.2999 - mean_absolute_error: 0.2505 - val_loss: 0.1100 - val_root_mean_squared_error: 0.3316 - val_mean_absolute_error: 0.2869\n",
      "Epoch 14/16\n",
      "19/19 [==============================] - 0s 2ms/step - loss: 0.0895 - root_mean_squared_error: 0.2992 - mean_absolute_error: 0.2501 - val_loss: 0.1090 - val_root_mean_squared_error: 0.3302 - val_mean_absolute_error: 0.2855\n",
      "Epoch 15/16\n",
      "19/19 [==============================] - 0s 2ms/step - loss: 0.0895 - root_mean_squared_error: 0.2992 - mean_absolute_error: 0.2501 - val_loss: 0.1093 - val_root_mean_squared_error: 0.3306 - val_mean_absolute_error: 0.2856\n",
      "Epoch 16/16\n",
      "19/19 [==============================] - 0s 2ms/step - loss: 0.0891 - root_mean_squared_error: 0.2985 - mean_absolute_error: 0.2494 - val_loss: 0.1093 - val_root_mean_squared_error: 0.3306 - val_mean_absolute_error: 0.2861\n",
      "Evaluate on test data\n",
      "17/17 [==============================] - 0s 916us/step - loss: 0.1093 - root_mean_squared_error: 0.3306 - mean_absolute_error: 0.2861\n",
      "test loss, test acc: [0.10930866748094559, 0.33061861991882324, 0.286059707403183]\n",
      "Generate predictions for 42 samples\n",
      "2/2 [==============================] - 0s 2ms/step\n",
      "predictions shape: (42, 1)\n"
     ]
    }
   ],
   "source": [
    "X_feats2 = ['release_speed', 'release_spin_rate', 'spin_axis', 'pfx_v', 'pitch_type_CH', 'pitch_type_CS', 'pitch_type_CU', 'pitch_type_FC', 'pitch_type_FF', 'pitch_type_FS', 'pitch_type_KC', 'pitch_type_SI', 'pitch_type_SL', 'zone_1', 'zone_2', 'zone_3', 'zone_4', 'zone_5', 'zone_6', 'zone_7', 'zone_8', 'zone_9', 'zone_11', 'zone_12', 'zone_13', 'zone_14', 'p_throws_R']\n",
    "X_full = X_train[X_feats2]\n",
    "X_full_test = X_test[X_feats2]\n",
    "number_of_inputs = X_full.shape[1]  # number of features\n",
    "model = keras.Sequential([layers.Dense(16, activation='relu', input_dim=number_of_inputs),\n",
    "                          layers.Dense(16, activation='relu'),\n",
    "                          layers.Dense(16, activation='relu'),\n",
    "                          layers.Dense(1, activation='linear') ]) # output layer for regression\n",
    "\n",
    "model.compile(optimizer='adam',\n",
    "              loss='mse',\n",
    "              metrics=[tf.keras.metrics.RootMeanSquaredError(), tf.keras.metrics.MeanAbsoluteError()])\n",
    "\n",
    "print(\"Fit model on training data\")\n",
    "history = model.fit(\n",
    "    X_full,\n",
    "    y_train_trx,\n",
    "    batch_size=32,\n",
    "    epochs=16,\n",
    "    # We pass some validation for\n",
    "    # monitoring validation loss and metrics\n",
    "    # at the end of each epoch\n",
    "    validation_data=(X_full_test, y_test_trx),\n",
    ")\n",
    "\n",
    "\n",
    "# Evaluate the model on the test data using `evaluate`\n",
    "print(\"Evaluate on test data\")\n",
    "results = model.evaluate(X_full_test, y_test_trx, batch_size=16)\n",
    "print(\"test loss, test acc:\", results)\n",
    "\n",
    "# Generate predictions (probabilities -- the output of the last layer)\n",
    "# on new data using `predict`\n",
    "print(\"Generate predictions for 42 samples\")\n",
    "predictions = model.predict(X_full_test.iloc[:42,])\n",
    "print(\"predictions shape:\", predictions.shape)"
   ],
   "metadata": {
    "collapsed": false,
    "pycharm": {
     "name": "#%%\n"
    }
   }
  },
  {
   "cell_type": "code",
   "execution_count": 297,
   "outputs": [
    {
     "name": "stdout",
     "output_type": "stream",
     "text": [
      "Fit model on training data\n",
      "Epoch 1/4000\n",
      "19/19 [==============================] - 1s 11ms/step - loss: 1.9125 - root_mean_squared_error: 0.5307 - mean_absolute_error: 0.4402 - val_loss: 1.7097 - val_root_mean_squared_error: 0.4046 - val_mean_absolute_error: 0.3356\n",
      "Epoch 2/4000\n",
      "19/19 [==============================] - 0s 2ms/step - loss: 1.6027 - root_mean_squared_error: 0.3746 - mean_absolute_error: 0.3116 - val_loss: 1.4957 - val_root_mean_squared_error: 0.3613 - val_mean_absolute_error: 0.3074\n",
      "Epoch 3/4000\n",
      "19/19 [==============================] - 0s 2ms/step - loss: 1.3995 - root_mean_squared_error: 0.3438 - mean_absolute_error: 0.2927 - val_loss: 1.3114 - val_root_mean_squared_error: 0.3506 - val_mean_absolute_error: 0.2985\n",
      "Epoch 4/4000\n",
      "19/19 [==============================] - 0s 2ms/step - loss: 1.2214 - root_mean_squared_error: 0.3327 - mean_absolute_error: 0.2833 - val_loss: 1.1425 - val_root_mean_squared_error: 0.3436 - val_mean_absolute_error: 0.2921\n",
      "Epoch 5/4000\n",
      "19/19 [==============================] - 0s 2ms/step - loss: 1.0589 - root_mean_squared_error: 0.3250 - mean_absolute_error: 0.2765 - val_loss: 0.9891 - val_root_mean_squared_error: 0.3382 - val_mean_absolute_error: 0.2890\n",
      "Epoch 6/4000\n",
      "19/19 [==============================] - 0s 3ms/step - loss: 0.9115 - root_mean_squared_error: 0.3195 - mean_absolute_error: 0.2716 - val_loss: 0.8496 - val_root_mean_squared_error: 0.3343 - val_mean_absolute_error: 0.2876\n",
      "Epoch 7/4000\n",
      "19/19 [==============================] - 0s 3ms/step - loss: 0.7775 - root_mean_squared_error: 0.3153 - mean_absolute_error: 0.2685 - val_loss: 0.7233 - val_root_mean_squared_error: 0.3322 - val_mean_absolute_error: 0.2860\n",
      "Epoch 8/4000\n",
      "19/19 [==============================] - 0s 2ms/step - loss: 0.6575 - root_mean_squared_error: 0.3113 - mean_absolute_error: 0.2655 - val_loss: 0.6121 - val_root_mean_squared_error: 0.3297 - val_mean_absolute_error: 0.2846\n",
      "Epoch 9/4000\n",
      "19/19 [==============================] - 0s 3ms/step - loss: 0.5528 - root_mean_squared_error: 0.3091 - mean_absolute_error: 0.2637 - val_loss: 0.5162 - val_root_mean_squared_error: 0.3291 - val_mean_absolute_error: 0.2855\n",
      "Epoch 10/4000\n",
      "19/19 [==============================] - 0s 3ms/step - loss: 0.4617 - root_mean_squared_error: 0.3071 - mean_absolute_error: 0.2619 - val_loss: 0.4305 - val_root_mean_squared_error: 0.3267 - val_mean_absolute_error: 0.2824\n",
      "Epoch 11/4000\n",
      "19/19 [==============================] - 0s 2ms/step - loss: 0.3829 - root_mean_squared_error: 0.3057 - mean_absolute_error: 0.2602 - val_loss: 0.3598 - val_root_mean_squared_error: 0.3265 - val_mean_absolute_error: 0.2835\n",
      "Epoch 12/4000\n",
      "19/19 [==============================] - 0s 2ms/step - loss: 0.3177 - root_mean_squared_error: 0.3053 - mean_absolute_error: 0.2600 - val_loss: 0.2997 - val_root_mean_squared_error: 0.3256 - val_mean_absolute_error: 0.2829\n",
      "Epoch 13/4000\n",
      "19/19 [==============================] - 0s 2ms/step - loss: 0.2627 - root_mean_squared_error: 0.3051 - mean_absolute_error: 0.2600 - val_loss: 0.2495 - val_root_mean_squared_error: 0.3240 - val_mean_absolute_error: 0.2808\n",
      "Epoch 14/4000\n",
      "19/19 [==============================] - 0s 2ms/step - loss: 0.2192 - root_mean_squared_error: 0.3057 - mean_absolute_error: 0.2605 - val_loss: 0.2111 - val_root_mean_squared_error: 0.3235 - val_mean_absolute_error: 0.2797\n",
      "Epoch 15/4000\n",
      "19/19 [==============================] - 0s 2ms/step - loss: 0.1858 - root_mean_squared_error: 0.3057 - mean_absolute_error: 0.2612 - val_loss: 0.1815 - val_root_mean_squared_error: 0.3235 - val_mean_absolute_error: 0.2799\n",
      "Epoch 16/4000\n",
      "19/19 [==============================] - 0s 2ms/step - loss: 0.1591 - root_mean_squared_error: 0.3058 - mean_absolute_error: 0.2609 - val_loss: 0.1600 - val_root_mean_squared_error: 0.3238 - val_mean_absolute_error: 0.2802\n",
      "Epoch 17/4000\n",
      "19/19 [==============================] - 0s 2ms/step - loss: 0.1415 - root_mean_squared_error: 0.3066 - mean_absolute_error: 0.2616 - val_loss: 0.1461 - val_root_mean_squared_error: 0.3246 - val_mean_absolute_error: 0.2811\n",
      "Epoch 18/4000\n",
      "19/19 [==============================] - 0s 2ms/step - loss: 0.1293 - root_mean_squared_error: 0.3065 - mean_absolute_error: 0.2615 - val_loss: 0.1354 - val_root_mean_squared_error: 0.3242 - val_mean_absolute_error: 0.2798\n",
      "Epoch 19/4000\n",
      "19/19 [==============================] - 0s 2ms/step - loss: 0.1213 - root_mean_squared_error: 0.3069 - mean_absolute_error: 0.2622 - val_loss: 0.1293 - val_root_mean_squared_error: 0.3242 - val_mean_absolute_error: 0.2798\n",
      "Epoch 20/4000\n",
      "19/19 [==============================] - 0s 2ms/step - loss: 0.1155 - root_mean_squared_error: 0.3066 - mean_absolute_error: 0.2617 - val_loss: 0.1235 - val_root_mean_squared_error: 0.3239 - val_mean_absolute_error: 0.2791\n",
      "Epoch 21/4000\n",
      "19/19 [==============================] - 0s 2ms/step - loss: 0.1108 - root_mean_squared_error: 0.3067 - mean_absolute_error: 0.2614 - val_loss: 0.1192 - val_root_mean_squared_error: 0.3237 - val_mean_absolute_error: 0.2790\n",
      "Epoch 22/4000\n",
      "19/19 [==============================] - 0s 2ms/step - loss: 0.1081 - root_mean_squared_error: 0.3064 - mean_absolute_error: 0.2610 - val_loss: 0.1182 - val_root_mean_squared_error: 0.3236 - val_mean_absolute_error: 0.2766\n",
      "Epoch 23/4000\n",
      "19/19 [==============================] - 0s 2ms/step - loss: 0.1061 - root_mean_squared_error: 0.3074 - mean_absolute_error: 0.2626 - val_loss: 0.1153 - val_root_mean_squared_error: 0.3245 - val_mean_absolute_error: 0.2804\n",
      "Epoch 24/4000\n",
      "19/19 [==============================] - 0s 2ms/step - loss: 0.1039 - root_mean_squared_error: 0.3075 - mean_absolute_error: 0.2622 - val_loss: 0.1127 - val_root_mean_squared_error: 0.3235 - val_mean_absolute_error: 0.2791\n",
      "Epoch 25/4000\n",
      "19/19 [==============================] - 0s 2ms/step - loss: 0.1019 - root_mean_squared_error: 0.3075 - mean_absolute_error: 0.2629 - val_loss: 0.1110 - val_root_mean_squared_error: 0.3234 - val_mean_absolute_error: 0.2788\n",
      "Epoch 26/4000\n",
      "19/19 [==============================] - 0s 2ms/step - loss: 0.1008 - root_mean_squared_error: 0.3076 - mean_absolute_error: 0.2630 - val_loss: 0.1130 - val_root_mean_squared_error: 0.3260 - val_mean_absolute_error: 0.2825\n",
      "Epoch 27/4000\n",
      "19/19 [==============================] - 0s 2ms/step - loss: 0.1021 - root_mean_squared_error: 0.3081 - mean_absolute_error: 0.2626 - val_loss: 0.1113 - val_root_mean_squared_error: 0.3234 - val_mean_absolute_error: 0.2781\n",
      "Epoch 28/4000\n",
      "19/19 [==============================] - 0s 2ms/step - loss: 0.1013 - root_mean_squared_error: 0.3089 - mean_absolute_error: 0.2642 - val_loss: 0.1099 - val_root_mean_squared_error: 0.3237 - val_mean_absolute_error: 0.2793\n",
      "Epoch 29/4000\n",
      "19/19 [==============================] - 0s 2ms/step - loss: 0.1000 - root_mean_squared_error: 0.3080 - mean_absolute_error: 0.2631 - val_loss: 0.1097 - val_root_mean_squared_error: 0.3244 - val_mean_absolute_error: 0.2805\n",
      "Epoch 30/4000\n",
      "19/19 [==============================] - 0s 2ms/step - loss: 0.0998 - root_mean_squared_error: 0.3084 - mean_absolute_error: 0.2636 - val_loss: 0.1091 - val_root_mean_squared_error: 0.3238 - val_mean_absolute_error: 0.2797\n",
      "Epoch 31/4000\n",
      "19/19 [==============================] - 0s 2ms/step - loss: 0.0988 - root_mean_squared_error: 0.3081 - mean_absolute_error: 0.2631 - val_loss: 0.1102 - val_root_mean_squared_error: 0.3252 - val_mean_absolute_error: 0.2817\n",
      "Epoch 32/4000\n",
      "19/19 [==============================] - 0s 2ms/step - loss: 0.0989 - root_mean_squared_error: 0.3076 - mean_absolute_error: 0.2624 - val_loss: 0.1088 - val_root_mean_squared_error: 0.3241 - val_mean_absolute_error: 0.2801\n",
      "Epoch 33/4000\n",
      "19/19 [==============================] - 0s 2ms/step - loss: 0.0989 - root_mean_squared_error: 0.3082 - mean_absolute_error: 0.2632 - val_loss: 0.1087 - val_root_mean_squared_error: 0.3238 - val_mean_absolute_error: 0.2795\n",
      "Epoch 34/4000\n",
      "19/19 [==============================] - 0s 2ms/step - loss: 0.0984 - root_mean_squared_error: 0.3081 - mean_absolute_error: 0.2632 - val_loss: 0.1087 - val_root_mean_squared_error: 0.3237 - val_mean_absolute_error: 0.2795\n",
      "Epoch 35/4000\n",
      "19/19 [==============================] - 0s 2ms/step - loss: 0.0986 - root_mean_squared_error: 0.3078 - mean_absolute_error: 0.2627 - val_loss: 0.1086 - val_root_mean_squared_error: 0.3234 - val_mean_absolute_error: 0.2786\n",
      "Epoch 36/4000\n",
      "19/19 [==============================] - 0s 2ms/step - loss: 0.0993 - root_mean_squared_error: 0.3084 - mean_absolute_error: 0.2633 - val_loss: 0.1094 - val_root_mean_squared_error: 0.3248 - val_mean_absolute_error: 0.2811\n",
      "Epoch 37/4000\n",
      "19/19 [==============================] - 0s 2ms/step - loss: 0.0990 - root_mean_squared_error: 0.3081 - mean_absolute_error: 0.2628 - val_loss: 0.1102 - val_root_mean_squared_error: 0.3258 - val_mean_absolute_error: 0.2824\n",
      "Epoch 38/4000\n",
      "19/19 [==============================] - 0s 2ms/step - loss: 0.0988 - root_mean_squared_error: 0.3083 - mean_absolute_error: 0.2636 - val_loss: 0.1089 - val_root_mean_squared_error: 0.3248 - val_mean_absolute_error: 0.2811\n",
      "Evaluate on test data\n",
      "17/17 [==============================] - 0s 662us/step - loss: 0.1089 - root_mean_squared_error: 0.3248 - mean_absolute_error: 0.2811\n",
      "test loss, test acc: [0.1088748648762703, 0.3247593343257904, 0.2810842990875244]\n",
      "Generate predictions for 42 samples\n",
      "2/2 [==============================] - 0s 1ms/step\n",
      "predictions shape: (42, 1)\n"
     ]
    }
   ],
   "source": [
    "from tensorflow.keras import regularizers\n",
    "\n",
    "X_feats3 = ['release_speed', 'release_spin_rate', 'spin_axis', 'pfx_v', 'pitch_type_CH', 'pitch_type_CS', 'pitch_type_CU', 'pitch_type_FC', 'pitch_type_FF', 'pitch_type_FS', 'pitch_type_KC', 'pitch_type_SI', 'pitch_type_SL']\n",
    "X_full = X_train[X_feats3]\n",
    "X_full_test = X_test[X_feats3]\n",
    "number_of_inputs = X_full.shape[1]  # number of features\n",
    "model = keras.Sequential([layers.Dense(16, activation='relu', input_dim=number_of_inputs),\n",
    "                          layers.Dense(64, activation='relu', kernel_regularizer=regularizers.l1_l2(), bias_regularizer=regularizers.l1()),\n",
    "                          layers.Dense(16, activation='relu'),\n",
    "                          layers.Dense(1, activation='linear') ]) # output layer for regression\n",
    "\n",
    "model.compile(optimizer='adam',\n",
    "              loss='mse',\n",
    "              metrics=[tf.keras.metrics.RootMeanSquaredError(), tf.keras.metrics.MeanAbsoluteError()])\n",
    "\n",
    "callback = tf.keras.callbacks.EarlyStopping(monitor='val_loss', patience=3)\n",
    "\n",
    "print(\"Fit model on training data\")\n",
    "history = model.fit(\n",
    "    X_full,\n",
    "    y_train_trx,\n",
    "    batch_size=32,\n",
    "    epochs=4000,\n",
    "    # We pass some validation for\n",
    "    # monitoring validation loss and metrics\n",
    "    # at the end of each epoch\n",
    "    validation_data=(X_full_test, y_test_trx),\n",
    "    callbacks=[callback]\n",
    ")\n",
    "\n",
    "\n",
    "# Evaluate the model on the test data using `evaluate`\n",
    "print(\"Evaluate on test data\")\n",
    "results = model.evaluate(X_full_test, y_test_trx, batch_size=16)\n",
    "print(\"test loss, test acc:\", results)\n",
    "\n",
    "# Generate predictions (probabilities -- the output of the last layer)\n",
    "# on new data using `predict`\n",
    "print(\"Generate predictions for 42 samples\")\n",
    "predictions = model.predict(X_full_test.iloc[:42,])\n",
    "print(\"predictions shape:\", predictions.shape)"
   ],
   "metadata": {
    "collapsed": false,
    "pycharm": {
     "name": "#%%\n"
    }
   }
  },
  {
   "cell_type": "markdown",
   "source": [
    "#### Hyper sweep"
   ],
   "metadata": {
    "collapsed": false,
    "pycharm": {
     "name": "#%% md\n"
    }
   }
  },
  {
   "cell_type": "code",
   "execution_count": 311,
   "outputs": [
    {
     "name": "stderr",
     "output_type": "stream",
     "text": [
      "/var/folders/nz/57m0v30s0kqdtdm5876x20qw0000gn/T/ipykernel_54900/1658499985.py:15: DeprecationWarning: KerasClassifier is deprecated, use Sci-Keras (https://github.com/adriangb/scikeras) instead. See https://www.adriangb.com/scikeras/stable/migration.html for help migrating.\n",
      "  model = KerasClassifier(build_fn=create_and_compile_model, verbose=0)\n"
     ]
    },
    {
     "name": "stdout",
     "output_type": "stream",
     "text": [
      "7/7 [==============================] - 0s 1ms/step\n",
      "7/7 [==============================] - 0s 1ms/step\n",
      "7/7 [==============================] - 0s 2ms/step\n",
      "7/7 [==============================] - 0s 10ms/step\n",
      "7/7 [==============================] - 0s 1ms/step\n",
      "7/7 [==============================] - 0s 1ms/step\n",
      "7/7 [==============================] - 0s 3ms/step\n",
      "7/7 [==============================] - 0s 1ms/step\n",
      "7/7 [==============================] - 0s 1ms/step\n",
      "7/7 [==============================] - 0s 2ms/step\n",
      "7/7 [==============================] - 0s 1ms/step\n",
      "7/7 [==============================] - 0s 1ms/step\n",
      "7/7 [==============================] - 0s 1ms/step\n",
      "7/7 [==============================] - 0s 2ms/step\n",
      "7/7 [==============================] - 0s 2ms/step\n",
      "7/7 [==============================] - 0s 2ms/step\n",
      "7/7 [==============================] - 0s 2ms/step\n",
      "7/7 [==============================] - 0s 1ms/step\n",
      "7/7 [==============================] - 0s 1ms/step\n",
      "7/7 [==============================] - 0s 2ms/step\n",
      "7/7 [==============================] - 0s 1ms/step\n",
      "7/7 [==============================] - 0s 5ms/step\n",
      "7/7 [==============================] - 0s 2ms/step\n",
      "7/7 [==============================] - 0s 2ms/step\n",
      "7/7 [==============================] - 0s 2ms/step\n",
      "7/7 [==============================] - 0s 1ms/step\n",
      "7/7 [==============================] - 0s 1ms/step\n",
      "7/7 [==============================] - 0s 1ms/step\n",
      "7/7 [==============================] - 0s 6ms/step\n",
      "7/7 [==============================] - 0s 1ms/step\n",
      "7/7 [==============================] - 0s 2ms/step\n",
      "7/7 [==============================] - 0s 2ms/step\n",
      "7/7 [==============================] - 0s 1ms/step\n",
      "7/7 [==============================] - 0s 2ms/step\n",
      "7/7 [==============================] - 0s 2ms/step\n",
      "7/7 [==============================] - 0s 2ms/step\n",
      "7/7 [==============================] - 0s 3ms/step\n",
      "7/7 [==============================] - 0s 1ms/step\n",
      "7/7 [==============================] - 0s 7ms/step\n",
      "7/7 [==============================] - 0s 2ms/step\n",
      "7/7 [==============================] - 0s 2ms/step\n",
      "7/7 [==============================] - 0s 2ms/step\n",
      "7/7 [==============================] - 0s 2ms/step\n",
      "7/7 [==============================] - 0s 1ms/step\n",
      "7/7 [==============================] - 0s 3ms/step\n",
      "7/7 [==============================] - 0s 2ms/step\n",
      "7/7 [==============================] - 0s 7ms/step\n",
      "7/7 [==============================] - 0s 4ms/step\n",
      "7/7 [==============================] - 0s 2ms/step\n",
      "7/7 [==============================] - 0s 4ms/step\n",
      "7/7 [==============================] - 0s 1ms/step\n",
      "7/7 [==============================] - 0s 2ms/step\n",
      "7/7 [==============================] - 0s 3ms/step\n",
      "7/7 [==============================] - 0s 3ms/step\n",
      "7/7 [==============================] - 0s 1ms/step\n",
      "7/7 [==============================] - 0s 1ms/step\n",
      "7/7 [==============================] - 0s 4ms/step\n",
      "7/7 [==============================] - 0s 776us/step\n",
      "7/7 [==============================] - 0s 551us/step\n",
      "7/7 [==============================] - 0s 564us/step\n"
     ]
    }
   ],
   "source": [
    "from sklearn.model_selection import GridSearchCV\n",
    "from keras.wrappers.scikit_learn import KerasClassifier\n",
    "\n",
    "def create_and_compile_model():\n",
    "    # create model\n",
    "    model = keras.Sequential([layers.Dense(16, activation='relu', input_dim=number_of_inputs),\n",
    "                              layers.Dense(16, activation='relu'),\n",
    "                              layers.Dense(1, activation='linear') ]) # output layer for regression\n",
    "\n",
    "    model.compile(optimizer='adam',\n",
    "                  loss='mse',\n",
    "                  metrics=[tf.keras.metrics.RootMeanSquaredError(), tf.keras.metrics.MeanAbsoluteError()])\n",
    "    return model\n",
    "\n",
    "model = KerasClassifier(build_fn=create_and_compile_model, verbose=0)\n",
    "\n",
    "# define the grid search parameters\n",
    "batch_size = [8, 16, 32, 64, 128]\n",
    "epochs = [10, 50, 250, 1250]\n",
    "\n",
    "param_grid = dict(batch_size=batch_size, epochs=epochs)\n",
    "\n",
    "grid = GridSearchCV(estimator=model, param_grid=param_grid, scoring='neg_root_mean_squared_error', n_jobs=-1, cv=3)\n",
    "\n",
    "grid_result = grid.fit(X_full, y_train_trx)"
   ],
   "metadata": {
    "collapsed": false,
    "pycharm": {
     "name": "#%%\n"
    }
   }
  },
  {
   "cell_type": "code",
   "execution_count": 312,
   "outputs": [
    {
     "name": "stdout",
     "output_type": "stream",
     "text": [
      "Best: -0.445794 using {'batch_size': 8, 'epochs': 10}\n",
      "train accuracy -0.445794 for: {'batch_size': 8, 'epochs': 10}\n",
      "train accuracy -0.445794 for: {'batch_size': 8, 'epochs': 50}\n",
      "train accuracy -0.445794 for: {'batch_size': 8, 'epochs': 250}\n",
      "train accuracy -0.448029 for: {'batch_size': 8, 'epochs': 1250}\n",
      "train accuracy -0.445794 for: {'batch_size': 16, 'epochs': 10}\n",
      "train accuracy -0.445794 for: {'batch_size': 16, 'epochs': 50}\n",
      "train accuracy -0.445794 for: {'batch_size': 16, 'epochs': 250}\n",
      "train accuracy -0.446772 for: {'batch_size': 16, 'epochs': 1250}\n",
      "train accuracy -0.445794 for: {'batch_size': 32, 'epochs': 10}\n",
      "train accuracy -0.445794 for: {'batch_size': 32, 'epochs': 50}\n",
      "train accuracy -0.445794 for: {'batch_size': 32, 'epochs': 250}\n",
      "train accuracy -0.446008 for: {'batch_size': 32, 'epochs': 1250}\n",
      "train accuracy -0.480993 for: {'batch_size': 64, 'epochs': 10}\n",
      "train accuracy -0.445794 for: {'batch_size': 64, 'epochs': 50}\n",
      "train accuracy -0.445794 for: {'batch_size': 64, 'epochs': 250}\n",
      "train accuracy -0.445794 for: {'batch_size': 64, 'epochs': 1250}\n",
      "train accuracy -0.465318 for: {'batch_size': 128, 'epochs': 10}\n",
      "train accuracy -0.445794 for: {'batch_size': 128, 'epochs': 50}\n",
      "train accuracy -0.445794 for: {'batch_size': 128, 'epochs': 250}\n",
      "train accuracy -0.445794 for: {'batch_size': 128, 'epochs': 1250}\n"
     ]
    }
   ],
   "source": [
    "print(\"Best: %f using %s\" % (grid_result.best_score_, grid_result.best_params_))\n",
    "\n",
    "means = grid_result.cv_results_['mean_test_score']\n",
    "\n",
    "params = grid_result.cv_results_['params']\n",
    "\n",
    "for mean, param in zip(means, params):\n",
    "    print(\"train accuracy %f for: %r\" % (mean, param))"
   ],
   "metadata": {
    "collapsed": false,
    "pycharm": {
     "name": "#%%\n"
    }
   }
  },
  {
   "cell_type": "code",
   "execution_count": 314,
   "outputs": [
    {
     "name": "stderr",
     "output_type": "stream",
     "text": [
      "/var/folders/nz/57m0v30s0kqdtdm5876x20qw0000gn/T/ipykernel_54900/3761777028.py:25: DeprecationWarning: KerasClassifier is deprecated, use Sci-Keras (https://github.com/adriangb/scikeras) instead. See https://www.adriangb.com/scikeras/stable/migration.html for help migrating.\n",
      "  model = KerasClassifier(build_fn=create_and_compile_model, verbose=0)\n"
     ]
    },
    {
     "name": "stdout",
     "output_type": "stream",
     "text": [
      "Model: \"sequential_22\"\n",
      "_________________________________________________________________\n",
      " Layer (type)                Output Shape              Param #   \n",
      "=================================================================\n",
      " dense_76 (Dense)            (None, 4)                 56        \n",
      "                                                                 \n",
      " dense_77 (Dense)            (None, 4)                 20        \n",
      "                                                                 \n",
      " dense_78 (Dense)            (None, 1)                 5         \n",
      "                                                                 \n",
      "=================================================================\n",
      "Total params: 81\n",
      "Trainable params: 81\n",
      "Non-trainable params: 0\n",
      "_________________________________________________________________\n",
      "Model: \"sequential_13\"\n",
      "_________________________________________________________________\n",
      " Layer (type)                Output Shape              Param #   \n",
      "=================================================================\n",
      " dense_50 (Dense)            (None, 4)                 56        \n",
      "                                                                 \n",
      " dense_51 (Dense)            (None, 4)                 20        \n",
      "                                                                 \n",
      " dense_52 (Dense)            (None, 1)                 5         \n",
      "                                                                 \n",
      "=================================================================\n",
      "Total params: 81\n",
      "Trainable params: 81\n",
      "Non-trainable params: 0\n",
      "_________________________________________________________________\n",
      "Model: \"sequential_7\"\n",
      "_________________________________________________________________\n",
      " Layer (type)                Output Shape              Param #   \n",
      "=================================================================\n",
      " dense_25 (Dense)            (None, 8)                 112       \n",
      "                                                                 \n",
      " dense_26 (Dense)            (None, 8)                 72        \n",
      "                                                                 \n",
      " dense_27 (Dense)            (None, 1)                 9         \n",
      "                                                                 \n",
      "=================================================================\n",
      "Total params: 193\n",
      "Trainable params: 193\n",
      "Non-trainable params: 0\n",
      "_________________________________________________________________\n",
      "Model: \"sequential_21\"\n",
      "_________________________________________________________________\n",
      " Layer (type)                Output Shape              Param #   \n",
      "=================================================================\n",
      " dense_74 (Dense)            (None, 16)                224       \n",
      "                                                                 \n",
      " dense_75 (Dense)            (None, 16)                272       \n",
      "                                                                 \n",
      " dense_76 (Dense)            (None, 1)                 17        \n",
      "                                                                 \n",
      "=================================================================\n",
      "Total params: 513\n",
      "Trainable params: 513\n",
      "Non-trainable params: 0\n",
      "_________________________________________________________________\n",
      "Model: \"sequential_10\"\n",
      "_________________________________________________________________\n",
      " Layer (type)                Output Shape              Param #   \n",
      "=================================================================\n",
      " dense_36 (Dense)            (None, 8)                 112       \n",
      "                                                                 \n",
      " dense_37 (Dense)            (None, 8)                 72        \n",
      "                                                                 \n",
      " dense_38 (Dense)            (None, 1)                 9         \n",
      "                                                                 \n",
      "=================================================================\n",
      "Total params: 193\n",
      "Trainable params: 193\n",
      "Non-trainable params: 0\n",
      "_________________________________________________________________\n",
      "Model: \"sequential_8\"\n",
      "_________________________________________________________________\n",
      " Layer (type)                Output Shape              Param #   \n",
      "=================================================================\n",
      " dense_28 (Dense)            (None, 8)                 112       \n",
      "                                                                 \n",
      " dense_29 (Dense)            (None, 8)                 72        \n",
      "                                                                 \n",
      " dense_30 (Dense)            (None, 1)                 9         \n",
      "                                                                 \n",
      "=================================================================\n",
      "Total params: 193\n",
      "Trainable params: 193\n",
      "Non-trainable params: 0\n",
      "_________________________________________________________________\n",
      "Model: \"sequential_13\"\n",
      "_________________________________________________________________\n",
      " Layer (type)                Output Shape              Param #   \n",
      "=================================================================\n",
      " dense_45 (Dense)            (None, 16)                224       \n",
      "                                                                 \n",
      " dense_46 (Dense)            (None, 16)                272       \n",
      "                                                                 \n",
      " dense_47 (Dense)            (None, 1)                 17        \n",
      "                                                                 \n",
      "=================================================================\n",
      "Total params: 513\n",
      "Trainable params: 513\n",
      "Non-trainable params: 0\n",
      "_________________________________________________________________\n",
      "Model: \"sequential_26\"\n",
      "_________________________________________________________________\n",
      " Layer (type)                Output Shape              Param #   \n",
      "=================================================================\n",
      " dense_86 (Dense)            (None, 4)                 56        \n",
      "                                                                 \n",
      " dense_87 (Dense)            (None, 4)                 20        \n",
      "                                                                 \n",
      " dense_88 (Dense)            (None, 1)                 5         \n",
      "                                                                 \n",
      "=================================================================\n",
      "Total params: 81\n",
      "Trainable params: 81\n",
      "Non-trainable params: 0\n",
      "_________________________________________________________________\n",
      "None\n",
      "--\n",
      "1/7 [===>..........................] - ETA: 0sNone\n",
      "--\n",
      "7/7 [==============================] - 0s 1ms/step\n",
      "7/7 [==============================] - 0s 1ms/step\n",
      "None\n",
      "--\n",
      "7/7 [==============================] - 0s 2ms/step\n",
      "None\n",
      "--\n",
      "1/7 [===>..........................] - ETA: 0sNone\n",
      "--\n",
      "7/7 [==============================] - 0s 2ms/step\n",
      "7/7 [==============================] - 0s 1ms/step\n",
      "None\n",
      "--\n",
      "7/7 [==============================] - 0s 964us/step\n",
      "Model: \"sequential_8\"\n",
      "_________________________________________________________________\n",
      " Layer (type)                Output Shape              Param #   \n",
      "=================================================================\n",
      " dense_28 (Dense)            (None, 16)                224       \n",
      "                                                                 \n",
      " dense_29 (Dense)            (None, 16)                272       \n",
      "                                                                 \n",
      " dense_30 (Dense)            (None, 1)                 17        \n",
      "                                                                 \n",
      "=================================================================\n",
      "Total params: 513\n",
      "Trainable params: 513\n",
      "Non-trainable params: 0\n",
      "_________________________________________________________________\n",
      "Model: \"sequential_14\"\n",
      "_________________________________________________________________\n",
      " Layer (type)                Output Shape              Param #   \n",
      "=================================================================\n",
      " dense_53 (Dense)            (None, 4)                 56        \n",
      "                                                                 \n",
      " dense_54 (Dense)            (None, 4)                 20        \n",
      "                                                                 \n",
      " dense_55 (Dense)            (None, 4)                 20        \n",
      "                                                                 \n",
      " dense_56 (Dense)            (None, 1)                 5         \n",
      "                                                                 \n",
      "=================================================================\n",
      "Total params: 101\n",
      "Trainable params: 101\n",
      "Non-trainable params: 0\n",
      "_________________________________________________________________\n",
      "Model: \"sequential_23\"\n",
      "_________________________________________________________________\n",
      " Layer (type)                Output Shape              Param #   \n",
      "=================================================================\n",
      " dense_79 (Dense)            (None, 4)                 56        \n",
      "                                                                 \n",
      " dense_80 (Dense)            (None, 4)                 20        \n",
      "                                                                 \n",
      " dense_81 (Dense)            (None, 4)                 20        \n",
      "                                                                 \n",
      " dense_82 (Dense)            (None, 1)                 5         \n",
      "                                                                 \n",
      "=================================================================\n",
      "Total params: 101\n",
      "Trainable params: 101\n",
      "Non-trainable params: 0\n",
      "_________________________________________________________________\n",
      "Model: \"sequential_11\"\n",
      "_________________________________________________________________\n",
      " Layer (type)                Output Shape              Param #   \n",
      "=================================================================\n",
      " dense_39 (Dense)            (None, 8)                 112       \n",
      "                                                                 \n",
      " dense_40 (Dense)            (None, 8)                 72        \n",
      "                                                                 \n",
      "Model: \"sequential_9\"\n",
      "_________________________________________________________________\n",
      " Layer (type)                Output Shape              Param #   \n",
      "=================================================================\n",
      " dense_41 (Dense)            (None, 8)                 72        \n",
      "                                                                 \n",
      " dense_42 (Dense)            (None, 1)                 9         \n",
      "                                                                 \n",
      "=================================================================\n",
      " dense_31 (Dense)            (None, 8)                 112       \n",
      "                                                                 \n",
      "Total params: 265\n",
      "Trainable params: 265\n",
      "Non-trainable params: 0\n",
      "_________________________________________________________________\n",
      " dense_32 (Dense)            (None, 8)                 72        \n",
      "                                                                 \n",
      "Model: \"sequential_22\"\n",
      "_________________________________________________________________\n",
      " dense_33 (Dense)            (None, 8)                 72        \n",
      "                                                                 \n",
      " Layer (type)                Output Shape              Param #   \n",
      "=================================================================\n",
      " dense_34 (Dense)            (None, 1)                 9         \n",
      "                                                                 \n",
      "=================================================================\n",
      " dense_77 (Dense)            (None, 4)                 56        \n",
      "                                                                 \n",
      "Total params: 265\n",
      "Trainable params: 265\n",
      "Non-trainable params: 0\n",
      "_________________________________________________________________\n",
      " dense_78 (Dense)            (None, 4)                 20        \n",
      "                                                                 \n",
      " dense_79 (Dense)            (None, 4)                 20        \n",
      "                                                                 \n",
      " dense_80 (Dense)            (None, 1)                 5         \n",
      "                                                                 \n",
      "=================================================================\n",
      "Total params: 101\n",
      "Trainable params: 101\n",
      "Non-trainable params: 0\n",
      "_________________________________________________________________\n",
      "None\n",
      "--\n",
      "7/7 [==============================] - 0s 1ms/step\n",
      "None\n",
      "--\n",
      "7/7 [==============================] - 0s 1ms/step\n",
      "Model: \"sequential_27\"\n",
      "_________________________________________________________________\n",
      " Layer (type)                Output Shape              Param #   \n",
      "=================================================================\n",
      " dense_89 (Dense)            (None, 8)                 112       \n",
      "                                                                 \n",
      " dense_90 (Dense)            (None, 8)                 72        \n",
      "                                                                 \n",
      " dense_91 (Dense)            (None, 8)                 72        \n",
      "                                                                 \n",
      " dense_92 (Dense)            (None, 1)                 9         \n",
      "                                                                 \n",
      "=================================================================\n",
      "Total params: 265\n",
      "Trainable params: 265\n",
      "Non-trainable params: 0\n",
      "_________________________________________________________________\n",
      "Model: \"sequential_14\"\n",
      "_________________________________________________________________\n",
      " Layer (type)                Output Shape              Param #   \n",
      "=================================================================\n",
      " dense_48 (Dense)            (None, 16)                224       \n",
      "                                                                 \n",
      " dense_49 (Dense)            (None, 16)                272       \n",
      "                                                                 \n",
      " dense_50 (Dense)            (None, 16)                272       \n",
      "                                                                 \n",
      " dense_51 (Dense)            (None, 1)                 17        \n",
      "                                                                 \n",
      "=================================================================\n",
      "Total params: 785\n",
      "Trainable params: 785\n",
      "Non-trainable params: 0\n",
      "_________________________________________________________________\n",
      "None\n",
      "--\n",
      "1/7 [===>..........................] - ETA: 0sNone\n",
      "--\n",
      "7/7 [==============================] - 0s 1ms/step\n",
      "7/7 [==============================] - 0s 1ms/step\n",
      "None\n",
      "--\n",
      "7/7 [==============================] - 0s 2ms/step\n",
      "None\n",
      "--\n",
      "7/7 [==============================] - 0s 2ms/step\n",
      "Model: \"sequential_24\"\n",
      "_________________________________________________________________\n",
      " Layer (type)                Output Shape              Param #   \n",
      "=================================================================\n",
      " dense_83 (Dense)            (None, 16)                224       \n",
      "                                                                 \n",
      " dense_84 (Dense)            (None, 16)                272       \n",
      "                                                                 \n",
      " dense_85 (Dense)            (None, 16)                272       \n",
      "                                                                 \n",
      " dense_86 (Dense)            (None, 1)                 17        \n",
      "                                                                 \n",
      "=================================================================\n",
      "Total params: 785\n",
      "Trainable params: 785\n",
      "Non-trainable params: 0\n",
      "_________________________________________________________________\n",
      "Model: \"sequential_12\"\n",
      "_________________________________________________________________\n",
      " Layer (type)                Output Shape              Param #   \n",
      "=================================================================\n",
      " dense_43 (Dense)            (None, 16)                224       \n",
      "                                                                 \n",
      " dense_44 (Dense)            (None, 16)                272       \n",
      "                                                                 \n",
      " dense_45 (Dense)            (None, 16)                272       \n",
      "                                                                 \n",
      " dense_46 (Dense)            (None, 1)                 17        \n",
      "                                                                 \n",
      "=================================================================\n",
      "Total params: 785\n",
      "Trainable params: 785\n",
      "Non-trainable params: 0\n",
      "_________________________________________________________________\n",
      "Model: \"sequential_15\"\n",
      "_________________________________________________________________\n",
      " Layer (type)                Output Shape              Param #   \n",
      "=================================================================\n",
      " dense_57 (Dense)            (None, 4)                 56        \n",
      "                                                                 \n",
      " dense_58 (Dense)            (None, 4)                 20        \n",
      "                                                                 \n",
      " dense_59 (Dense)            (None, 4)                 20        \n",
      "                                                                 \n",
      " dense_60 (Dense)            (None, 4)                 20        \n",
      "                                                                 \n",
      " dense_61 (Dense)            (None, 1)                 5         \n",
      "                                                                 \n",
      "=================================================================\n",
      "Total params: 121\n",
      "Trainable params: 121\n",
      "Non-trainable params: 0\n",
      "_________________________________________________________________\n",
      "Model: \"sequential_23\"\n",
      "_________________________________________________________________\n",
      " Layer (type)                Output Shape              Param #   \n",
      "=================================================================\n",
      " dense_81 (Dense)            (None, 4)                 56        \n",
      "                                                                 \n",
      " dense_82 (Dense)            (None, 4)                 20        \n",
      "                                                                 \n",
      " dense_83 (Dense)            (None, 4)                 20        \n",
      "                                                                 \n",
      " dense_84 (Dense)            (None, 4)                 20        \n",
      "                                                                 \n",
      " dense_85 (Dense)            (None, 1)                 5         \n",
      "                                                                 \n",
      "=================================================================\n",
      "Total params: 121\n",
      "Trainable params: 121\n",
      "Non-trainable params: 0\n",
      "_________________________________________________________________\n",
      "None\n",
      "--\n",
      "7/7 [==============================] - 0s 1ms/step\n",
      "Model: \"sequential_9\"\n",
      "_________________________________________________________________\n",
      " Layer (type)                Output Shape              Param #   \n",
      "=================================================================\n",
      " dense_31 (Dense)            (None, 4)                 56        \n",
      "                                                                 \n",
      " dense_32 (Dense)            (None, 4)                 20        \n",
      "                                                                 \n",
      " dense_33 (Dense)            (None, 4)                 20        \n",
      "                                                                 \n",
      " dense_34 (Dense)            (None, 4)                 20        \n",
      "                                                                 \n",
      " dense_35 (Dense)            (None, 1)                 5         \n",
      "                                                                 \n",
      "=================================================================\n",
      "Total params: 121\n",
      "Trainable params: 121\n",
      "Non-trainable params: 0\n",
      "_________________________________________________________________\n",
      "None\n",
      "--\n",
      "1/7 [===>..........................] - ETA: 0sNone\n",
      "--\n",
      "7/7 [==============================] - 0s 1ms/step\n",
      "7/7 [==============================] - 0s 1ms/step\n",
      "None\n",
      "--\n",
      "7/7 [==============================] - 0s 1ms/step\n",
      "Model: \"sequential_28\"\n",
      "_________________________________________________________________\n",
      " Layer (type)                Output Shape              Param #   \n",
      "=================================================================\n",
      " dense_93 (Dense)            (None, 8)                 112       \n",
      "                                                                 \n",
      " dense_94 (Dense)            (None, 8)                 72        \n",
      "                                                                 \n",
      " dense_95 (Dense)            (None, 8)                 72        \n",
      "                                                                 \n",
      " dense_96 (Dense)            (None, 8)                 72        \n",
      "                                                                 \n",
      " dense_97 (Dense)            (None, 1)                 9         \n",
      "                                                                 \n",
      "=================================================================\n",
      "Total params: 337\n",
      "Trainable params: 337\n",
      "Non-trainable params: 0\n",
      "_________________________________________________________________\n",
      "Model: \"sequential_10\"\n",
      "_________________________________________________________________\n",
      " Layer (type)                Output Shape              Param #   \n",
      "=================================================================\n",
      " dense_35 (Dense)            (None, 8)                 112       \n",
      "                                                                 \n",
      " dense_36 (Dense)            (None, 8)                 72        \n",
      "                                                                 \n",
      " dense_37 (Dense)            (None, 8)                 72        \n",
      "                                                                 \n",
      " dense_38 (Dense)            (None, 8)                 72        \n",
      "                                                                 \n",
      " dense_39 (Dense)            (None, 1)                 9         \n",
      "                                                                 \n",
      "=================================================================\n",
      "Total params: 337\n",
      "Trainable params: 337\n",
      "Non-trainable params: 0\n",
      "_________________________________________________________________\n",
      "Model: \"sequential_15\"\n",
      "_________________________________________________________________\n",
      " Layer (type)                Output Shape              Param #   \n",
      "=================================================================\n",
      " dense_52 (Dense)            (None, 8)                 112       \n",
      "                                                                 \n",
      " dense_53 (Dense)            (None, 8)                 72        \n",
      "                                                                 \n",
      " dense_54 (Dense)            (None, 8)                 72        \n",
      "                                                                 \n",
      " dense_55 (Dense)            (None, 8)                 72        \n",
      "                                                                 \n",
      " dense_56 (Dense)            (None, 1)                 9         \n",
      "                                                                 \n",
      "=================================================================\n",
      "Total params: 337\n",
      "Trainable params: 337\n",
      "Non-trainable params: 0\n",
      "_________________________________________________________________\n",
      "None\n",
      "--\n",
      "7/7 [==============================] - 0s 2ms/step\n",
      "None\n",
      "--\n",
      "7/7 [==============================] - 0s 994us/step\n",
      "Model: \"sequential_13\"\n",
      "_________________________________________________________________\n",
      " Layer (type)                Output Shape              Param #   \n",
      "=================================================================\n",
      " dense_47 (Dense)            (None, 16)                224       \n",
      "                                                                 \n",
      " dense_48 (Dense)            (None, 16)                272       \n",
      "                                                                 \n",
      " dense_49 (Dense)            (None, 16)                272       \n",
      "                                                                 \n",
      " dense_50 (Dense)            (None, 16)                272       \n",
      "                                                                 \n",
      " dense_51 (Dense)            (None, 1)                 17        \n",
      "                                                                 \n",
      "=================================================================\n",
      "Total params: 1,057\n",
      "Trainable params: 1,057\n",
      "Non-trainable params: 0\n",
      "_________________________________________________________________\n",
      "None\n",
      "--\n",
      "1/7 [===>..........................] - ETA: 0sNone\n",
      "--\n",
      "7/7 [==============================] - 0s 1ms/step\n",
      "Model: \"sequential_25\"\n",
      "_________________________________________________________________\n",
      " Layer (type)                Output Shape              Param #   \n",
      "=================================================================\n",
      " dense_87 (Dense)            (None, 16)                224       \n",
      "                                                                 \n",
      " dense_88 (Dense)            (None, 16)                272       \n",
      "                                                                 \n",
      " dense_89 (Dense)            (None, 16)                272       \n",
      "                                                                 \n",
      " dense_90 (Dense)            (None, 16)                272       \n",
      "                                                                 \n",
      " dense_91 (Dense)            (None, 1)                 17        \n",
      "                                                                 \n",
      "=================================================================\n",
      "Total params: 1,057\n",
      "Trainable params: 1,057\n",
      "Non-trainable params: 0\n",
      "_________________________________________________________________\n",
      "7/7 [==============================] - 0s 1ms/step\n",
      "Model: \"sequential_16\"\n",
      "_________________________________________________________________\n",
      " Layer (type)                Output Shape              Param #   \n",
      "=================================================================\n",
      " dense_62 (Dense)            (None, 16)                224       \n",
      "                                                                 \n",
      " dense_63 (Dense)            (None, 16)                272       \n",
      "                                                                 \n",
      " dense_64 (Dense)            (None, 16)                272       \n",
      "                                                                 \n",
      " dense_65 (Dense)            (None, 16)                272       \n",
      "                                                                 \n",
      " dense_66 (Dense)            (None, 1)                 17        \n",
      "                                                                 \n",
      "=================================================================\n",
      "Total params: 1,057\n",
      "Trainable params: 1,057\n",
      "Non-trainable params: 0\n",
      "_________________________________________________________________\n",
      "None\n",
      "--\n",
      "7/7 [==============================] - 0s 1ms/step\n",
      "Model: \"sequential_24\"\n",
      "_________________________________________________________________\n",
      " Layer (type)                Output Shape              Param #   \n",
      "=================================================================\n",
      " dense_86 (Dense)            (None, 4)                 56        \n",
      "                                                                 \n",
      " dense_87 (Dense)            (None, 4)                 20        \n",
      "                                                                 \n",
      " dense_88 (Dense)            (None, 4)                 20        \n",
      "                                                                 \n",
      " dense_89 (Dense)            (None, 4)                 20        \n",
      "                                                                 \n",
      " dense_90 (Dense)            (None, 4)                 20        \n",
      "                                                                 \n",
      " dense_91 (Dense)            (None, 1)                 5         \n",
      "                                                                 \n",
      "=================================================================\n",
      "Total params: 141\n",
      "Trainable params: 141\n",
      "Non-trainable params: 0\n",
      "_________________________________________________________________\n",
      "Model: \"sequential_10\"\n",
      "_________________________________________________________________\n",
      " Layer (type)                Output Shape              Param #   \n",
      "=================================================================\n",
      " dense_36 (Dense)            (None, 4)                 56        \n",
      "                                                                 \n",
      " dense_37 (Dense)            (None, 4)                 20        \n",
      "                                                                 \n",
      " dense_38 (Dense)            (None, 4)                 20        \n",
      "                                                                 \n",
      " dense_39 (Dense)            (None, 4)                 20        \n",
      "                                                                 \n",
      " dense_40 (Dense)            (None, 4)                 20        \n",
      "                                                                 \n",
      " dense_41 (Dense)            (None, 1)                 5         \n",
      "                                                                 \n",
      "=================================================================\n",
      "Total params: 141\n",
      "Trainable params: 141\n",
      "Non-trainable params: 0\n",
      "_________________________________________________________________\n",
      "None\n",
      "--\n",
      "1/7 [===>..........................] - ETA: 0sNone\n",
      "--\n",
      "7/7 [==============================] - 0s 1ms/step\n",
      "7/7 [==============================] - 0s 1ms/step\n",
      "None\n",
      "--\n",
      "7/7 [==============================] - 0s 1ms/step\n",
      "Model: \"sequential_29\"\n",
      "_________________________________________________________________\n",
      " Layer (type)                Output Shape              Param #   \n",
      "=================================================================\n",
      " dense_98 (Dense)            (None, 8)                 112       \n",
      "                                                                 \n",
      " dense_99 (Dense)            (None, 8)                 72        \n",
      "                                                                 \n",
      " dense_100 (Dense)           (None, 8)                 72        \n",
      "                                                                 \n",
      " dense_101 (Dense)           (None, 8)                 72        \n",
      "                                                                 \n",
      " dense_102 (Dense)           (None, 8)                 72        \n",
      "                                                                 \n",
      " dense_103 (Dense)           (None, 1)                 9         \n",
      "                                                                 \n",
      "=================================================================\n",
      "Total params: 409\n",
      "Trainable params: 409\n",
      "Non-trainable params: 0\n",
      "_________________________________________________________________\n",
      "Model: \"sequential_11\"\n",
      "_________________________________________________________________\n",
      " Layer (type)                Output Shape              Param #   \n",
      "=================================================================\n",
      " dense_40 (Dense)            (None, 4)                 56        \n",
      "                                                                 \n",
      " dense_41 (Dense)            (None, 4)                 20        \n",
      "                                                                 \n",
      " dense_42 (Dense)            (None, 4)                 20        \n",
      "                                                                 \n",
      " dense_43 (Dense)            (None, 4)                 20        \n",
      "                                                                 \n",
      " dense_44 (Dense)            (None, 4)                 20        \n",
      "                                                                 \n",
      " dense_45 (Dense)            (None, 1)                 5         \n",
      "                                                                 \n",
      "=================================================================\n",
      "Total params: 141\n",
      "Trainable params: 141\n",
      "Non-trainable params: 0\n",
      "_________________________________________________________________\n",
      "Model: \"sequential_16\"\n",
      "_________________________________________________________________\n",
      " Layer (type)                Output Shape              Param #   \n",
      "=================================================================\n",
      " dense_57 (Dense)            (None, 8)                 112       \n",
      "                                                                 \n",
      " dense_58 (Dense)            (None, 8)                 72        \n",
      "                                                                 \n",
      " dense_59 (Dense)            (None, 8)                 72        \n",
      "                                                                 \n",
      " dense_60 (Dense)            (None, 8)                 72        \n",
      "                                                                 \n",
      " dense_61 (Dense)            (None, 8)                 72        \n",
      "                                                                 \n",
      " dense_62 (Dense)            (None, 1)                 9         \n",
      "                                                                 \n",
      "=================================================================\n",
      "Total params: 409\n",
      "Trainable params: 409\n",
      "Non-trainable params: 0\n",
      "_________________________________________________________________\n",
      "None\n",
      "--\n",
      "1/7 [===>..........................] - ETA: 0sNone\n",
      "--\n",
      "7/7 [==============================] - 0s 1ms/step\n",
      "7/7 [==============================] - 0s 2ms/step\n",
      "None\n",
      "--\n",
      "7/7 [==============================] - 0s 1ms/step\n",
      "None\n",
      "--\n",
      "7/7 [==============================] - 0s 1ms/step\n",
      "Model: \"sequential_26\"\n",
      "_________________________________________________________________\n",
      " Layer (type)                Output Shape              Param #   \n",
      "=================================================================\n",
      " dense_92 (Dense)            (None, 16)                224       \n",
      "                                                                 \n",
      " dense_93 (Dense)            (None, 16)                272       \n",
      "                                                                 \n",
      " dense_94 (Dense)            (None, 16)                272       \n",
      "                                                                 \n",
      " dense_95 (Dense)            (None, 16)                272       \n",
      "                                                                 \n",
      " dense_96 (Dense)            (None, 16)                272       \n",
      "                                                                 \n",
      " dense_97 (Dense)            (None, 1)                 17        \n",
      "                                                                 \n",
      "=================================================================\n",
      "Total params: 1,329\n",
      "Trainable params: 1,329\n",
      "Non-trainable params: 0\n",
      "_________________________________________________________________\n",
      "Model: \"sequential_14\"\n",
      "_________________________________________________________________\n",
      " Layer (type)                Output Shape              Param #   \n",
      "=================================================================\n",
      " dense_52 (Dense)            (None, 8)                 112       \n",
      "                                                                 \n",
      " dense_53 (Dense)            (None, 8)                 72        \n",
      "                                                                 \n",
      " dense_54 (Dense)            (None, 8)                 72        \n",
      "                                                                 \n",
      " dense_55 (Dense)            (None, 8)                 72        \n",
      "                                                                 \n",
      " dense_56 (Dense)            (None, 8)                 72        \n",
      "                                                                 \n",
      " dense_57 (Dense)            (None, 1)                 9         \n",
      "                                                                 \n",
      "=================================================================\n",
      "Total params: 409\n",
      "Trainable params: 409\n",
      "Non-trainable params: 0\n",
      "_________________________________________________________________\n",
      "Model: \"sequential_11\"\n",
      "_________________________________________________________________\n",
      " Layer (type)                Output Shape              Param #   \n",
      "=================================================================\n",
      " dense_42 (Dense)            (None, 16)                224       \n",
      "                                                                 \n",
      " dense_43 (Dense)            (None, 16)                272       \n",
      "                                                                 \n",
      " dense_44 (Dense)            (None, 16)                272       \n",
      "                                                                 \n",
      " dense_45 (Dense)            (None, 16)                272       \n",
      "                                                                 \n",
      " dense_46 (Dense)            (None, 16)                272       \n",
      "                                                                 \n",
      " dense_47 (Dense)            (None, 1)                 17        \n",
      "                                                                 \n",
      "=================================================================\n",
      "Total params: 1,329\n",
      "Trainable params: 1,329\n",
      "Non-trainable params: 0\n",
      "_________________________________________________________________\n",
      "None\n",
      "--\n",
      "1/7 [===>..........................] - ETA: 0sNone\n",
      "--\n",
      "7/7 [==============================] - 0s 1ms/step\n",
      "Model: \"sequential_17\"\n",
      "_________________________________________________________________\n",
      " Layer (type)                Output Shape              Param #   \n",
      "=================================================================\n",
      " dense_67 (Dense)            (None, 16)                224       \n",
      "                                                                 \n",
      " dense_68 (Dense)            (None, 16)                272       \n",
      "                                                                 \n",
      " dense_69 (Dense)            (None, 16)                272       \n",
      "                                                                 \n",
      " dense_70 (Dense)            (None, 16)                272       \n",
      "                                                                 \n",
      " dense_71 (Dense)            (None, 16)                272       \n",
      "                                                                 \n",
      " dense_72 (Dense)            (None, 1)                 17        \n",
      "                                                                 \n",
      "=================================================================\n",
      "Total params: 1,329\n",
      "Trainable params: 1,329\n",
      "Non-trainable params: 0\n",
      "_________________________________________________________________\n",
      "7/7 [==============================] - 0s 1ms/step\n",
      "None\n",
      "--\n",
      "1/7 [===>..........................] - ETA: 0sNone\n",
      "--\n",
      "7/7 [==============================] - 0s 1ms/step\n",
      "7/7 [==============================] - 0s 1ms/step\n",
      "None\n",
      "--\n",
      "7/7 [==============================] - 0s 1ms/step\n",
      "None\n",
      "--\n",
      "7/7 [==============================] - 0s 642us/step\n",
      "None\n",
      "--\n",
      "7/7 [==============================] - 0s 582us/step\n",
      "None\n",
      "--\n",
      "7/7 [==============================] - 0s 615us/step\n",
      "Model: \"sequential_84\"\n",
      "_________________________________________________________________\n",
      " Layer (type)                Output Shape              Param #   \n",
      "=================================================================\n",
      " dense_275 (Dense)           (None, 8)                 112       \n",
      "                                                                 \n",
      " dense_276 (Dense)           (None, 8)                 72        \n",
      "                                                                 \n",
      " dense_277 (Dense)           (None, 8)                 72        \n",
      "                                                                 \n",
      " dense_278 (Dense)           (None, 8)                 72        \n",
      "                                                                 \n",
      " dense_279 (Dense)           (None, 8)                 72        \n",
      "                                                                 \n",
      " dense_280 (Dense)           (None, 1)                 9         \n",
      "                                                                 \n",
      "=================================================================\n",
      "Total params: 409\n",
      "Trainable params: 409\n",
      "Non-trainable params: 0\n",
      "_________________________________________________________________\n",
      "None\n",
      "--\n"
     ]
    }
   ],
   "source": [
    "def create_and_compile_model(num_neurons, num_layers):\n",
    "    # create model\n",
    "    model = keras.Sequential()\n",
    "    model.add(Dense(num_neurons, input_dim=number_of_inputs, activation='relu'))\n",
    "\n",
    "    if num_layers > 0:\n",
    "\n",
    "        while num_layers > 0:\n",
    "            model.add(Dense(num_neurons, activation='relu'))\n",
    "            num_layers=num_layers-1\n",
    "\n",
    "\n",
    "    model.add(Dense(1, activation='linear')) # output layer for regression\n",
    "\n",
    "    # Compile model\n",
    "    model.compile(optimizer='adam',\n",
    "                  loss='mse',\n",
    "                  metrics=[tf.keras.metrics.RootMeanSquaredError(), tf.keras.metrics.MeanAbsoluteError()])\n",
    "\n",
    "    print(model.summary())\n",
    "    print('--')\n",
    "\n",
    "    return model\n",
    "\n",
    "model = KerasClassifier(build_fn=create_and_compile_model, verbose=0)\n",
    "\n",
    "# define the grid search parameters\n",
    "num_neurons_grid = [4, 8, 16]\n",
    "num_layers_grid = [1, 2, 3, 4]\n",
    "\n",
    "param_grid = dict(num_neurons=num_neurons_grid, num_layers=num_layers_grid)\n",
    "\n",
    "grid = GridSearchCV(estimator=model, param_grid=param_grid, scoring='neg_root_mean_squared_error', n_jobs=-1, cv=3)\n",
    "\n",
    "grid_result = grid.fit(X_full, y_train_trx)"
   ],
   "metadata": {
    "collapsed": false,
    "pycharm": {
     "name": "#%%\n"
    }
   }
  },
  {
   "cell_type": "code",
   "execution_count": 315,
   "outputs": [
    {
     "name": "stdout",
     "output_type": "stream",
     "text": [
      "Best: -0.529124 using {'num_layers': 4, 'num_neurons': 8}\n",
      "train accuracy -0.561702 for: {'num_layers': 1, 'num_neurons': 4}\n",
      "train accuracy -0.556701 for: {'num_layers': 1, 'num_neurons': 8}\n",
      "train accuracy -0.574411 for: {'num_layers': 1, 'num_neurons': 16}\n",
      "train accuracy -0.543553 for: {'num_layers': 2, 'num_neurons': 4}\n",
      "train accuracy -0.576415 for: {'num_layers': 2, 'num_neurons': 8}\n",
      "train accuracy -0.554089 for: {'num_layers': 2, 'num_neurons': 16}\n",
      "train accuracy -0.576415 for: {'num_layers': 3, 'num_neurons': 4}\n",
      "train accuracy -0.576415 for: {'num_layers': 3, 'num_neurons': 8}\n",
      "train accuracy -0.568254 for: {'num_layers': 3, 'num_neurons': 16}\n",
      "train accuracy -0.576415 for: {'num_layers': 4, 'num_neurons': 4}\n",
      "train accuracy -0.529124 for: {'num_layers': 4, 'num_neurons': 8}\n",
      "train accuracy -0.559542 for: {'num_layers': 4, 'num_neurons': 16}\n"
     ]
    }
   ],
   "source": [
    "print(\"Best: %f using %s\" % (grid_result.best_score_, grid_result.best_params_))\n",
    "\n",
    "means = grid_result.cv_results_['mean_test_score']\n",
    "\n",
    "params = grid_result.cv_results_['params']\n",
    "\n",
    "for mean, param in zip(means, params):\n",
    "    print(\"train accuracy %f for: %r\" % (mean, param))"
   ],
   "metadata": {
    "collapsed": false,
    "pycharm": {
     "name": "#%%\n"
    }
   }
  },
  {
   "cell_type": "markdown",
   "source": [
    "#### Combining Sweep\n",
    "layers = 4\n",
    "neurons = 8\n",
    "batch_size = 8\n",
    "epochs = 10"
   ],
   "metadata": {
    "collapsed": false,
    "pycharm": {
     "name": "#%% md\n"
    }
   }
  },
  {
   "cell_type": "code",
   "execution_count": 321,
   "outputs": [
    {
     "name": "stdout",
     "output_type": "stream",
     "text": [
      "Fit model on training data\n",
      "Epoch 1/10\n",
      "76/76 [==============================] - 1s 3ms/step - loss: 0.1418 - root_mean_squared_error: 0.3766 - mean_absolute_error: 0.3126 - val_loss: 0.1180 - val_root_mean_squared_error: 0.3435 - val_mean_absolute_error: 0.2829\n",
      "Epoch 2/10\n",
      "76/76 [==============================] - 0s 1ms/step - loss: 0.1078 - root_mean_squared_error: 0.3283 - mean_absolute_error: 0.2748 - val_loss: 0.1108 - val_root_mean_squared_error: 0.3328 - val_mean_absolute_error: 0.2804\n",
      "Epoch 3/10\n",
      "76/76 [==============================] - 0s 1ms/step - loss: 0.1016 - root_mean_squared_error: 0.3188 - mean_absolute_error: 0.2688 - val_loss: 0.1087 - val_root_mean_squared_error: 0.3297 - val_mean_absolute_error: 0.2814\n",
      "Epoch 4/10\n",
      "76/76 [==============================] - 0s 1ms/step - loss: 0.0975 - root_mean_squared_error: 0.3122 - mean_absolute_error: 0.2636 - val_loss: 0.1051 - val_root_mean_squared_error: 0.3243 - val_mean_absolute_error: 0.2760\n",
      "Epoch 5/10\n",
      "76/76 [==============================] - 0s 1ms/step - loss: 0.0950 - root_mean_squared_error: 0.3083 - mean_absolute_error: 0.2621 - val_loss: 0.1042 - val_root_mean_squared_error: 0.3228 - val_mean_absolute_error: 0.2776\n",
      "Epoch 6/10\n",
      "76/76 [==============================] - 0s 1ms/step - loss: 0.0936 - root_mean_squared_error: 0.3059 - mean_absolute_error: 0.2601 - val_loss: 0.1040 - val_root_mean_squared_error: 0.3225 - val_mean_absolute_error: 0.2787\n",
      "Epoch 7/10\n",
      "76/76 [==============================] - 0s 1ms/step - loss: 0.0930 - root_mean_squared_error: 0.3050 - mean_absolute_error: 0.2597 - val_loss: 0.1037 - val_root_mean_squared_error: 0.3220 - val_mean_absolute_error: 0.2785\n",
      "Epoch 8/10\n",
      "76/76 [==============================] - 0s 1ms/step - loss: 0.0917 - root_mean_squared_error: 0.3029 - mean_absolute_error: 0.2578 - val_loss: 0.1038 - val_root_mean_squared_error: 0.3222 - val_mean_absolute_error: 0.2786\n",
      "Epoch 9/10\n",
      "76/76 [==============================] - 0s 1ms/step - loss: 0.0913 - root_mean_squared_error: 0.3022 - mean_absolute_error: 0.2567 - val_loss: 0.1034 - val_root_mean_squared_error: 0.3215 - val_mean_absolute_error: 0.2779\n",
      "Epoch 10/10\n",
      "76/76 [==============================] - 0s 1ms/step - loss: 0.0902 - root_mean_squared_error: 0.3003 - mean_absolute_error: 0.2550 - val_loss: 0.1068 - val_root_mean_squared_error: 0.3268 - val_mean_absolute_error: 0.2837\n",
      "Evaluate on test data\n",
      "17/17 [==============================] - 0s 846us/step - loss: 0.1068 - root_mean_squared_error: 0.3268 - mean_absolute_error: 0.2837\n",
      "test loss, test acc: [0.10681379586458206, 0.32682380080223083, 0.2836904525756836]\n",
      "Generate predictions for 42 samples\n",
      "2/2 [==============================] - 0s 2ms/step\n",
      "predictions shape: (42, 1)\n"
     ]
    }
   ],
   "source": [
    "model = keras.Sequential([layers.Dense(8, activation='relu', input_dim=number_of_inputs),\n",
    "                          layers.Dense(8, activation='relu'),\n",
    "                          layers.Dense(8, activation='relu'),\n",
    "                          layers.Dense(8, activation='relu'),\n",
    "                          layers.Dense(1, activation='linear') ]) # output layer for regression\n",
    "\n",
    "model.compile(optimizer='adam',\n",
    "              loss='mse',\n",
    "              metrics=[tf.keras.metrics.RootMeanSquaredError(), tf.keras.metrics.MeanAbsoluteError()])\n",
    "\n",
    "callback = tf.keras.callbacks.EarlyStopping(monitor='val_loss', patience=3)\n",
    "\n",
    "print(\"Fit model on training data\")\n",
    "history = model.fit(\n",
    "    X_full,\n",
    "    y_train_trx,\n",
    "    batch_size=8,\n",
    "    epochs=10,\n",
    "    # We pass some validation for\n",
    "    # monitoring validation loss and metrics\n",
    "    # at the end of each epoch\n",
    "    validation_data=(X_full_test, y_test_trx),\n",
    "    callbacks=[callback]\n",
    ")\n",
    "\n",
    "\n",
    "# Evaluate the model on the test data using `evaluate`\n",
    "print(\"Evaluate on test data\")\n",
    "results = model.evaluate(X_full_test, y_test_trx, batch_size=16)\n",
    "print(\"test loss, test acc:\", results)\n",
    "\n",
    "# Generate predictions (probabilities -- the output of the last layer)\n",
    "# on new data using `predict`\n",
    "print(\"Generate predictions for 42 samples\")\n",
    "predictions = model.predict(X_full_test.iloc[:42,])\n",
    "print(\"predictions shape:\", predictions.shape)"
   ],
   "metadata": {
    "collapsed": false,
    "pycharm": {
     "name": "#%%\n"
    }
   }
  },
  {
   "cell_type": "code",
   "execution_count": 333,
   "outputs": [
    {
     "name": "stdout",
     "output_type": "stream",
     "text": [
      "Fit model on training data\n",
      "Epoch 1/10\n",
      "76/76 [==============================] - 1s 3ms/step - loss: 0.4859 - root_mean_squared_error: 0.4510 - mean_absolute_error: 0.3685 - val_loss: 0.3570 - val_root_mean_squared_error: 0.3318 - val_mean_absolute_error: 0.2806\n",
      "Epoch 2/10\n",
      "76/76 [==============================] - 0s 1ms/step - loss: 0.3172 - root_mean_squared_error: 0.3181 - mean_absolute_error: 0.2702 - val_loss: 0.2909 - val_root_mean_squared_error: 0.3237 - val_mean_absolute_error: 0.2764\n",
      "Epoch 3/10\n",
      "76/76 [==============================] - 0s 2ms/step - loss: 0.2606 - root_mean_squared_error: 0.3110 - mean_absolute_error: 0.2649 - val_loss: 0.2460 - val_root_mean_squared_error: 0.3219 - val_mean_absolute_error: 0.2763\n",
      "Epoch 4/10\n",
      "76/76 [==============================] - 0s 1ms/step - loss: 0.2206 - root_mean_squared_error: 0.3080 - mean_absolute_error: 0.2625 - val_loss: 0.2135 - val_root_mean_squared_error: 0.3217 - val_mean_absolute_error: 0.2773\n",
      "Epoch 5/10\n",
      "76/76 [==============================] - 0s 1ms/step - loss: 0.1918 - root_mean_squared_error: 0.3067 - mean_absolute_error: 0.2608 - val_loss: 0.1894 - val_root_mean_squared_error: 0.3217 - val_mean_absolute_error: 0.2781\n",
      "Epoch 6/10\n",
      "76/76 [==============================] - 0s 1ms/step - loss: 0.1706 - root_mean_squared_error: 0.3061 - mean_absolute_error: 0.2608 - val_loss: 0.1716 - val_root_mean_squared_error: 0.3217 - val_mean_absolute_error: 0.2783\n",
      "Epoch 7/10\n",
      "76/76 [==============================] - 0s 1ms/step - loss: 0.1548 - root_mean_squared_error: 0.3062 - mean_absolute_error: 0.2609 - val_loss: 0.1591 - val_root_mean_squared_error: 0.3232 - val_mean_absolute_error: 0.2802\n",
      "Epoch 8/10\n",
      "76/76 [==============================] - 0s 1ms/step - loss: 0.1432 - root_mean_squared_error: 0.3064 - mean_absolute_error: 0.2604 - val_loss: 0.1493 - val_root_mean_squared_error: 0.3237 - val_mean_absolute_error: 0.2809\n",
      "Epoch 9/10\n",
      "76/76 [==============================] - 0s 1ms/step - loss: 0.1343 - root_mean_squared_error: 0.3065 - mean_absolute_error: 0.2606 - val_loss: 0.1397 - val_root_mean_squared_error: 0.3214 - val_mean_absolute_error: 0.2780\n",
      "Epoch 10/10\n",
      "76/76 [==============================] - 0s 1ms/step - loss: 0.1274 - root_mean_squared_error: 0.3068 - mean_absolute_error: 0.2610 - val_loss: 0.1337 - val_root_mean_squared_error: 0.3217 - val_mean_absolute_error: 0.2782\n",
      "Evaluate on test data\n",
      "17/17 [==============================] - 0s 722us/step - loss: 0.1337 - root_mean_squared_error: 0.3217 - mean_absolute_error: 0.2782\n",
      "test loss, test acc: [0.1336761713027954, 0.3216657340526581, 0.2782282829284668]\n",
      "Generate predictions for 42 samples\n",
      "2/2 [==============================] - 0s 2ms/step\n",
      "predictions shape: (42, 1)\n"
     ]
    }
   ],
   "source": [
    "factor = 0.01\n",
    "model = keras.Sequential([layers.Dense(8, activation='relu', input_dim=number_of_inputs, kernel_regularizer=regularizers.l2(factor)),\n",
    "                          layers.Dense(8, activation='relu', kernel_regularizer=regularizers.l2(factor)),\n",
    "                          layers.Dense(8, activation='relu', kernel_regularizer=regularizers.l2(factor)),\n",
    "                          layers.Dense(8, activation='relu', kernel_regularizer=regularizers.l2(factor)),\n",
    "                          layers.Dense(1, activation='linear') ]) # output layer for regression\n",
    "\n",
    "model.compile(optimizer='adam',\n",
    "              loss='mse',\n",
    "              metrics=[tf.keras.metrics.RootMeanSquaredError(), tf.keras.metrics.MeanAbsoluteError()])\n",
    "\n",
    "callback = tf.keras.callbacks.EarlyStopping(monitor='val_loss', patience=3)\n",
    "\n",
    "print(\"Fit model on training data\")\n",
    "history = model.fit(\n",
    "    X_full,\n",
    "    y_train_trx,\n",
    "    batch_size=8,\n",
    "    epochs=10,\n",
    "    # We pass some validation for\n",
    "    # monitoring validation loss and metrics\n",
    "    # at the end of each epoch\n",
    "    validation_data=(X_full_test, y_test_trx),\n",
    "    callbacks=[callback]\n",
    ")\n",
    "\n",
    "\n",
    "# Evaluate the model on the test data using `evaluate`\n",
    "print(\"Evaluate on test data\")\n",
    "results = model.evaluate(X_full_test, y_test_trx, batch_size=16)\n",
    "print(\"test loss, test acc:\", results)\n",
    "\n",
    "# Generate predictions (probabilities -- the output of the last layer)\n",
    "# on new data using `predict`\n",
    "print(\"Generate predictions for 42 samples\")\n",
    "predictions = model.predict(X_full_test.iloc[:42,])\n",
    "print(\"predictions shape:\", predictions.shape)"
   ],
   "metadata": {
    "collapsed": false,
    "pycharm": {
     "name": "#%%\n"
    }
   }
  },
  {
   "cell_type": "code",
   "execution_count": null,
   "outputs": [],
   "source": [],
   "metadata": {
    "collapsed": false,
    "pycharm": {
     "name": "#%%\n"
    }
   }
  }
 ],
 "metadata": {
  "kernelspec": {
   "display_name": "Python 3",
   "language": "python",
   "name": "python3"
  },
  "language_info": {
   "codemirror_mode": {
    "name": "ipython",
    "version": 2
   },
   "file_extension": ".py",
   "mimetype": "text/x-python",
   "name": "python",
   "nbconvert_exporter": "python",
   "pygments_lexer": "ipython2",
   "version": "2.7.6"
  }
 },
 "nbformat": 4,
 "nbformat_minor": 0
}