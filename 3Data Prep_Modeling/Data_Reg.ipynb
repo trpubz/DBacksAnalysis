{
 "cells": [
  {
   "cell_type": "markdown",
   "source": [
    "# Data Prep & Modeling\n",
    "## Filtering"
   ],
   "metadata": {
    "collapsed": false,
    "id": "3m83__aSeqPA"
   }
  },
  {
   "cell_type": "code",
   "execution_count": 1,
   "outputs": [
    {
     "name": "stdout",
     "output_type": "stream",
     "text": [
      "data-set shape prior to filtering: (867, 30)\n",
      "data-set shape after to filtering sac hits: (865, 30)\n",
      "data-set shape after to filtering missing spin observations: (859, 30)\n"
     ]
    }
   ],
   "source": [
    "import matplotlib.pyplot as plt\n",
    "import pandas as pd\n",
    "import numpy as np\n",
    "# Make numpy printouts easier to read.\n",
    "np.set_printoptions(precision=3, suppress=True)\n",
    "\n",
    "marte_raw = pd.read_csv('marte_vs_nlwest_19_22.csv',\n",
    "                        usecols=['pitch_type', 'game_date', 'release_speed', 'release_pos_x', 'release_pos_z', 'pitcher', 'zone', 'des', 'p_throws', 'bb_type', 'balls', 'strikes', 'game_year', 'pfx_x', 'pfx_z', 'hc_x', 'hc_y', 'hit_distance_sc', 'launch_speed', 'launch_angle', 'effective_speed', 'release_spin_rate', 'release_extension', 'estimated_woba_using_speedangle', 'woba_value', 'woba_denom', 'iso_value', 'launch_speed_angle', 'pitch_name', 'spin_axis'])\n",
    "\n",
    "# rename the primary response variable\n",
    "marte_raw.rename(columns={'estimated_woba_using_speedangle': 'xwOBA'}, inplace=True)\n",
    "print(f\"data-set shape prior to filtering: {marte_raw.shape}\")\n",
    "\n",
    "# filter sacrifice events; if woba_denom is NaN, then sacrifice event\n",
    "marte_raw.dropna(axis='rows', subset=['woba_denom'], how='any', inplace=True)\n",
    "print(f\"data-set shape after to filtering sac hits: {marte_raw.shape}\")\n",
    "\n",
    "# filter missing observation data\n",
    "marte_raw.dropna(axis='rows', subset=['release_spin_rate', 'spin_axis'], how='any', inplace=True)\n",
    "print(f\"data-set shape after to filtering missing spin observations: {marte_raw.shape}\")"
   ],
   "metadata": {
    "colab": {
     "base_uri": "https://localhost:8080/"
    },
    "id": "BjpJVOHZeqPD",
    "outputId": "8a3f1122-c3ed-40be-ede5-aad90efd49bf"
   }
  },
  {
   "cell_type": "markdown",
   "source": [
    "- release_speed\n",
    "    - Pitch velocities from 2008-16 are via Pitch F/X, and adjusted to roughly out-of-hand release point. All velocities from 2017 and beyond are Statcast, which are reported out-of-hand.\n",
    "- release_pos_x\n",
    "    - horizontal Release Position of the ball measured in feet from the catcher's perspective.\n",
    "- release_pos_z\n",
    "    - Vertical Release Position of the ball measured in feet from the catcher's perspective.\n",
    "- plate_x\n",
    "    - Horizontal position of the ball when it crosses home plate from the catcher's perspective.\n",
    "- plate_z\n",
    "    - Vertical position of the ball when it crosses home plate from the catcher's perspective.\n",
    "- pitcher\n",
    "    - MLB Player Id tied to the play event.\n",
    "- zone\n",
    "    - Zone location of the ball when it crosses the plate from the catcher's perspective.\n",
    "- pfx_x\n",
    "    - Horizontal movement in feet from the catcher's perspective.\n",
    "- pfx_z\n",
    "    - Vertical movement in feet from the catcher's perpsective.\n",
    "- effective_speed\n",
    "    - Derived speed based on the the extension of the pitcher's release.\n",
    "- release_spin\n",
    "    - Spin rate of pitch tracked by Statcast.\n",
    "- spin_axis\n",
    "    - The Spin Axis in the 2D X-Z plane in degrees from 0 to 360, such that 180 represents a pure backspin fastball and 0 degrees represents a pure topspin (12-6) curveball"
   ],
   "metadata": {
    "collapsed": false,
    "id": "LFY3TD-xeqPF"
   }
  },
  {
   "cell_type": "markdown",
   "source": [
    "## Filtering ext., Computed Features, NaN Conversions"
   ],
   "metadata": {
    "collapsed": false,
    "id": "wd6jzfWWeqPF"
   }
  },
  {
   "cell_type": "code",
   "execution_count": 2,
   "outputs": [
    {
     "name": "stdout",
     "output_type": "stream",
     "text": [
      "new data-set shape after to filtering for proper metrics: (859, 12)\n",
      "number of NaN xwOBA PAs prior to conversion: 184\n",
      "data-set shape after to filtering walks: (805, 13)\n",
      "   xwOBA  woba_value  game_year  pitcher p_throws pitch_type  release_speed  \\\n",
      "0  0.709         0.9       2022   596001        R         SI           92.9   \n",
      "1  0.262         0.0       2022   596001        R         SI           92.6   \n",
      "2  0.231         0.0       2022   596001        R         SI           93.0   \n",
      "3  0.117         0.0       2022   518397        L         SI           93.3   \n",
      "4  0.438         0.0       2022   502171        R         SI           94.1   \n",
      "\n",
      "   release_spin_rate  spin_axis  zone  pfx_x  pfx_z     pfx_v  \n",
      "0             2303.0      211.0     5  -1.15   0.68  1.336001  \n",
      "1             2316.0      204.0     9  -1.05   0.80  1.320038  \n",
      "2             2245.0      219.0     8  -1.13   0.79  1.378768  \n",
      "3             2189.0      135.0     8   1.19   0.28  1.222497  \n",
      "4             2126.0      221.0     4  -1.34   0.45  1.413542  \n"
     ]
    }
   ],
   "source": [
    "import numpy as np\n",
    "import math\n",
    "\n",
    "# filter raw set with proposed model metrics\n",
    "marte_vs = marte_raw.drop(columns=['game_date', 'release_pos_x', 'release_pos_z', 'des', 'bb_type', 'balls', 'strikes', 'hc_x', 'hc_y', 'hit_distance_sc', 'launch_speed', 'launch_angle', 'effective_speed', 'release_extension', 'woba_denom', 'iso_value', 'launch_speed_angle', 'pitch_name'])\n",
    "print(f\"new data-set shape after to filtering for proper metrics: {marte_vs.shape}\")\n",
    "\n",
    "# vectorize the horizontal & vertical movement using pythagorean theorem\n",
    "marte_vs['pfx_v'] = np.sqrt(marte_vs.pfx_x ** 2 + marte_vs.pfx_z ** 2)\n",
    "\n",
    "print(f\"number of NaN xwOBA PAs prior to conversion: {marte_vs.xwOBA.isnull().sum()}\")\n",
    "\n",
    "# convert xwOBA stat to 0.0 for strikeouts\n",
    "# if the xwOBA stat is NaN & a strikeout, then need to use the woba_value\n",
    "\n",
    "marte_vs['xwOBA'] = marte_vs.apply(lambda x: x.woba_value if (math.isnan(x.xwOBA) and x.woba_value == 0.0) else x.xwOBA, axis=1)\n",
    "\n",
    "# filter out walks, dropped 54 walks\n",
    "marte_vs.dropna(axis='rows', subset=['xwOBA'], how='any', inplace=True)\n",
    "print(f\"data-set shape after to filtering walks: {marte_vs.shape}\")\n",
    "\n",
    "# reorder columns for logical readability\n",
    "marte_vs = marte_vs.reindex(columns=['xwOBA', 'woba_value','game_year', 'pitcher', 'p_throws', 'pitch_type', 'release_speed', 'release_spin_rate', 'spin_axis', 'zone', 'pfx_x', 'pfx_z', 'pfx_v'])\n",
    "\n",
    "print(marte_vs.head())"
   ],
   "metadata": {
    "colab": {
     "base_uri": "https://localhost:8080/"
    },
    "id": "lXIpP4T_eqPF",
    "outputId": "836785a0-8c81-47e6-b56e-ae3c079fdb0d"
   }
  },
  {
   "cell_type": "code",
   "execution_count": 3,
   "outputs": [],
   "source": [
    "# exploration\n",
    "import seaborn as sns\n",
    "\n",
    "# sns.pairplot(marte_vs[['xwOBA', 'woba_value', 'p_throws', 'pitch_type', 'release_speed', 'release_spin_rate', 'spin_axis', 'zone', 'pfx_x', 'pfx_z', 'pfx_v']], corner=True)"
   ],
   "metadata": {
    "id": "2tGtudgVeqPG"
   }
  },
  {
   "cell_type": "code",
   "execution_count": 4,
   "outputs": [
    {
     "name": "stderr",
     "output_type": "stream",
     "text": [
      "/usr/local/lib/python3.10/site-packages/seaborn/distributions.py:316: UserWarning: Dataset has 0 variance; skipping density estimate. Pass `warn_singular=False` to disable this warning.\n",
      "  warnings.warn(msg, UserWarning)\n"
     ]
    },
    {
     "data": {
      "text/plain": "<AxesSubplot:xlabel='xwOBA', ylabel='Density'>"
     },
     "execution_count": 4,
     "metadata": {},
     "output_type": "execute_result"
    },
    {
     "data": {
      "text/plain": "<Figure size 432x288 with 1 Axes>",
      "image/png": "[encoded data removed]"
     },
     "metadata": {
      "needs_background": "light"
     },
     "output_type": "display_data"
    }
   ],
   "source": [
    "# sns.set(rc={\"figure.figsize\":(4, 7)})\n",
    "sns.kdeplot(marte_vs.xwOBA, hue=marte_vs.pitch_type)"
   ],
   "metadata": {
    "colab": {
     "base_uri": "https://localhost:8080/",
     "height": 0
    },
    "id": "gzmMsduveqPH",
    "outputId": "70f72061-c27e-492b-cfad-4e27123d2066"
   }
  },
  {
   "cell_type": "code",
   "execution_count": 5,
   "outputs": [],
   "source": [
    "# print\\\n",
    "#     (marte_vs.drop(['xwOBA', 'woba_value', 'game_year', 'pitcher'], axis='columns').describe())"
   ],
   "metadata": {
    "collapsed": false
   }
  },
  {
   "cell_type": "code",
   "execution_count": 6,
   "outputs": [
    {
     "data": {
      "text/plain": "<AxesSubplot:xlabel='xwOBA', ylabel='Count'>"
     },
     "execution_count": 6,
     "metadata": {},
     "output_type": "execute_result"
    },
    {
     "data": {
      "text/plain": "<Figure size 432x288 with 1 Axes>",
      "image/png": "[encoded data removed]"
     },
     "metadata": {
      "needs_background": "light"
     },
     "output_type": "display_data"
    }
   ],
   "source": [
    "sns.histplot(marte_vs, x='xwOBA')  # potential need for response transformation"
   ],
   "metadata": {
    "colab": {
     "base_uri": "https://localhost:8080/",
     "height": 0
    },
    "id": "M81N3oQTeqPH",
    "outputId": "40b7935f-467c-4e9c-a9dc-1fea2dcfc475"
   }
  },
  {
   "cell_type": "code",
   "execution_count": 7,
   "outputs": [
    {
     "data": {
      "text/plain": "<AxesSubplot:ylabel='Count'>"
     },
     "execution_count": 7,
     "metadata": {},
     "output_type": "execute_result"
    },
    {
     "data": {
      "text/plain": "<Figure size 432x288 with 1 Axes>",
      "image/png": "[encoded data removed]"
     },
     "metadata": {
      "needs_background": "light"
     },
     "output_type": "display_data"
    }
   ],
   "source": [
    "from sklearn.preprocessing import PowerTransformer\n",
    "\n",
    "# Yeo-Johnson transformation of output\n",
    "pt_out = PowerTransformer(standardize=True)\n",
    "# extract target and convert to 1D array\n",
    "y_xwOBA = marte_vs.xwOBA.to_numpy().reshape(-1, 1)\n",
    "# transformation\n",
    "trx_xwOBA = pt_out.fit_transform(y_xwOBA)\n",
    "sns.histplot(trx_xwOBA)"
   ],
   "metadata": {
    "colab": {
     "base_uri": "https://localhost:8080/",
     "height": 0
    },
    "id": "ya5e7LEAeqPH",
    "outputId": "f780d700-7b90-4b4a-e5c0-b09537306e92"
   }
  },
  {
   "cell_type": "code",
   "execution_count": 8,
   "outputs": [
    {
     "data": {
      "text/plain": "<AxesSubplot:ylabel='Count'>"
     },
     "execution_count": 8,
     "metadata": {},
     "output_type": "execute_result"
    },
    {
     "data": {
      "text/plain": "<Figure size 432x288 with 1 Axes>",
      "image/png": "[encoded data removed]"
     },
     "metadata": {
      "needs_background": "light"
     },
     "output_type": "display_data"
    }
   ],
   "source": [
    "from sklearn.preprocessing import QuantileTransformer, quantile_transform\n",
    "# qt transformation output\n",
    "\n",
    "qt_xwOBA = quantile_transform(y_xwOBA, n_quantiles=6, output_distribution=\"normal\", copy=True)\n",
    "sns.histplot(qt_xwOBA)"
   ],
   "metadata": {
    "colab": {
     "base_uri": "https://localhost:8080/",
     "height": 0
    },
    "id": "0fRKM2YPeqPI",
    "outputId": "4e55cdf6-5683-470d-ee11-39c04d2aa934"
   }
  },
  {
   "cell_type": "code",
   "execution_count": 9,
   "outputs": [
    {
     "data": {
      "text/plain": "<Figure size 432x432 with 3 Axes>",
      "image/png": "[encoded data removed]"
     },
     "metadata": {
      "needs_background": "light"
     },
     "output_type": "display_data"
    }
   ],
   "source": [
    "ff = marte_vs.groupby(['pitch_type']).get_group('FF')\n",
    "g = sns.jointplot(data=ff, x='release_spin_rate', y='release_speed', kind='hex')\n",
    "g.fig.suptitle(\"Raw\")\n",
    "g.fig.subplots_adjust(top=0.95)"
   ],
   "metadata": {
    "colab": {
     "base_uri": "https://localhost:8080/",
     "height": 0
    },
    "id": "DAO0DB6beqPI",
    "outputId": "38d36e71-8081-488f-bfd0-ce082ed786e7"
   }
  },
  {
   "cell_type": "code",
   "execution_count": 10,
   "outputs": [
    {
     "data": {
      "text/plain": "<Figure size 432x432 with 3 Axes>",
      "image/png": "[encoded data removed]"
     },
     "metadata": {
      "needs_background": "light"
     },
     "output_type": "display_data"
    }
   ],
   "source": [
    "# used for positive values\n",
    "pt = PowerTransformer(method='box-cox')\n",
    "bc_trx = pt.fit_transform(ff[['release_spin_rate', 'release_speed']])\n",
    "# convert to df\n",
    "bc_trx = pd.DataFrame(bc_trx, columns=pt.get_feature_names_out())\n",
    "\n",
    "g = sns.jointplot(data=bc_trx, x='release_spin_rate', y='release_speed', kind='hex')\n",
    "g.fig.suptitle(\"PowerTransformer\")\n",
    "g.fig.subplots_adjust(top=0.95)"
   ],
   "metadata": {
    "colab": {
     "base_uri": "https://localhost:8080/",
     "height": 0
    },
    "id": "Hx5BcYG8eqPI",
    "outputId": "3bc83867-9623-4def-bc4d-eb3fd91295ce"
   }
  },
  {
   "cell_type": "markdown",
   "source": [
    "## Transformations\n",
    "### Dummies\n",
    "A common mistake is to apply transformations to the entire data before splitting into training and test sets. This will bias the model evaluation because information would have leaked from the test set to the training set."
   ],
   "metadata": {
    "collapsed": false,
    "id": "k8-b34Z7eqPJ"
   }
  },
  {
   "cell_type": "code",
   "execution_count": 11,
   "outputs": [
    {
     "data": {
      "text/plain": "   xwOBA  woba_value  game_year  pitcher  release_speed  release_spin_rate  \\\n0  0.709         0.9       2022   596001           92.9             2303.0   \n1  0.262         0.0       2022   596001           92.6             2316.0   \n2  0.231         0.0       2022   596001           93.0             2245.0   \n3  0.117         0.0       2022   518397           93.3             2189.0   \n4  0.438         0.0       2022   502171           94.1             2126.0   \n\n   spin_axis  pfx_x  pfx_z     pfx_v  ...  zone_5  zone_6  zone_7  zone_8  \\\n0      211.0  -1.15   0.68  1.336001  ...       1       0       0       0   \n1      204.0  -1.05   0.80  1.320038  ...       0       0       0       0   \n2      219.0  -1.13   0.79  1.378768  ...       0       0       0       1   \n3      135.0   1.19   0.28  1.222497  ...       0       0       0       1   \n4      221.0  -1.34   0.45  1.413542  ...       0       0       0       0   \n\n   zone_9  zone_11  zone_12  zone_13  zone_14  p_throws_R  \n0       0        0        0        0        0           1  \n1       1        0        0        0        0           1  \n2       0        0        0        0        0           1  \n3       0        0        0        0        0           0  \n4       0        0        0        0        0           1  \n\n[5 rows x 33 columns]",
      "text/html": "<div>\n<style scoped>\n    .dataframe tbody tr th:only-of-type {\n        vertical-align: middle;\n    }\n\n    .dataframe tbody tr th {\n        vertical-align: top;\n    }\n\n    .dataframe thead th {\n        text-align: right;\n    }\n</style>\n<table border=\"1\" class=\"dataframe\">\n  <thead>\n    <tr style=\"text-align: right;\">\n      <th></th>\n      <th>xwOBA</th>\n      <th>woba_value</th>\n      <th>game_year</th>\n      <th>pitcher</th>\n      <th>release_speed</th>\n      <th>release_spin_rate</th>\n      <th>spin_axis</th>\n      <th>pfx_x</th>\n      <th>pfx_z</th>\n      <th>pfx_v</th>\n      <th>...</th>\n      <th>zone_5</th>\n      <th>zone_6</th>\n      <th>zone_7</th>\n      <th>zone_8</th>\n      <th>zone_9</th>\n      <th>zone_11</th>\n      <th>zone_12</th>\n      <th>zone_13</th>\n      <th>zone_14</th>\n      <th>p_throws_R</th>\n    </tr>\n  </thead>\n  <tbody>\n    <tr>\n      <th>0</th>\n      <td>0.709</td>\n      <td>0.9</td>\n      <td>2022</td>\n      <td>596001</td>\n      <td>92.9</td>\n      <td>2303.0</td>\n      <td>211.0</td>\n      <td>-1.15</td>\n      <td>0.68</td>\n      <td>1.336001</td>\n      <td>...</td>\n      <td>1</td>\n      <td>0</td>\n      <td>0</td>\n      <td>0</td>\n      <td>0</td>\n      <td>0</td>\n      <td>0</td>\n      <td>0</td>\n      <td>0</td>\n      <td>1</td>\n    </tr>\n    <tr>\n      <th>1</th>\n      <td>0.262</td>\n      <td>0.0</td>\n      <td>2022</td>\n      <td>596001</td>\n      <td>92.6</td>\n      <td>2316.0</td>\n      <td>204.0</td>\n      <td>-1.05</td>\n      <td>0.80</td>\n      <td>1.320038</td>\n      <td>...</td>\n      <td>0</td>\n      <td>0</td>\n      <td>0</td>\n      <td>0</td>\n      <td>1</td>\n      <td>0</td>\n      <td>0</td>\n      <td>0</td>\n      <td>0</td>\n      <td>1</td>\n    </tr>\n    <tr>\n      <th>2</th>\n      <td>0.231</td>\n      <td>0.0</td>\n      <td>2022</td>\n      <td>596001</td>\n      <td>93.0</td>\n      <td>2245.0</td>\n      <td>219.0</td>\n      <td>-1.13</td>\n      <td>0.79</td>\n      <td>1.378768</td>\n      <td>...</td>\n      <td>0</td>\n      <td>0</td>\n      <td>0</td>\n      <td>1</td>\n      <td>0</td>\n      <td>0</td>\n      <td>0</td>\n      <td>0</td>\n      <td>0</td>\n      <td>1</td>\n    </tr>\n    <tr>\n      <th>3</th>\n      <td>0.117</td>\n      <td>0.0</td>\n      <td>2022</td>\n      <td>518397</td>\n      <td>93.3</td>\n      <td>2189.0</td>\n      <td>135.0</td>\n      <td>1.19</td>\n      <td>0.28</td>\n      <td>1.222497</td>\n      <td>...</td>\n      <td>0</td>\n      <td>0</td>\n      <td>0</td>\n      <td>1</td>\n      <td>0</td>\n      <td>0</td>\n      <td>0</td>\n      <td>0</td>\n      <td>0</td>\n      <td>0</td>\n    </tr>\n    <tr>\n      <th>4</th>\n      <td>0.438</td>\n      <td>0.0</td>\n      <td>2022</td>\n      <td>502171</td>\n      <td>94.1</td>\n      <td>2126.0</td>\n      <td>221.0</td>\n      <td>-1.34</td>\n      <td>0.45</td>\n      <td>1.413542</td>\n      <td>...</td>\n      <td>0</td>\n      <td>0</td>\n      <td>0</td>\n      <td>0</td>\n      <td>0</td>\n      <td>0</td>\n      <td>0</td>\n      <td>0</td>\n      <td>0</td>\n      <td>1</td>\n    </tr>\n  </tbody>\n</table>\n<p>5 rows × 33 columns</p>\n</div>"
     },
     "execution_count": 11,
     "metadata": {},
     "output_type": "execute_result"
    }
   ],
   "source": [
    "marte_vs_trx = pd.get_dummies(data=marte_vs, columns=['pitch_type', 'zone'])\n",
    "marte_vs_trx = pd.get_dummies(data=marte_vs_trx, columns=['p_throws'], drop_first=True)\n",
    "marte_vs_trx.head()"
   ],
   "metadata": {
    "colab": {
     "base_uri": "https://localhost:8080/",
     "height": 0
    },
    "id": "84OYs0UjeqPJ",
    "outputId": "c585b648-7d5f-4f37-8af4-6d16a33516c9"
   }
  },
  {
   "cell_type": "markdown",
   "source": [
    "### Feature and output transformations"
   ],
   "metadata": {
    "collapsed": false,
    "id": "eOHPujHyeqPJ"
   }
  },
  {
   "cell_type": "code",
   "execution_count": null,
   "outputs": [],
   "source": [
    "from sklearn.model_selection import train_test_split\n",
    "import statsmodels.api as sm\n",
    "\n",
    "X = marte_vs_trx.drop(columns=['xwOBA', 'game_year', 'pitcher'])  # remove response var and extra features\n",
    "y = marte_vs.xwOBA\n",
    "# split data into training and testing sets\n",
    "\n",
    "X = sm.add_constant(X)   # only needed for sm (not smf)\n",
    "\n",
    "X_train, X_test, y_train, y_test = train_test_split(X, y, test_size=0.35, random_state=1642)\n",
    "\n",
    "print('Train set shape\\n', X_train.shape, y_train.shape)\n",
    "print('Test set shape\\n', X_test.shape, y_test.shape)\n",
    "print('---')\n",
    "\n",
    "# transform numerical data\n",
    "from sklearn.preprocessing import PowerTransformer, MinMaxScaler\n",
    "\n",
    "num_feats = ['release_speed', 'release_spin_rate', 'spin_axis', 'pfx_v', 'pfx_x', 'pfx_z']\n",
    "# used for positive values\n",
    "pt = PowerTransformer()\n",
    "# get a transformed series of numerical features\n",
    "X_train_trx = pt.fit_transform(X_train[num_feats])\n",
    "# overwrite raw numerical data\n",
    "X_train[num_feats] = X_train_trx\n",
    "\n",
    "# transform the test set with the trained lambdas\n",
    "X_test_trx = pt.transform(X_test[num_feats])\n",
    "# overwrite raw numerical dataframe\n",
    "X_test[num_feats] = X_test_trx\n",
    "############################\n",
    "# # normalize output\n",
    "mms = MinMaxScaler().fit(y_train.to_numpy().reshape(-1, 1))\n",
    "y_train_trx = pd.Series(map(lambda x: x[0], mms.transform(y_train.to_numpy().reshape(-1, 1))), index=y_train.index)\n",
    "# normalize on the test output, converted to a pandas.Series with the original indicies\n",
    "y_test_trx = pd.Series(map(lambda x: x[0], mms.transform(y_test.to_numpy().reshape(-1, 1))), index=y_test.index)\n",
    "\n",
    "# drop woba_value from feature after use in normalizing response\n",
    "X_train.drop(columns=['woba_value'], inplace=True)\n",
    "X_test.drop(columns=['woba_value'], inplace=True)\n",
    "\n",
    "print('Train trx set shape\\n', X_train_trx.shape, y_train_trx.shape)\n",
    "print('Test trx set shape\\n', X_test_trx.shape, y_test_trx.shape)\n",
    "print('---')"
   ],
   "metadata": {
    "colab": {
     "base_uri": "https://localhost:8080/"
    },
    "id": "ua5JsML8eqPJ",
    "outputId": "042f0b6e-7ecb-49aa-d3a9-1a0554da0670"
   }
  },
  {
   "cell_type": "markdown",
   "source": [
    "## Modeling\n",
    "### Naive Model\n",
    "*Note: did not transform the output for the naive model."
   ],
   "metadata": {
    "collapsed": false,
    "id": "8IiTdci1eqPK"
   }
  },
  {
   "cell_type": "code",
   "execution_count": null,
   "outputs": [],
   "source": [
    "# Marte's xwOBA for last 4 seasons ('19-'22) == .348\n",
    "from sklearn.metrics import *\n",
    "\n",
    "print(y.mean())\n",
    "y_same_xwOBA = pd.Series(.348, index=range(0, y_train.size))\n",
    "# if squared is false then rmse\n",
    "naive_rmse = mean_squared_error(y_true=y_train, y_pred=y_same_xwOBA, squared=False)\n",
    "print(f\"naive mse: {naive_rmse}\")\n",
    "\n",
    "naive_r2 = r2_score(y_true=y_train, y_pred=y_same_xwOBA)\n",
    "print(f\"naive r2 score: {naive_r2}\")"
   ],
   "metadata": {
    "colab": {
     "base_uri": "https://localhost:8080/"
    },
    "id": "FvUQkDpNeqPK",
    "outputId": "f156edcb-0b57-4917-f72d-fd9beeca1577"
   }
  },
  {
   "cell_type": "markdown",
   "source": [
    "### Classical Modeling\n",
    "#### Model 1 -- OLS full feature\n",
    "no spin axis feature"
   ],
   "metadata": {
    "collapsed": false,
    "id": "dK4hd1NPeqPK"
   }
  },
  {
   "cell_type": "code",
   "execution_count": null,
   "outputs": [],
   "source": [
    "model1_feats = ['const', 'release_speed', 'release_spin_rate', 'pfx_x', 'pfx_z', 'pfx_v', 'pitch_type_CH', 'pitch_type_CS', 'pitch_type_CU', 'pitch_type_FC', 'pitch_type_FF', 'pitch_type_FS', 'pitch_type_KC', 'pitch_type_SI', 'pitch_type_SL', 'zone_1', 'zone_2', 'zone_3', 'zone_4', 'zone_5', 'zone_6', 'zone_7', 'zone_8', 'zone_9', 'zone_11', 'zone_12', 'zone_13', 'zone_14', 'p_throws_R']\n",
    "model1 = sm.OLS(endog=y_train_trx, exog=X_train[model1_feats])\n",
    "results1 = model1.fit()\n",
    "print(results1.summary())\n",
    "print('--------------')"
   ],
   "metadata": {
    "colab": {
     "base_uri": "https://localhost:8080/"
    },
    "id": "QisFk4uGeqPK",
    "outputId": "d5ec5934-4a7b-4b61-c81c-42b7a51725b6"
   }
  },
  {
   "cell_type": "code",
   "execution_count": null,
   "outputs": [],
   "source": [
    "# model 1 evaluation\n",
    "xwOBA_pred1 = results1.predict(X_test[model1_feats])\n",
    "# xwOBA_pred1 = mms.inverse_transform(np.array(xwOBA_pred1).reshape(-1,1))\n",
    "m1_mse = mean_squared_error(y_test_trx, xwOBA_pred1, squared=False)\n",
    "print(f\"model1 mse: {m1_mse}\")\n",
    "\n",
    "m1_r2 = r2_score(y_test_trx, xwOBA_pred1)\n",
    "print(f\"model r2 score: {m1_r2}\")\n",
    "\n",
    "sns.scatterplot(y_test_trx, xwOBA_pred1).set(xlabel='True', ylabel='Predicted')"
   ],
   "metadata": {
    "id": "9ycjgV2YeqPL",
    "outputId": "488cbc85-31cf-4fc2-a25e-cf6300034ea1"
   }
  },
  {
   "cell_type": "markdown",
   "source": [
    "#### Model 2 -- OLS backward selection p-val"
   ],
   "metadata": {
    "collapsed": false,
    "id": "7dDfF5KjeqPL"
   }
  },
  {
   "cell_type": "code",
   "execution_count": null,
   "outputs": [],
   "source": [
    "# removed release_speed, p_throws_R, all zones\n",
    "model2_feats = ['const', 'release_spin_rate', 'pfx_v', 'pitch_type_CH', 'pitch_type_CS', 'pitch_type_CU', 'pitch_type_FC', 'pitch_type_FF', 'pitch_type_FS', 'pitch_type_KC', 'pitch_type_SI', 'pitch_type_SL']\n",
    "model2 = sm.OLS(endog=y_train_trx, exog=X_train[model2_feats])\n",
    "results2 = model2.fit()\n",
    "print(results2.summary())\n",
    "print('--------------')"
   ],
   "metadata": {
    "id": "UwmJOemDeqPL",
    "outputId": "dd50924b-7b54-4dde-ddc0-cdd95c1fe3cf"
   }
  },
  {
   "cell_type": "code",
   "execution_count": null,
   "outputs": [],
   "source": [
    "xwOBA_pred2 = results2.predict(X_test[model2_feats])\n",
    "\n",
    "m2_mse = mean_squared_error(y_test_trx, xwOBA_pred2, squared=False)\n",
    "print(f\"model2 mse: {m2_mse}\")\n",
    "\n",
    "m2_r2 = r2_score(y_test_trx, xwOBA_pred2)\n",
    "print(f\"model r2 score: {m2_r2}\")\n",
    "\n",
    "sns.scatterplot(y_test_trx, xwOBA_pred2)"
   ],
   "metadata": {
    "id": "1lO2ozMyeqPL",
    "outputId": "5383272f-24fb-4753-a210-59b80c6ccb50"
   }
  },
  {
   "cell_type": "markdown",
   "source": [
    "#### Model 2a -- RFE\n",
    "create a PolynomialFeatures with interactions for all variables"
   ],
   "metadata": {
    "collapsed": false
   }
  },
  {
   "cell_type": "code",
   "execution_count": null,
   "outputs": [],
   "source": [
    "from sklearn.preprocessing import PolynomialFeatures, OneHotEncoder\n",
    "\n",
    "cat_features = ['pitch_type', 'zone', 'p_throws']\n",
    "ohe = OneHotEncoder(sparse=False)\n",
    "# encode the 3 categorical features\n",
    "marte_vs_enc = ohe.fit_transform(marte_vs[cat_features])\n",
    "# need to keep index for proper concat\n",
    "# convert to df\n",
    "ohe_df = pd.DataFrame(marte_vs_enc, columns=ohe.get_feature_names_out(), index=marte_vs.index)\n",
    "# merge dataframes and drop redundant columns\n",
    "data = pd.concat([ohe_df, marte_vs], axis='columns').drop(columns=['pitch_type', 'zone', 'p_throws', 'game_year', 'pitcher', 'xwOBA', 'woba_value', 'spin_axis'], axis='columns')\n",
    "num_feats = ['release_speed', 'release_spin_rate', 'pfx_v']\n",
    "# normalize numerical features\n",
    "data[['release_speed', 'release_spin_rate', 'pfx_v']] = MinMaxScaler().fit_transform(data[num_feats])\n",
    "poly = PolynomialFeatures(interaction_only=True)\n",
    "# interaction dataframe with transformations\n",
    "#TODO: need to not combine pitch type interactions and zone interactions with themselves\n",
    "marte_vs_inter = pd.DataFrame(poly.fit_transform(data), columns=poly.get_feature_names_out(), index=marte_vs.index)"
   ],
   "metadata": {
    "collapsed": false
   }
  },
  {
   "cell_type": "code",
   "execution_count": null,
   "outputs": [],
   "source": [
    "###  Recursive Feature Elimination\n",
    "from sklearn.feature_selection import RFE\n",
    "from sklearn import linear_model\n",
    "\n",
    "scores = pd.DataFrame(columns=['scores','num features'])\n",
    "model2a = linear_model.LinearRegression()\n",
    "\n",
    "for k in range(1, marte_vs_inter.shape[1]):\n",
    "    # rfe = RFE(model, k)\n",
    "    rfe = RFE(estimator=model2a, n_features_to_select=k)\n",
    "    fit = rfe.fit(marte_vs_inter, marte_vs.xwOBA)\n",
    "    score = fit.score(marte_vs_inter, marte_vs.xwOBA)\n",
    "    run = pd.Series({'scores': score, 'features': k})\n",
    "    scores = pd.concat([scores, run.to_frame().T], ignore_index=True)\n",
    "    # f = fit.get_support(1) #the most important features\n",
    "    #\n",
    "    # # final_features = data[data.columns[f]] # final features: this gives wrong results\n",
    "    # final_features = X[X.columns[f]] # final features\n",
    "\n",
    "    print(\"Num Features: %d\" % fit.n_features_)\n",
    "    # print(\"Selected Features: %s\" % final_features.columns)\n",
    "    print(\"Score: %2.2f\" % score)\n",
    "    print(\"----------\")\n",
    "\n",
    "sns.lineplot(data=scores, x='features', y='scores')"
   ],
   "metadata": {
    "collapsed": false
   }
  },
  {
   "cell_type": "markdown",
   "source": [
    "#### Model 2b RFE"
   ],
   "metadata": {
    "collapsed": false
   }
  },
  {
   "cell_type": "code",
   "execution_count": null,
   "outputs": [],
   "source": [
    "scores = pd.DataFrame(columns=['test scores', 'train scores','num features'])\n",
    "\n",
    "model2b = linear_model.LinearRegression()\n",
    "\n",
    "for k in range(1, 33):\n",
    "    # rfe = RFE(model, k)\n",
    "\n",
    "    rfe = RFE(estimator=model2b, n_features_to_select=k)\n",
    "    fit = rfe.fit(X_train, y_train_trx)\n",
    "    train_score = fit.score(X_train, y_train_trx)\n",
    "    test_score = fit.score(X_test, y_test_trx)\n",
    "    if test_score < 0:\n",
    "        continue\n",
    "    run = pd.Series({'train scores': train_score, 'test scores': test_score,'num features': k})\n",
    "    scores = pd.concat([scores, run.to_frame().T], ignore_index=True)\n",
    "\n",
    "    f = fit.get_support(1) #the most important features\n",
    "    final_features = X_train[X_train.columns[f]] # final features\n",
    "\n",
    "    print(\"Num Features: %d\" % fit.n_features_)\n",
    "    print(\"Selected Features: %s\" % final_features.columns)\n",
    "    print(\"Test Score: %2.2f\" % test_score)\n",
    "    print(\"----------\")"
   ],
   "metadata": {
    "collapsed": false
   }
  },
  {
   "cell_type": "code",
   "execution_count": null,
   "outputs": [],
   "source": [
    "scores = scores.set_index('num features')\n",
    "sns.lineplot(data=scores)"
   ],
   "metadata": {
    "collapsed": false
   }
  },
  {
   "cell_type": "markdown",
   "source": [
    "#### Model 3 RFE | 3.5 Ridge regression"
   ],
   "metadata": {
    "collapsed": false,
    "id": "aHnIoZlpeqPL"
   }
  },
  {
   "cell_type": "code",
   "execution_count": null,
   "outputs": [],
   "source": [
    "from sklearn.linear_model import Ridge, LinearRegression\n",
    "\n",
    "model = Ridge()\n",
    "\n",
    "model3_feats = ['const', 'release_speed', 'release_spin_rate', 'spin_axis', 'pfx_v', 'pitch_type_CH', 'pitch_type_CS', 'pitch_type_CU', 'pitch_type_FC', 'pitch_type_FF', 'pitch_type_FS', 'pitch_type_KC', 'pitch_type_SI', 'pitch_type_SL', 'zone_1', 'zone_2', 'zone_3', 'zone_4', 'zone_5', 'zone_6', 'zone_7', 'zone_8', 'zone_9', 'zone_11', 'zone_12', 'zone_13', 'zone_14', 'p_throws_R']\n",
    "\n",
    "model3 = Ridge().fit(X=X_train[['spin_axis', 'pitch_type_CU', 'pitch_type_FF', 'pitch_type_FS',\n",
    "                              'zone_9']], y=y_train_trx)\n",
    "y_pred_mod3 = model3.predict(X_test[['spin_axis', 'pitch_type_CU', 'pitch_type_FF', 'pitch_type_FS',\n",
    "                        'zone_9']])\n",
    "\n",
    "m3_mse = mean_squared_error(y_test_trx, y_pred_mod3, squared=False)\n",
    "print(f\"model3 mse: {m3_mse}\")\n",
    "\n",
    "m3_r2 = r2_score(y_test_trx, y_pred_mod3)\n",
    "print(f\"model r2 score: {m3_r2}\")\n",
    "\n",
    "sns.scatterplot(y_test_trx, y_pred_mod3)"
   ],
   "metadata": {
    "id": "_ZeQvTNreqPM",
    "outputId": "dd5eb0a0-5f83-4cf7-e967-2b238cd4e2eb"
   }
  },
  {
   "cell_type": "code",
   "execution_count": null,
   "outputs": [],
   "source": [
    "# try groupby pitch_type\n",
    "# convert pitch dummies to single column\n",
    "org_pit_col_train = pd.from_dummies(X_train[['pitch_type_CH', 'pitch_type_CS', 'pitch_type_CU', 'pitch_type_FC', 'pitch_type_FF', 'pitch_type_FS', 'pitch_type_KC', 'pitch_type_SI', 'pitch_type_SL']], sep='pitch_type_')\n",
    "# drop dummy pitch_types from transformed train set\n",
    "X_train_grp_pit = X_train.drop(columns=['pitch_type_CH', 'pitch_type_CS', 'pitch_type_CU', 'pitch_type_FC', 'pitch_type_FF', 'pitch_type_FS', 'pitch_type_KC', 'pitch_type_SI', 'pitch_type_SL'], axis=1)\n",
    "# # add back zipped column, need to use .values attribute or will have index issues\n",
    "X_train_grp_pit['pitch_type'] = org_pit_col_train.values\n",
    "# # groupby pitch_type\n",
    "X_train_ff = X_train_grp_pit.groupby(['pitch_type']).get_group('FF')"
   ],
   "metadata": {
    "id": "2r-6zzzpeqPM"
   }
  },
  {
   "cell_type": "markdown",
   "source": [
    "#### Model 4 -- Single pitch filter"
   ],
   "metadata": {
    "collapsed": false,
    "id": "85_s12VpeqPM"
   }
  },
  {
   "cell_type": "code",
   "execution_count": null,
   "outputs": [],
   "source": [
    "# model4_feats = ['const', 'release_speed', 'release_spin_rate', 'spin_axis', 'pfx_v', 'zone_1', 'zone_2', 'zone_3', 'zone_4', 'zone_5', 'zone_6', 'zone_7', 'zone_8', 'zone_9', 'zone_11', 'zone_12', 'zone_13', 'zone_14', 'p_throws_R']\n",
    "# idx_ff = y_train_trx.index.intersection(X_train_ff.index)\n",
    "# y_train_trx_ff = y_train_trx.iloc[[670]]\n",
    "# # model4 = sm.OLS(endog=y_train_trx_ff, exog=X_train_ff[model4_feats])\n",
    "# # results4 = model4.fit()\n",
    "# # print(results4.summary())"
   ],
   "metadata": {
    "id": "L45sU7UweqPM"
   }
  }
 ],
 "metadata": {
  "kernelspec": {
   "display_name": "Python 3",
   "language": "python",
   "name": "python3"
  },
  "language_info": {
   "codemirror_mode": {
    "name": "ipython",
    "version": 2
   },
   "file_extension": ".py",
   "mimetype": "text/x-python",
   "name": "python",
   "nbconvert_exporter": "python",
   "pygments_lexer": "ipython2",
   "version": "2.7.6"
  },
  "colab": {
   "provenance": []
  }
 },
 "nbformat": 4,
 "nbformat_minor": 0
}
